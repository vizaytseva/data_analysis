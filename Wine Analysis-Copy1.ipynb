{
 "cells": [
  {
   "cell_type": "markdown",
   "id": "684a7321",
   "metadata": {},
   "source": [
    "Part 1. Техническая часть"
   ]
  },
  {
   "cell_type": "markdown",
   "id": "e63509c5",
   "metadata": {},
   "source": [
    "1.1 Загрузка данных"
   ]
  },
  {
   "cell_type": "code",
   "execution_count": 251,
   "id": "34923b76",
   "metadata": {},
   "outputs": [],
   "source": [
    "import os\n",
    "import glob\n",
    "import pandas as pd"
   ]
  },
  {
   "cell_type": "code",
   "execution_count": 252,
   "id": "593b7a14",
   "metadata": {
    "scrolled": true
   },
   "outputs": [
    {
     "data": {
      "text/plain": [
       "['reviews_argentina.csv',\n",
       " 'reviews_armenia.csv',\n",
       " 'reviews_australia.csv',\n",
       " 'reviews_austria.csv',\n",
       " 'reviews_bosnia_and_herzegovina.csv',\n",
       " 'reviews_brazil.csv',\n",
       " 'reviews_bulgaria.csv',\n",
       " 'reviews_canada.csv',\n",
       " 'reviews_chile.csv',\n",
       " 'reviews_china.csv',\n",
       " 'reviews_croatia.csv',\n",
       " 'reviews_cyprus.csv',\n",
       " 'reviews_czech_republic.csv',\n",
       " 'reviews_egypt.csv',\n",
       " 'reviews_england.csv',\n",
       " 'reviews_france.csv',\n",
       " 'reviews_georgia.csv',\n",
       " 'reviews_germany.csv',\n",
       " 'reviews_greece.csv',\n",
       " 'reviews_hungary.csv',\n",
       " 'reviews_india.csv',\n",
       " 'reviews_israel.csv',\n",
       " 'reviews_italy.csv',\n",
       " 'reviews_lebanon.csv',\n",
       " 'reviews_luxembourg.csv',\n",
       " 'reviews_macedonia.csv',\n",
       " 'reviews_mexico.csv',\n",
       " 'reviews_moldova.csv',\n",
       " 'reviews_morocco.csv',\n",
       " 'reviews_new_zealand.csv',\n",
       " 'reviews_peru.csv',\n",
       " 'reviews_portugal.csv',\n",
       " 'reviews_romania.csv',\n",
       " 'reviews_serbia.csv',\n",
       " 'reviews_slovakia.csv',\n",
       " 'reviews_slovenia.csv',\n",
       " 'reviews_south_africa.csv',\n",
       " 'reviews_spain.csv',\n",
       " 'reviews_switzerland.csv',\n",
       " 'reviews_turkey.csv',\n",
       " 'reviews_ukraine.csv',\n",
       " 'reviews_uruguay.csv',\n",
       " 'reviews_us.csv']"
      ]
     },
     "execution_count": 252,
     "metadata": {},
     "output_type": "execute_result"
    }
   ],
   "source": [
    "files = glob.glob('*.csv')\n",
    "files"
   ]
  },
  {
   "cell_type": "code",
   "execution_count": 253,
   "id": "d89752bb",
   "metadata": {},
   "outputs": [],
   "source": [
    "combined = pd.DataFrame()\n",
    "\n",
    "for file in files:\n",
    "    data = pd.read_csv(file, sep=';')\n",
    "    combined = pd.concat([combined, data])"
   ]
  },
  {
   "cell_type": "code",
   "execution_count": 254,
   "id": "f1eb8531",
   "metadata": {
    "scrolled": true
   },
   "outputs": [
    {
     "data": {
      "text/html": [
       "<div>\n",
       "<style scoped>\n",
       "    .dataframe tbody tr th:only-of-type {\n",
       "        vertical-align: middle;\n",
       "    }\n",
       "\n",
       "    .dataframe tbody tr th {\n",
       "        vertical-align: top;\n",
       "    }\n",
       "\n",
       "    .dataframe thead th {\n",
       "        text-align: right;\n",
       "    }\n",
       "</style>\n",
       "<table border=\"1\" class=\"dataframe\">\n",
       "  <thead>\n",
       "    <tr style=\"text-align: right;\">\n",
       "      <th></th>\n",
       "      <th>entry_id</th>\n",
       "      <th>country</th>\n",
       "      <th>description</th>\n",
       "      <th>designation</th>\n",
       "      <th>points</th>\n",
       "      <th>price</th>\n",
       "      <th>province</th>\n",
       "      <th>region</th>\n",
       "      <th>taster_name</th>\n",
       "      <th>title</th>\n",
       "      <th>variety</th>\n",
       "      <th>winery</th>\n",
       "    </tr>\n",
       "  </thead>\n",
       "  <tbody>\n",
       "    <tr>\n",
       "      <th>0</th>\n",
       "      <td>119966</td>\n",
       "      <td>Argentina</td>\n",
       "      <td>Raspberry and cassis aromas are fresh and upri...</td>\n",
       "      <td>Pedernal</td>\n",
       "      <td>90</td>\n",
       "      <td>43.0</td>\n",
       "      <td>Other</td>\n",
       "      <td>San Juan</td>\n",
       "      <td>Michael Schachner</td>\n",
       "      <td>Finca Las Moras 2010 Pedernal Malbec (San Juan)</td>\n",
       "      <td>Malbec</td>\n",
       "      <td>Finca Las Moras</td>\n",
       "    </tr>\n",
       "    <tr>\n",
       "      <th>1</th>\n",
       "      <td>119956</td>\n",
       "      <td>Argentina</td>\n",
       "      <td>Compared to the regular 2006 Malbec from Chaka...</td>\n",
       "      <td>Reserve</td>\n",
       "      <td>91</td>\n",
       "      <td>25.0</td>\n",
       "      <td>Mendoza Province</td>\n",
       "      <td>Luján de Cuyo</td>\n",
       "      <td>Michаеl Schаchnеr</td>\n",
       "      <td>Chakana 2006 Reserve Malbec (Luján de Cuyo)</td>\n",
       "      <td>Malbec</td>\n",
       "      <td>Chakana</td>\n",
       "    </tr>\n",
       "    <tr>\n",
       "      <th>2</th>\n",
       "      <td>119950</td>\n",
       "      <td>Argentina</td>\n",
       "      <td>Andeluna's top wines tend to be ripe and plump...</td>\n",
       "      <td>Pasionado</td>\n",
       "      <td>91</td>\n",
       "      <td>55.0</td>\n",
       "      <td>Mendoza Province</td>\n",
       "      <td>Uco Valley</td>\n",
       "      <td>Michael Schachner</td>\n",
       "      <td>Andeluna 2004 Pasionado Red (Uco Valley)</td>\n",
       "      <td>Red Blend</td>\n",
       "      <td>Andeluna</td>\n",
       "    </tr>\n",
       "    <tr>\n",
       "      <th>3</th>\n",
       "      <td>119943</td>\n",
       "      <td>Argentina</td>\n",
       "      <td>A lively, well-made blend of Tempranillo, Malb...</td>\n",
       "      <td>B Crux</td>\n",
       "      <td>91</td>\n",
       "      <td>24.0</td>\n",
       "      <td>Mendoza Province</td>\n",
       "      <td>Uco Valley</td>\n",
       "      <td>Michаel Schаchner</td>\n",
       "      <td>O. Fournier 2005 B Crux Red (Uco Valley)</td>\n",
       "      <td>Red Blend</td>\n",
       "      <td>O. Fournier</td>\n",
       "    </tr>\n",
       "    <tr>\n",
       "      <th>4</th>\n",
       "      <td>119939</td>\n",
       "      <td>Argentina</td>\n",
       "      <td>There is a select group of under-$20 Malbecs f...</td>\n",
       "      <td>La Madras Vineyard</td>\n",
       "      <td>91</td>\n",
       "      <td>18.0</td>\n",
       "      <td>Mendoza Province</td>\n",
       "      <td>Mendoza</td>\n",
       "      <td>Michаеl Schаchnеr</td>\n",
       "      <td>Ricardo Santos 2006 La Madras Vineyard Malbec ...</td>\n",
       "      <td>Malbec</td>\n",
       "      <td>Ricardo Santos</td>\n",
       "    </tr>\n",
       "    <tr>\n",
       "      <th>...</th>\n",
       "      <td>...</td>\n",
       "      <td>...</td>\n",
       "      <td>...</td>\n",
       "      <td>...</td>\n",
       "      <td>...</td>\n",
       "      <td>...</td>\n",
       "      <td>...</td>\n",
       "      <td>...</td>\n",
       "      <td>...</td>\n",
       "      <td>...</td>\n",
       "      <td>...</td>\n",
       "      <td>...</td>\n",
       "    </tr>\n",
       "    <tr>\n",
       "      <th>63063</th>\n",
       "      <td>13</td>\n",
       "      <td>US</td>\n",
       "      <td>Slightly reduced, this wine offers a chalky, t...</td>\n",
       "      <td>NaN</td>\n",
       "      <td>87</td>\n",
       "      <td>34.0</td>\n",
       "      <td>California</td>\n",
       "      <td>Alexander Valley</td>\n",
       "      <td>Virginiе Bооnе</td>\n",
       "      <td>Louis M. Martini 2012 Cabernet Sauvignon (Alex...</td>\n",
       "      <td>Cabernet Sauvignon</td>\n",
       "      <td>Louis M. Martini</td>\n",
       "    </tr>\n",
       "    <tr>\n",
       "      <th>63064</th>\n",
       "      <td>11</td>\n",
       "      <td>US</td>\n",
       "      <td>Soft, supple plum envelopes an oaky structure ...</td>\n",
       "      <td>Mountain Cuvée</td>\n",
       "      <td>87</td>\n",
       "      <td>19.0</td>\n",
       "      <td>California</td>\n",
       "      <td>Napa Valley</td>\n",
       "      <td>Virginiе Bооnе</td>\n",
       "      <td>Kirkland Signature 2011 Mountain Cuvée Caberne...</td>\n",
       "      <td>Cabernet Sauvignon</td>\n",
       "      <td>Kirkland Signature</td>\n",
       "    </tr>\n",
       "    <tr>\n",
       "      <th>63065</th>\n",
       "      <td>5</td>\n",
       "      <td>US</td>\n",
       "      <td>Much like the regular bottling from 2012, this...</td>\n",
       "      <td>Vintner's Reserve Wild Child Block</td>\n",
       "      <td>87</td>\n",
       "      <td>65.0</td>\n",
       "      <td>Oregon</td>\n",
       "      <td>Willamette Valley</td>\n",
       "      <td>Paul Gregutt</td>\n",
       "      <td>Sweet Cheeks 2012 Vintner's Reserve Wild Child...</td>\n",
       "      <td>Pinot Noir</td>\n",
       "      <td>Sweet Cheeks</td>\n",
       "    </tr>\n",
       "    <tr>\n",
       "      <th>63066</th>\n",
       "      <td>4</td>\n",
       "      <td>US</td>\n",
       "      <td>Pineapple rind, lemon pith and orange blossom ...</td>\n",
       "      <td>Reserve Late Harvest</td>\n",
       "      <td>87</td>\n",
       "      <td>13.0</td>\n",
       "      <td>Michigan</td>\n",
       "      <td>Lake Michigan Shore</td>\n",
       "      <td>Alexаnder Peаrtree</td>\n",
       "      <td>St. Julian 2013 Reserve Late Harvest Riesling ...</td>\n",
       "      <td>Riesling</td>\n",
       "      <td>St. Julian</td>\n",
       "    </tr>\n",
       "    <tr>\n",
       "      <th>63067</th>\n",
       "      <td>3</td>\n",
       "      <td>US</td>\n",
       "      <td>Tart and snappy, the flavors of lime flesh and...</td>\n",
       "      <td>NaN</td>\n",
       "      <td>87</td>\n",
       "      <td>14.0</td>\n",
       "      <td>Oregon</td>\n",
       "      <td>Willamette Valley</td>\n",
       "      <td>Paul Gregutt</td>\n",
       "      <td>Rainstorm 2013 Pinot Gris (Willamette Valley)</td>\n",
       "      <td>Pinot Gris</td>\n",
       "      <td>Rainstorm</td>\n",
       "    </tr>\n",
       "  </tbody>\n",
       "</table>\n",
       "<p>149908 rows × 12 columns</p>\n",
       "</div>"
      ],
      "text/plain": [
       "       entry_id    country                                        description  \\\n",
       "0        119966  Argentina  Raspberry and cassis aromas are fresh and upri...   \n",
       "1        119956  Argentina  Compared to the regular 2006 Malbec from Chaka...   \n",
       "2        119950  Argentina  Andeluna's top wines tend to be ripe and plump...   \n",
       "3        119943  Argentina  A lively, well-made blend of Tempranillo, Malb...   \n",
       "4        119939  Argentina  There is a select group of under-$20 Malbecs f...   \n",
       "...         ...        ...                                                ...   \n",
       "63063        13         US  Slightly reduced, this wine offers a chalky, t...   \n",
       "63064        11         US  Soft, supple plum envelopes an oaky structure ...   \n",
       "63065         5         US  Much like the regular bottling from 2012, this...   \n",
       "63066         4         US  Pineapple rind, lemon pith and orange blossom ...   \n",
       "63067         3         US  Tart and snappy, the flavors of lime flesh and...   \n",
       "\n",
       "                              designation  points  price          province  \\\n",
       "0                                Pedernal      90   43.0             Other   \n",
       "1                                 Reserve      91   25.0  Mendoza Province   \n",
       "2                               Pasionado      91   55.0  Mendoza Province   \n",
       "3                                  B Crux      91   24.0  Mendoza Province   \n",
       "4                      La Madras Vineyard      91   18.0  Mendoza Province   \n",
       "...                                   ...     ...    ...               ...   \n",
       "63063                                 NaN      87   34.0        California   \n",
       "63064                      Mountain Cuvée      87   19.0        California   \n",
       "63065  Vintner's Reserve Wild Child Block      87   65.0            Oregon   \n",
       "63066                Reserve Late Harvest      87   13.0          Michigan   \n",
       "63067                                 NaN      87   14.0            Oregon   \n",
       "\n",
       "                    region         taster_name  \\\n",
       "0                 San Juan   Michael Schachner   \n",
       "1            Luján de Cuyo   Michаеl Schаchnеr   \n",
       "2               Uco Valley   Michael Schachner   \n",
       "3               Uco Valley   Michаel Schаchner   \n",
       "4                  Mendoza   Michаеl Schаchnеr   \n",
       "...                    ...                 ...   \n",
       "63063     Alexander Valley      Virginiе Bооnе   \n",
       "63064          Napa Valley      Virginiе Bооnе   \n",
       "63065    Willamette Valley        Paul Gregutt   \n",
       "63066  Lake Michigan Shore  Alexаnder Peаrtree   \n",
       "63067    Willamette Valley        Paul Gregutt   \n",
       "\n",
       "                                                   title             variety  \\\n",
       "0        Finca Las Moras 2010 Pedernal Malbec (San Juan)              Malbec   \n",
       "1            Chakana 2006 Reserve Malbec (Luján de Cuyo)              Malbec   \n",
       "2               Andeluna 2004 Pasionado Red (Uco Valley)           Red Blend   \n",
       "3               O. Fournier 2005 B Crux Red (Uco Valley)           Red Blend   \n",
       "4      Ricardo Santos 2006 La Madras Vineyard Malbec ...              Malbec   \n",
       "...                                                  ...                 ...   \n",
       "63063  Louis M. Martini 2012 Cabernet Sauvignon (Alex...  Cabernet Sauvignon   \n",
       "63064  Kirkland Signature 2011 Mountain Cuvée Caberne...  Cabernet Sauvignon   \n",
       "63065  Sweet Cheeks 2012 Vintner's Reserve Wild Child...          Pinot Noir   \n",
       "63066  St. Julian 2013 Reserve Late Harvest Riesling ...            Riesling   \n",
       "63067      Rainstorm 2013 Pinot Gris (Willamette Valley)          Pinot Gris   \n",
       "\n",
       "                   winery  \n",
       "0         Finca Las Moras  \n",
       "1                 Chakana  \n",
       "2                Andeluna  \n",
       "3             O. Fournier  \n",
       "4          Ricardo Santos  \n",
       "...                   ...  \n",
       "63063    Louis M. Martini  \n",
       "63064  Kirkland Signature  \n",
       "63065        Sweet Cheeks  \n",
       "63066          St. Julian  \n",
       "63067           Rainstorm  \n",
       "\n",
       "[149908 rows x 12 columns]"
      ]
     },
     "execution_count": 254,
     "metadata": {},
     "output_type": "execute_result"
    }
   ],
   "source": [
    "combined"
   ]
  },
  {
   "cell_type": "code",
   "execution_count": 255,
   "id": "8f62f304",
   "metadata": {},
   "outputs": [
    {
     "name": "stdout",
     "output_type": "stream",
     "text": [
      "<class 'pandas.core.frame.DataFrame'>\n",
      "Int64Index: 149908 entries, 0 to 63067\n",
      "Data columns (total 12 columns):\n",
      " #   Column       Non-Null Count   Dtype  \n",
      "---  ------       --------------   -----  \n",
      " 0   entry_id     149908 non-null  int64  \n",
      " 1   country      149908 non-null  object \n",
      " 2   description  149908 non-null  object \n",
      " 3   designation  106749 non-null  object \n",
      " 4   points       149908 non-null  int64  \n",
      " 5   price        139418 non-null  float64\n",
      " 6   province     149908 non-null  object \n",
      " 7   region       125516 non-null  object \n",
      " 8   taster_name  118829 non-null  object \n",
      " 9   title        149908 non-null  object \n",
      " 10  variety      149906 non-null  object \n",
      " 11  winery       149908 non-null  object \n",
      "dtypes: float64(1), int64(2), object(9)\n",
      "memory usage: 14.9+ MB\n"
     ]
    }
   ],
   "source": [
    "combined.info()"
   ]
  },
  {
   "cell_type": "markdown",
   "id": "53153f2b",
   "metadata": {},
   "source": [
    "Вопросы:\n",
    "1. Какое количество строк в загруженном dataframe? \n",
    "Ответ: 149908\n",
    "2. Какое количество столбцов в загруженном dataframe?\n",
    "Ответ: 12"
   ]
  },
  {
   "cell_type": "markdown",
   "id": "d56283b4",
   "metadata": {},
   "source": [
    "1.2 Очистка данных"
   ]
  },
  {
   "cell_type": "markdown",
   "id": "c35cb29f",
   "metadata": {},
   "source": [
    "Удаляем дупликаты в датафрейме"
   ]
  },
  {
   "cell_type": "code",
   "execution_count": 256,
   "id": "6498a859",
   "metadata": {},
   "outputs": [
    {
     "data": {
      "text/plain": [
       "29979"
      ]
     },
     "execution_count": 256,
     "metadata": {},
     "output_type": "execute_result"
    }
   ],
   "source": [
    "# посмотрим сколько дупликатов\n",
    "\n",
    "duplicated = combined[combined.duplicated(subset=['entry_id'])]\n",
    "len(duplicated)"
   ]
  },
  {
   "cell_type": "code",
   "execution_count": 257,
   "id": "5ed2081b",
   "metadata": {},
   "outputs": [
    {
     "data": {
      "text/plain": [
       "119929"
      ]
     },
     "execution_count": 257,
     "metadata": {},
     "output_type": "execute_result"
    }
   ],
   "source": [
    "# удалим дупликаты\n",
    "\n",
    "no_dupl_df = combined.drop_duplicates(subset=['entry_id'])\n",
    "len(no_dupl_df)"
   ]
  },
  {
   "cell_type": "markdown",
   "id": "6f74f13f",
   "metadata": {},
   "source": [
    "Чистим от кирилических букв"
   ]
  },
  {
   "cell_type": "code",
   "execution_count": 258,
   "id": "15b26ca6",
   "metadata": {},
   "outputs": [
    {
     "data": {
      "text/plain": [
       "0         Michael Schachner\n",
       "1         Michаеl Schаchnеr\n",
       "2         Michael Schachner\n",
       "3         Michаel Schаchner\n",
       "4         Michаеl Schаchnеr\n",
       "                ...        \n",
       "63062        Virginiе Boonе\n",
       "63064        Virginiе Bооnе\n",
       "63065          Paul Gregutt\n",
       "63066    Alexаnder Peаrtree\n",
       "63067          Paul Gregutt\n",
       "Name: taster_name, Length: 119929, dtype: object"
      ]
     },
     "execution_count": 258,
     "metadata": {},
     "output_type": "execute_result"
    }
   ],
   "source": [
    "taster_name = no_dupl_df['taster_name']\n",
    "taster_name"
   ]
  },
  {
   "cell_type": "code",
   "execution_count": 259,
   "id": "e86a025b",
   "metadata": {
    "scrolled": true
   },
   "outputs": [
    {
     "data": {
      "text/plain": [
       "str"
      ]
     },
     "execution_count": 259,
     "metadata": {},
     "output_type": "execute_result"
    }
   ],
   "source": [
    "from transliterate import translit\n",
    "\n",
    "transl_name = str(taster_name)\n",
    "type(transl_name)"
   ]
  },
  {
   "cell_type": "code",
   "execution_count": 260,
   "id": "6c30d8b0",
   "metadata": {},
   "outputs": [
    {
     "data": {
      "text/plain": [
       "['а', 'е', 'о']"
      ]
     },
     "execution_count": 260,
     "metadata": {},
     "output_type": "execute_result"
    }
   ],
   "source": [
    "# на всякий случай сделаем проверку на кириллические символы\n",
    "\n",
    "cyril = ('абвгдеёжзийклмнопрстуфхцчшщъыьэюя')\n",
    "\n",
    "find_cyril = [x for x in cyril if x in transl_name]\n",
    "find_cyril"
   ]
  },
  {
   "cell_type": "code",
   "execution_count": 261,
   "id": "74d63af6",
   "metadata": {},
   "outputs": [
    {
     "data": {
      "text/plain": [
       "'0         Michael Schachner\\n1         Michael Schachner\\n2         Michael Schachner\\n3         Michael Schachner\\n4         Michael Schachner\\n                ...        \\n63062        Virginie Boone\\n63064        Virginie Boone\\n63065          Paul Gregutt\\n63066    Alexander Peartree\\n63067          Paul Gregutt\\nName: taster_name, Length: 119929, dtype: object'"
      ]
     },
     "execution_count": 261,
     "metadata": {},
     "output_type": "execute_result"
    }
   ],
   "source": [
    "# способ 1 - транлитерация всего текста, если мы не знаем, какие буквы на кирилице\n",
    "\n",
    "transl_name = translit(transl_name, language_code='ru', reversed=True)\n",
    "transl_name"
   ]
  },
  {
   "cell_type": "code",
   "execution_count": 262,
   "id": "35b70eed",
   "metadata": {},
   "outputs": [
    {
     "data": {
      "text/plain": [
       "[]"
      ]
     },
     "execution_count": 262,
     "metadata": {},
     "output_type": "execute_result"
    }
   ],
   "source": [
    "# проверяем, осталась ли кирилица\n",
    "\n",
    "cyril = ('абвгдеёжзийклмнопрстуфхцчшщъыьэюя')\n",
    "\n",
    "find_cyril = [x for x in cyril if x in transl_name]\n",
    "find_cyril"
   ]
  },
  {
   "cell_type": "code",
   "execution_count": 263,
   "id": "153cbc0b",
   "metadata": {},
   "outputs": [
    {
     "name": "stderr",
     "output_type": "stream",
     "text": [
      "C:\\Users\\vika1\\AppData\\Local\\Temp\\ipykernel_8580\\150102333.py:9: SettingWithCopyWarning: \n",
      "A value is trying to be set on a copy of a slice from a DataFrame.\n",
      "Try using .loc[row_indexer,col_indexer] = value instead\n",
      "\n",
      "See the caveats in the documentation: https://pandas.pydata.org/pandas-docs/stable/user_guide/indexing.html#returning-a-view-versus-a-copy\n",
      "  no_dupl_df['new_taster_name'] = taster_name_new.str.title()\n"
     ]
    },
    {
     "data": {
      "text/plain": [
       "0         Michael Schachner\n",
       "1         Michаеl Schаchnеr\n",
       "2         Michael Schachner\n",
       "3         Michаel Schаchner\n",
       "4         Michаеl Schаchnеr\n",
       "                ...        \n",
       "63062        Virginiе Boonе\n",
       "63064        Virginiе Bооnе\n",
       "63065          Paul Gregutt\n",
       "63066    Alexаnder Peаrtree\n",
       "63067          Paul Gregutt\n",
       "Name: new_taster_name, Length: 119929, dtype: object"
      ]
     },
     "execution_count": 263,
     "metadata": {},
     "output_type": "execute_result"
    }
   ],
   "source": [
    "# способоб 2 : так как нам известно, что на кирилице только \"a\", \"o\", \"e\", то можно заменить конкретно их\n",
    "\n",
    "taster_name_new = no_dupl_df['taster_name'].str.lower()\n",
    "\n",
    "trans = {'а':'a', 'o':'о', 'e':'е'}\n",
    "for s in trans:\n",
    "    taster_name_new = taster_name_new.replace(s, trans[s])\n",
    "\n",
    "no_dupl_df['new_taster_name'] = taster_name_new.str.title()\n",
    "no_dupl_df['new_taster_name']"
   ]
  },
  {
   "cell_type": "code",
   "execution_count": 264,
   "id": "0d756dc8",
   "metadata": {},
   "outputs": [
    {
     "data": {
      "text/plain": [
       "[]"
      ]
     },
     "execution_count": 264,
     "metadata": {},
     "output_type": "execute_result"
    }
   ],
   "source": [
    "# проверим второй способ\n",
    "\n",
    "cyril = ('абвгдеёжзийклмнопрстуфхцчшщъыьэюя')\n",
    "\n",
    "find_cyril = [x for x in cyril if x in taster_name_new]\n",
    "find_cyril"
   ]
  },
  {
   "cell_type": "code",
   "execution_count": 280,
   "id": "a69493cb",
   "metadata": {},
   "outputs": [
    {
     "data": {
      "text/plain": [
       "74"
      ]
     },
     "execution_count": 280,
     "metadata": {},
     "output_type": "execute_result"
    }
   ],
   "source": [
    "# посмотрим, сколько уникальных значений\n",
    "\n",
    "no_dupl_df.taster_name.nunique()"
   ]
  },
  {
   "cell_type": "markdown",
   "id": "9590a3ad",
   "metadata": {},
   "source": [
    "Вопросы:\n",
    "1. Какое количество строк в очищенном dataframe?\n",
    "Ответ: 119929\n",
    "2. Какое количество уникальных значений содержится в taster_name (вкл. NA )\n",
    "Ответ: 74"
   ]
  },
  {
   "cell_type": "markdown",
   "id": "15398c1c",
   "metadata": {},
   "source": [
    "1.3 Эксплораторный анализ"
   ]
  },
  {
   "cell_type": "markdown",
   "id": "7f6f736c",
   "metadata": {},
   "source": [
    "Задания:\n",
    "1. Для переменных points и price приведите набор описательных статистик:\n",
    "Среднее\n",
    "Медиана\n",
    "Стандартное отклонение"
   ]
  },
  {
   "cell_type": "code",
   "execution_count": 274,
   "id": "07a45ad9",
   "metadata": {
    "scrolled": true
   },
   "outputs": [
    {
     "data": {
      "text/plain": [
       "88.44214493575366"
      ]
     },
     "execution_count": 274,
     "metadata": {},
     "output_type": "execute_result"
    }
   ],
   "source": [
    "no_dupl_df['points'].mean()"
   ]
  },
  {
   "cell_type": "code",
   "execution_count": 272,
   "id": "c4355039",
   "metadata": {},
   "outputs": [
    {
     "data": {
      "text/plain": [
       "88.0"
      ]
     },
     "execution_count": 272,
     "metadata": {},
     "output_type": "execute_result"
    }
   ],
   "source": [
    "no_dupl_df['points'].median()"
   ]
  },
  {
   "cell_type": "code",
   "execution_count": 275,
   "id": "bd2a94f6",
   "metadata": {},
   "outputs": [
    {
     "data": {
      "text/plain": [
       "3.0932746182684188"
      ]
     },
     "execution_count": 275,
     "metadata": {},
     "output_type": "execute_result"
    }
   ],
   "source": [
    "no_dupl_df['points'].std()"
   ]
  },
  {
   "cell_type": "code",
   "execution_count": 276,
   "id": "a7e93633",
   "metadata": {},
   "outputs": [
    {
     "data": {
      "text/plain": [
       "35.6261094873496"
      ]
     },
     "execution_count": 276,
     "metadata": {},
     "output_type": "execute_result"
    }
   ],
   "source": [
    "no_dupl_df['price'].mean()"
   ]
  },
  {
   "cell_type": "code",
   "execution_count": 277,
   "id": "43ace463",
   "metadata": {},
   "outputs": [
    {
     "data": {
      "text/plain": [
       "25.0"
      ]
     },
     "execution_count": 277,
     "metadata": {},
     "output_type": "execute_result"
    }
   ],
   "source": [
    "no_dupl_df['price'].median()"
   ]
  },
  {
   "cell_type": "code",
   "execution_count": 278,
   "id": "e01248ef",
   "metadata": {},
   "outputs": [
    {
     "data": {
      "text/plain": [
       "42.11291028862946"
      ]
     },
     "execution_count": 278,
     "metadata": {},
     "output_type": "execute_result"
    }
   ],
   "source": [
    "no_dupl_df['price'].std()"
   ]
  },
  {
   "cell_type": "markdown",
   "id": "80fd7e90",
   "metadata": {},
   "source": [
    "2. Опишите связь между points и price\n",
    "Укажите коэффициент корреляции."
   ]
  },
  {
   "cell_type": "code",
   "execution_count": 279,
   "id": "eab8812c",
   "metadata": {},
   "outputs": [
    {
     "data": {
      "text/plain": [
       "0.4165616206391788"
      ]
     },
     "execution_count": 279,
     "metadata": {},
     "output_type": "execute_result"
    }
   ],
   "source": [
    "# коэффициент корреляции points and price\n",
    "\n",
    "no_dupl_df['points']. corr(no_dupl_df['price'])"
   ]
  },
  {
   "cell_type": "code",
   "execution_count": null,
   "id": "07a7c4f7",
   "metadata": {},
   "outputs": [],
   "source": [
    "\n",
    "\n"
   ]
  }
 ],
 "metadata": {
  "kernelspec": {
   "display_name": "Python 3 (ipykernel)",
   "language": "python",
   "name": "python3"
  },
  "language_info": {
   "codemirror_mode": {
    "name": "ipython",
    "version": 3
   },
   "file_extension": ".py",
   "mimetype": "text/x-python",
   "name": "python",
   "nbconvert_exporter": "python",
   "pygments_lexer": "ipython3",
   "version": "3.9.12"
  }
 },
 "nbformat": 4,
 "nbformat_minor": 5
}
