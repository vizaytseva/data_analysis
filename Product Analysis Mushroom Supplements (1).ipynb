{
 "cells": [
  {
   "cell_type": "code",
   "execution_count": 1,
   "id": "d256cb75",
   "metadata": {},
   "outputs": [
    {
     "name": "stderr",
     "output_type": "stream",
     "text": [
      "C:\\Users\\vika1\\anaconda3\\lib\\site-packages\\scipy\\__init__.py:146: UserWarning: A NumPy version >=1.16.5 and <1.23.0 is required for this version of SciPy (detected version 1.23.0\n",
      "  warnings.warn(f\"A NumPy version >={np_minversion} and <{np_maxversion}\"\n"
     ]
    }
   ],
   "source": [
    "import pandas as pd\n",
    "import numpy as np\n",
    "import plotly.express as px \n",
    "import matplotlib.pyplot as plt"
   ]
  },
  {
   "cell_type": "markdown",
   "id": "f7733c75",
   "metadata": {},
   "source": [
    "## Загружаем данные из hellium 11, в категории Health & Household - Niche: Mushroom supplements"
   ]
  },
  {
   "cell_type": "code",
   "execution_count": 3,
   "id": "e6be7148",
   "metadata": {
    "scrolled": true
   },
   "outputs": [
    {
     "data": {
      "text/html": [
       "<div>\n",
       "<style scoped>\n",
       "    .dataframe tbody tr th:only-of-type {\n",
       "        vertical-align: middle;\n",
       "    }\n",
       "\n",
       "    .dataframe tbody tr th {\n",
       "        vertical-align: top;\n",
       "    }\n",
       "\n",
       "    .dataframe thead th {\n",
       "        text-align: right;\n",
       "    }\n",
       "</style>\n",
       "<table border=\"1\" class=\"dataframe\">\n",
       "  <thead>\n",
       "    <tr style=\"text-align: right;\">\n",
       "      <th></th>\n",
       "      <th>ASIN</th>\n",
       "      <th>Title</th>\n",
       "      <th>P-Index</th>\n",
       "      <th>Category</th>\n",
       "      <th>Brand</th>\n",
       "      <th>Fulfillment</th>\n",
       "      <th>Size Tier</th>\n",
       "      <th>Number of Images</th>\n",
       "      <th>Variation Count</th>\n",
       "      <th>Weight</th>\n",
       "      <th>...</th>\n",
       "      <th>Monthly Revenue</th>\n",
       "      <th>Review Count</th>\n",
       "      <th>Reviews Rating</th>\n",
       "      <th>Sellers</th>\n",
       "      <th>Last Year Sales</th>\n",
       "      <th>Sales Year Over Year</th>\n",
       "      <th>Sales Trend (90 days)</th>\n",
       "      <th>Price Trend (90 days)</th>\n",
       "      <th>Best Sales Period</th>\n",
       "      <th>Sales to Reviews</th>\n",
       "    </tr>\n",
       "  </thead>\n",
       "  <tbody>\n",
       "    <tr>\n",
       "      <th>0</th>\n",
       "      <td>B078SJ9F5S</td>\n",
       "      <td>Genius Mushroom - Lions Mane, Cordyceps and Re...</td>\n",
       "      <td>NaN</td>\n",
       "      <td>Health &amp; Household</td>\n",
       "      <td>The Genius Brand</td>\n",
       "      <td>FBA</td>\n",
       "      <td>Large Standard-Size</td>\n",
       "      <td>8</td>\n",
       "      <td>3</td>\n",
       "      <td>0.200655</td>\n",
       "      <td>...</td>\n",
       "      <td>780256.65</td>\n",
       "      <td>37532</td>\n",
       "      <td>4.3</td>\n",
       "      <td>1</td>\n",
       "      <td>NaN</td>\n",
       "      <td>NaN</td>\n",
       "      <td>-3.0</td>\n",
       "      <td>1.0</td>\n",
       "      <td>Nov, 2023</td>\n",
       "      <td>0.95</td>\n",
       "    </tr>\n",
       "    <tr>\n",
       "      <th>1</th>\n",
       "      <td>B078SZX3ML</td>\n",
       "      <td>Lions Mane Mushroom Cognition Capsules (120 Ca...</td>\n",
       "      <td>NaN</td>\n",
       "      <td>Health &amp; Household</td>\n",
       "      <td>Real Mushrooms</td>\n",
       "      <td>FBA</td>\n",
       "      <td>Large Standard-Size</td>\n",
       "      <td>8</td>\n",
       "      <td>2</td>\n",
       "      <td>0.242550</td>\n",
       "      <td>...</td>\n",
       "      <td>686903.25</td>\n",
       "      <td>14571</td>\n",
       "      <td>4.5</td>\n",
       "      <td>2</td>\n",
       "      <td>286634.0</td>\n",
       "      <td>150.0</td>\n",
       "      <td>-35.0</td>\n",
       "      <td>8.0</td>\n",
       "      <td>Sep, 2023</td>\n",
       "      <td>1.57</td>\n",
       "    </tr>\n",
       "    <tr>\n",
       "      <th>2</th>\n",
       "      <td>B0BG6TGKZS</td>\n",
       "      <td>Lions Mane 3000mg 20in1 Mushroom Supplement wi...</td>\n",
       "      <td>NaN</td>\n",
       "      <td>Health &amp; Household</td>\n",
       "      <td>Clean Nutraceuticals</td>\n",
       "      <td>FBA</td>\n",
       "      <td>Large Standard-Size</td>\n",
       "      <td>9</td>\n",
       "      <td>0</td>\n",
       "      <td>0.149940</td>\n",
       "      <td>...</td>\n",
       "      <td>591242.95</td>\n",
       "      <td>3192</td>\n",
       "      <td>4.4</td>\n",
       "      <td>1</td>\n",
       "      <td>139163.0</td>\n",
       "      <td>NaN</td>\n",
       "      <td>52.0</td>\n",
       "      <td>-5.0</td>\n",
       "      <td>Jan, 2024</td>\n",
       "      <td>6.18</td>\n",
       "    </tr>\n",
       "    <tr>\n",
       "      <th>3</th>\n",
       "      <td>B0C4166SSW</td>\n",
       "      <td>Auri Super Mushroom Gummies - All-in-One Daily...</td>\n",
       "      <td>NaN</td>\n",
       "      <td>Health &amp; Household</td>\n",
       "      <td>Auri</td>\n",
       "      <td>FBM</td>\n",
       "      <td>Large Standard-Size</td>\n",
       "      <td>7</td>\n",
       "      <td>0</td>\n",
       "      <td>0.421155</td>\n",
       "      <td>...</td>\n",
       "      <td>376524.68</td>\n",
       "      <td>823</td>\n",
       "      <td>4.1</td>\n",
       "      <td>33</td>\n",
       "      <td>NaN</td>\n",
       "      <td>NaN</td>\n",
       "      <td>-35.0</td>\n",
       "      <td>21.0</td>\n",
       "      <td>Nov, 2023</td>\n",
       "      <td>9.15</td>\n",
       "    </tr>\n",
       "    <tr>\n",
       "      <th>4</th>\n",
       "      <td>B07RG8MMXW</td>\n",
       "      <td>Sustainably US Grown, Organic Mega Mushroom 10...</td>\n",
       "      <td>NaN</td>\n",
       "      <td>Health &amp; Household</td>\n",
       "      <td>Micro Ingredients</td>\n",
       "      <td>FBA</td>\n",
       "      <td>Large Standard-Size</td>\n",
       "      <td>8</td>\n",
       "      <td>6</td>\n",
       "      <td>0.659295</td>\n",
       "      <td>...</td>\n",
       "      <td>259247.2</td>\n",
       "      <td>7903</td>\n",
       "      <td>4.6</td>\n",
       "      <td>1</td>\n",
       "      <td>NaN</td>\n",
       "      <td>NaN</td>\n",
       "      <td>800.0</td>\n",
       "      <td>4.0</td>\n",
       "      <td>Jan, 2024</td>\n",
       "      <td>1.10</td>\n",
       "    </tr>\n",
       "  </tbody>\n",
       "</table>\n",
       "<p>5 rows × 23 columns</p>\n",
       "</div>"
      ],
      "text/plain": [
       "         ASIN                                              Title  P-Index  \\\n",
       "0  B078SJ9F5S  Genius Mushroom - Lions Mane, Cordyceps and Re...      NaN   \n",
       "1  B078SZX3ML  Lions Mane Mushroom Cognition Capsules (120 Ca...      NaN   \n",
       "2  B0BG6TGKZS  Lions Mane 3000mg 20in1 Mushroom Supplement wi...      NaN   \n",
       "3  B0C4166SSW  Auri Super Mushroom Gummies - All-in-One Daily...      NaN   \n",
       "4  B07RG8MMXW  Sustainably US Grown, Organic Mega Mushroom 10...      NaN   \n",
       "\n",
       "             Category                 Brand Fulfillment            Size Tier  \\\n",
       "0  Health & Household      The Genius Brand         FBA  Large Standard-Size   \n",
       "1  Health & Household        Real Mushrooms         FBA  Large Standard-Size   \n",
       "2  Health & Household  Clean Nutraceuticals         FBA  Large Standard-Size   \n",
       "3  Health & Household                  Auri         FBM  Large Standard-Size   \n",
       "4  Health & Household     Micro Ingredients         FBA  Large Standard-Size   \n",
       "\n",
       "   Number of Images  Variation Count    Weight  ...  Monthly Revenue  \\\n",
       "0                 8                3  0.200655  ...        780256.65   \n",
       "1                 8                2  0.242550  ...        686903.25   \n",
       "2                 9                0  0.149940  ...        591242.95   \n",
       "3                 7                0  0.421155  ...        376524.68   \n",
       "4                 8                6  0.659295  ...         259247.2   \n",
       "\n",
       "   Review Count  Reviews Rating Sellers  Last Year Sales  \\\n",
       "0         37532             4.3       1              NaN   \n",
       "1         14571             4.5       2         286634.0   \n",
       "2          3192             4.4       1         139163.0   \n",
       "3           823             4.1      33              NaN   \n",
       "4          7903             4.6       1              NaN   \n",
       "\n",
       "   Sales Year Over Year  Sales Trend (90 days)  Price Trend (90 days)  \\\n",
       "0                   NaN                   -3.0                    1.0   \n",
       "1                 150.0                  -35.0                    8.0   \n",
       "2                   NaN                   52.0                   -5.0   \n",
       "3                   NaN                  -35.0                   21.0   \n",
       "4                   NaN                  800.0                    4.0   \n",
       "\n",
       "   Best Sales Period  Sales to Reviews  \n",
       "0          Nov, 2023              0.95  \n",
       "1          Sep, 2023              1.57  \n",
       "2          Jan, 2024              6.18  \n",
       "3          Nov, 2023              9.15  \n",
       "4          Jan, 2024              1.10  \n",
       "\n",
       "[5 rows x 23 columns]"
      ]
     },
     "execution_count": 3,
     "metadata": {},
     "output_type": "execute_result"
    }
   ],
   "source": [
    "df = pd.read_csv(r\"D:\\Users\\vika1\\Downloads\\helium10-black-box-niche- mushroom supplements.csv\")\n",
    "df.head()"
   ]
  },
  {
   "cell_type": "markdown",
   "id": "5b29cc49",
   "metadata": {},
   "source": [
    "## Исследуем данные и приведем в более читаемый вид"
   ]
  },
  {
   "cell_type": "code",
   "execution_count": 4,
   "id": "6e0fd8d1",
   "metadata": {},
   "outputs": [
    {
     "name": "stdout",
     "output_type": "stream",
     "text": [
      "<class 'pandas.core.frame.DataFrame'>\n",
      "RangeIndex: 142 entries, 0 to 141\n",
      "Data columns (total 23 columns):\n",
      " #   Column                 Non-Null Count  Dtype  \n",
      "---  ------                 --------------  -----  \n",
      " 0   ASIN                   142 non-null    object \n",
      " 1   Title                  142 non-null    object \n",
      " 2   P-Index                0 non-null      float64\n",
      " 3   Category               142 non-null    object \n",
      " 4   Brand                  142 non-null    object \n",
      " 5   Fulfillment            142 non-null    object \n",
      " 6   Size Tier              139 non-null    object \n",
      " 7   Number of Images       142 non-null    int64  \n",
      " 8   Variation Count        142 non-null    int64  \n",
      " 9   Weight                 139 non-null    float64\n",
      " 10  BSR                    142 non-null    int64  \n",
      " 11  Price                  142 non-null    float64\n",
      " 12  Monthly Sales          142 non-null    int64  \n",
      " 13  Monthly Revenue        142 non-null    object \n",
      " 14  Review Count           142 non-null    int64  \n",
      " 15  Reviews Rating         142 non-null    float64\n",
      " 16  Sellers                142 non-null    int64  \n",
      " 17  Last Year Sales        45 non-null     float64\n",
      " 18  Sales Year Over Year   29 non-null     float64\n",
      " 19  Sales Trend (90 days)  105 non-null    float64\n",
      " 20  Price Trend (90 days)  86 non-null     float64\n",
      " 21  Best Sales Period      142 non-null    object \n",
      " 22  Sales to Reviews       142 non-null    float64\n",
      "dtypes: float64(9), int64(6), object(8)\n",
      "memory usage: 25.6+ KB\n"
     ]
    }
   ],
   "source": [
    "df.info()"
   ]
  },
  {
   "cell_type": "code",
   "execution_count": 6,
   "id": "cd644ed3",
   "metadata": {},
   "outputs": [
    {
     "data": {
      "text/plain": [
       "ASIN                       0\n",
       "Title                      0\n",
       "P-Index                  142\n",
       "Category                   0\n",
       "Brand                      0\n",
       "Fulfillment                0\n",
       "Size Tier                  3\n",
       "Number of Images           0\n",
       "Variation Count            0\n",
       "Weight                     3\n",
       "BSR                        0\n",
       "Price                      0\n",
       "Monthly Sales              0\n",
       "Monthly Revenue            0\n",
       "Review Count               0\n",
       "Reviews Rating             0\n",
       "Sellers                    0\n",
       "Last Year Sales           97\n",
       "Sales Year Over Year     113\n",
       "Sales Trend (90 days)     37\n",
       "Price Trend (90 days)     56\n",
       "Best Sales Period          0\n",
       "Sales to Reviews           0\n",
       "dtype: int64"
      ]
     },
     "execution_count": 6,
     "metadata": {},
     "output_type": "execute_result"
    }
   ],
   "source": [
    "df.isna().sum()"
   ]
  },
  {
   "cell_type": "code",
   "execution_count": 8,
   "id": "fd9be367",
   "metadata": {},
   "outputs": [
    {
     "data": {
      "text/plain": [
       "'Genius Mushroom - Lions Mane, Cordyceps and Reishi - Immune System Booster & Nootropic Brain Supplement - for Natural Energy, Memory & Liver Support, 90 Veggie Pills'"
      ]
     },
     "execution_count": 8,
     "metadata": {},
     "output_type": "execute_result"
    }
   ],
   "source": [
    "# посмотрим, что такое title\n",
    "df['Title']"
   ]
  },
  {
   "cell_type": "code",
   "execution_count": 14,
   "id": "77a428c6",
   "metadata": {},
   "outputs": [
    {
     "data": {
      "text/plain": [
       "['ASIN',\n",
       " 'Title',\n",
       " 'P-Index',\n",
       " 'Category',\n",
       " 'Brand',\n",
       " 'Fulfillment',\n",
       " 'Size Tier',\n",
       " 'Number of Images',\n",
       " 'Variation Count',\n",
       " 'Weight',\n",
       " 'BSR',\n",
       " 'Price',\n",
       " 'Monthly Sales',\n",
       " 'Monthly Revenue',\n",
       " 'Review Count',\n",
       " 'Reviews Rating',\n",
       " 'Sellers',\n",
       " 'Last Year Sales',\n",
       " 'Sales Year Over Year',\n",
       " 'Sales Trend (90 days)',\n",
       " 'Price Trend (90 days)',\n",
       " 'Best Sales Period',\n",
       " 'Sales to Reviews']"
      ]
     },
     "execution_count": 14,
     "metadata": {},
     "output_type": "execute_result"
    }
   ],
   "source": [
    "# посмотрим какие есть поля в датафрейме\n",
    "\n",
    "column_names = df.columns.values.tolist()\n",
    "column_names"
   ]
  },
  {
   "cell_type": "code",
   "execution_count": 59,
   "id": "e7c7cead",
   "metadata": {},
   "outputs": [
    {
     "data": {
      "text/html": [
       "<div>\n",
       "<style scoped>\n",
       "    .dataframe tbody tr th:only-of-type {\n",
       "        vertical-align: middle;\n",
       "    }\n",
       "\n",
       "    .dataframe tbody tr th {\n",
       "        vertical-align: top;\n",
       "    }\n",
       "\n",
       "    .dataframe thead th {\n",
       "        text-align: right;\n",
       "    }\n",
       "</style>\n",
       "<table border=\"1\" class=\"dataframe\">\n",
       "  <thead>\n",
       "    <tr style=\"text-align: right;\">\n",
       "      <th></th>\n",
       "      <th>ASIN</th>\n",
       "      <th>Title</th>\n",
       "      <th>Category</th>\n",
       "      <th>Brand</th>\n",
       "      <th>Price</th>\n",
       "      <th>Monthly Sales</th>\n",
       "      <th>Monthly Revenue</th>\n",
       "      <th>Review Count</th>\n",
       "      <th>Reviews Rating</th>\n",
       "      <th>Last Year Sales</th>\n",
       "      <th>Sales Year Over Year</th>\n",
       "      <th>Sales Trend (90 days)</th>\n",
       "      <th>Price Trend (90 days)</th>\n",
       "      <th>Best Sales Period</th>\n",
       "    </tr>\n",
       "  </thead>\n",
       "  <tbody>\n",
       "    <tr>\n",
       "      <th>0</th>\n",
       "      <td>B078SJ9F5S</td>\n",
       "      <td>Genius Mushroom - Lions Mane, Cordyceps and Re...</td>\n",
       "      <td>Health &amp; Household</td>\n",
       "      <td>The Genius Brand</td>\n",
       "      <td>21.95</td>\n",
       "      <td>35547</td>\n",
       "      <td>780256.65</td>\n",
       "      <td>37532</td>\n",
       "      <td>4.3</td>\n",
       "      <td>NaN</td>\n",
       "      <td>NaN</td>\n",
       "      <td>-3.0</td>\n",
       "      <td>1.0</td>\n",
       "      <td>Nov, 2023</td>\n",
       "    </tr>\n",
       "    <tr>\n",
       "      <th>1</th>\n",
       "      <td>B078SZX3ML</td>\n",
       "      <td>Lions Mane Mushroom Cognition Capsules (120 Ca...</td>\n",
       "      <td>Health &amp; Household</td>\n",
       "      <td>Real Mushrooms</td>\n",
       "      <td>29.95</td>\n",
       "      <td>22935</td>\n",
       "      <td>686903.25</td>\n",
       "      <td>14571</td>\n",
       "      <td>4.5</td>\n",
       "      <td>286634.0</td>\n",
       "      <td>150.0</td>\n",
       "      <td>-35.0</td>\n",
       "      <td>8.0</td>\n",
       "      <td>Sep, 2023</td>\n",
       "    </tr>\n",
       "    <tr>\n",
       "      <th>2</th>\n",
       "      <td>B0BG6TGKZS</td>\n",
       "      <td>Lions Mane 3000mg 20in1 Mushroom Supplement wi...</td>\n",
       "      <td>Health &amp; Household</td>\n",
       "      <td>Clean Nutraceuticals</td>\n",
       "      <td>29.95</td>\n",
       "      <td>19741</td>\n",
       "      <td>591242.95</td>\n",
       "      <td>3192</td>\n",
       "      <td>4.4</td>\n",
       "      <td>139163.0</td>\n",
       "      <td>NaN</td>\n",
       "      <td>52.0</td>\n",
       "      <td>-5.0</td>\n",
       "      <td>Jan, 2024</td>\n",
       "    </tr>\n",
       "    <tr>\n",
       "      <th>3</th>\n",
       "      <td>B0C4166SSW</td>\n",
       "      <td>Auri Super Mushroom Gummies - All-in-One Daily...</td>\n",
       "      <td>Health &amp; Household</td>\n",
       "      <td>Auri</td>\n",
       "      <td>49.99</td>\n",
       "      <td>7532</td>\n",
       "      <td>376524.68</td>\n",
       "      <td>823</td>\n",
       "      <td>4.1</td>\n",
       "      <td>NaN</td>\n",
       "      <td>NaN</td>\n",
       "      <td>-35.0</td>\n",
       "      <td>21.0</td>\n",
       "      <td>Nov, 2023</td>\n",
       "    </tr>\n",
       "    <tr>\n",
       "      <th>4</th>\n",
       "      <td>B07RG8MMXW</td>\n",
       "      <td>Sustainably US Grown, Organic Mega Mushroom 10...</td>\n",
       "      <td>Health &amp; Household</td>\n",
       "      <td>Micro Ingredients</td>\n",
       "      <td>29.95</td>\n",
       "      <td>8656</td>\n",
       "      <td>259247.2</td>\n",
       "      <td>7903</td>\n",
       "      <td>4.6</td>\n",
       "      <td>NaN</td>\n",
       "      <td>NaN</td>\n",
       "      <td>800.0</td>\n",
       "      <td>4.0</td>\n",
       "      <td>Jan, 2024</td>\n",
       "    </tr>\n",
       "    <tr>\n",
       "      <th>...</th>\n",
       "      <td>...</td>\n",
       "      <td>...</td>\n",
       "      <td>...</td>\n",
       "      <td>...</td>\n",
       "      <td>...</td>\n",
       "      <td>...</td>\n",
       "      <td>...</td>\n",
       "      <td>...</td>\n",
       "      <td>...</td>\n",
       "      <td>...</td>\n",
       "      <td>...</td>\n",
       "      <td>...</td>\n",
       "      <td>...</td>\n",
       "      <td>...</td>\n",
       "    </tr>\n",
       "    <tr>\n",
       "      <th>137</th>\n",
       "      <td>B0CP65J5V3</td>\n",
       "      <td>FORCE FACTOR Reishi Mushroom Supplement, Stres...</td>\n",
       "      <td>Health &amp; Household</td>\n",
       "      <td>Force Factor</td>\n",
       "      <td>13.14</td>\n",
       "      <td>1</td>\n",
       "      <td>13.14</td>\n",
       "      <td>15</td>\n",
       "      <td>4.2</td>\n",
       "      <td>NaN</td>\n",
       "      <td>NaN</td>\n",
       "      <td>NaN</td>\n",
       "      <td>7.0</td>\n",
       "      <td>Dec, 2023</td>\n",
       "    </tr>\n",
       "    <tr>\n",
       "      <th>138</th>\n",
       "      <td>B0CJ1HLSS4</td>\n",
       "      <td>Supreme Mushroom Gummies - 10 Mushroom Complex...</td>\n",
       "      <td>Health &amp; Household</td>\n",
       "      <td>BLAZE</td>\n",
       "      <td>11.95</td>\n",
       "      <td>1</td>\n",
       "      <td>11.95</td>\n",
       "      <td>-1</td>\n",
       "      <td>-1.0</td>\n",
       "      <td>NaN</td>\n",
       "      <td>NaN</td>\n",
       "      <td>0.0</td>\n",
       "      <td>-55.0</td>\n",
       "      <td>Jan, 2024</td>\n",
       "    </tr>\n",
       "    <tr>\n",
       "      <th>139</th>\n",
       "      <td>B0C8CVKGML</td>\n",
       "      <td>EARTH'S BIO Mushroom Supplement Complex 2,600 ...</td>\n",
       "      <td>Health &amp; Household</td>\n",
       "      <td>EARTH'S BIO</td>\n",
       "      <td>14.70</td>\n",
       "      <td>0</td>\n",
       "      <td>-</td>\n",
       "      <td>28</td>\n",
       "      <td>4.5</td>\n",
       "      <td>NaN</td>\n",
       "      <td>NaN</td>\n",
       "      <td>0.0</td>\n",
       "      <td>-9.0</td>\n",
       "      <td>Dec, 2023</td>\n",
       "    </tr>\n",
       "    <tr>\n",
       "      <th>140</th>\n",
       "      <td>B0CBLY77DV</td>\n",
       "      <td>Holistic Lifestyles Mushroom 10X Mushroom Comp...</td>\n",
       "      <td>Health &amp; Household</td>\n",
       "      <td>Holistic Lifestyles</td>\n",
       "      <td>12.99</td>\n",
       "      <td>0</td>\n",
       "      <td>-</td>\n",
       "      <td>-1</td>\n",
       "      <td>-1.0</td>\n",
       "      <td>NaN</td>\n",
       "      <td>NaN</td>\n",
       "      <td>0.0</td>\n",
       "      <td>-17.0</td>\n",
       "      <td>Aug, 2023</td>\n",
       "    </tr>\n",
       "    <tr>\n",
       "      <th>141</th>\n",
       "      <td>B0CKL7J3KR</td>\n",
       "      <td>Turkey Tail Mushroom Tincture Extract Liquid D...</td>\n",
       "      <td>Health &amp; Household</td>\n",
       "      <td>South Bay Extracts</td>\n",
       "      <td>15.99</td>\n",
       "      <td>0</td>\n",
       "      <td>-</td>\n",
       "      <td>-1</td>\n",
       "      <td>-1.0</td>\n",
       "      <td>NaN</td>\n",
       "      <td>NaN</td>\n",
       "      <td>NaN</td>\n",
       "      <td>NaN</td>\n",
       "      <td>-</td>\n",
       "    </tr>\n",
       "  </tbody>\n",
       "</table>\n",
       "<p>142 rows × 14 columns</p>\n",
       "</div>"
      ],
      "text/plain": [
       "           ASIN                                              Title  \\\n",
       "0    B078SJ9F5S  Genius Mushroom - Lions Mane, Cordyceps and Re...   \n",
       "1    B078SZX3ML  Lions Mane Mushroom Cognition Capsules (120 Ca...   \n",
       "2    B0BG6TGKZS  Lions Mane 3000mg 20in1 Mushroom Supplement wi...   \n",
       "3    B0C4166SSW  Auri Super Mushroom Gummies - All-in-One Daily...   \n",
       "4    B07RG8MMXW  Sustainably US Grown, Organic Mega Mushroom 10...   \n",
       "..          ...                                                ...   \n",
       "137  B0CP65J5V3  FORCE FACTOR Reishi Mushroom Supplement, Stres...   \n",
       "138  B0CJ1HLSS4  Supreme Mushroom Gummies - 10 Mushroom Complex...   \n",
       "139  B0C8CVKGML  EARTH'S BIO Mushroom Supplement Complex 2,600 ...   \n",
       "140  B0CBLY77DV  Holistic Lifestyles Mushroom 10X Mushroom Comp...   \n",
       "141  B0CKL7J3KR  Turkey Tail Mushroom Tincture Extract Liquid D...   \n",
       "\n",
       "               Category                 Brand  Price  Monthly Sales  \\\n",
       "0    Health & Household      The Genius Brand  21.95          35547   \n",
       "1    Health & Household        Real Mushrooms  29.95          22935   \n",
       "2    Health & Household  Clean Nutraceuticals  29.95          19741   \n",
       "3    Health & Household                  Auri  49.99           7532   \n",
       "4    Health & Household     Micro Ingredients  29.95           8656   \n",
       "..                  ...                   ...    ...            ...   \n",
       "137  Health & Household          Force Factor  13.14              1   \n",
       "138  Health & Household                 BLAZE  11.95              1   \n",
       "139  Health & Household           EARTH'S BIO  14.70              0   \n",
       "140  Health & Household   Holistic Lifestyles  12.99              0   \n",
       "141  Health & Household    South Bay Extracts  15.99              0   \n",
       "\n",
       "    Monthly Revenue  Review Count  Reviews Rating  Last Year Sales  \\\n",
       "0         780256.65         37532             4.3              NaN   \n",
       "1         686903.25         14571             4.5         286634.0   \n",
       "2         591242.95          3192             4.4         139163.0   \n",
       "3         376524.68           823             4.1              NaN   \n",
       "4          259247.2          7903             4.6              NaN   \n",
       "..              ...           ...             ...              ...   \n",
       "137           13.14            15             4.2              NaN   \n",
       "138           11.95            -1            -1.0              NaN   \n",
       "139               -            28             4.5              NaN   \n",
       "140               -            -1            -1.0              NaN   \n",
       "141               -            -1            -1.0              NaN   \n",
       "\n",
       "     Sales Year Over Year  Sales Trend (90 days)  Price Trend (90 days)  \\\n",
       "0                     NaN                   -3.0                    1.0   \n",
       "1                   150.0                  -35.0                    8.0   \n",
       "2                     NaN                   52.0                   -5.0   \n",
       "3                     NaN                  -35.0                   21.0   \n",
       "4                     NaN                  800.0                    4.0   \n",
       "..                    ...                    ...                    ...   \n",
       "137                   NaN                    NaN                    7.0   \n",
       "138                   NaN                    0.0                  -55.0   \n",
       "139                   NaN                    0.0                   -9.0   \n",
       "140                   NaN                    0.0                  -17.0   \n",
       "141                   NaN                    NaN                    NaN   \n",
       "\n",
       "    Best Sales Period  \n",
       "0           Nov, 2023  \n",
       "1           Sep, 2023  \n",
       "2           Jan, 2024  \n",
       "3           Nov, 2023  \n",
       "4           Jan, 2024  \n",
       "..                ...  \n",
       "137         Dec, 2023  \n",
       "138         Jan, 2024  \n",
       "139         Dec, 2023  \n",
       "140         Aug, 2023  \n",
       "141                 -  \n",
       "\n",
       "[142 rows x 14 columns]"
      ]
     },
     "execution_count": 59,
     "metadata": {},
     "output_type": "execute_result"
    }
   ],
   "source": [
    "# создадим новый датафрейм с релевантными полями\n",
    "\n",
    "df1 = df[['ASIN',\n",
    "         'Title',\n",
    "         'Category',\n",
    "         'Brand',\n",
    "         'Price',\n",
    "         'Monthly Sales',\n",
    "         'Monthly Revenue',\n",
    "         'Review Count',\n",
    "         'Reviews Rating',\n",
    "         'Last Year Sales',\n",
    "         'Sales Year Over Year',\n",
    "         'Sales Trend (90 days)',\n",
    "         'Price Trend (90 days)',\n",
    "         'Best Sales Period']]\n",
    "df1"
   ]
  },
  {
   "cell_type": "code",
   "execution_count": 40,
   "id": "2ee4fc7c",
   "metadata": {},
   "outputs": [
    {
     "data": {
      "text/plain": [
       "pandas.core.series.Series"
      ]
     },
     "execution_count": 40,
     "metadata": {},
     "output_type": "execute_result"
    }
   ],
   "source": [
    "type(df1['Monthly Revenue'])"
   ]
  },
  {
   "cell_type": "markdown",
   "id": "0a1e06a3",
   "metadata": {},
   "source": [
    "## Возьем прибыль за месяц хотя бы больше 1000 долларов"
   ]
  },
  {
   "cell_type": "code",
   "execution_count": 57,
   "id": "baaa6993",
   "metadata": {},
   "outputs": [
    {
     "data": {
      "text/html": [
       "<div>\n",
       "<style scoped>\n",
       "    .dataframe tbody tr th:only-of-type {\n",
       "        vertical-align: middle;\n",
       "    }\n",
       "\n",
       "    .dataframe tbody tr th {\n",
       "        vertical-align: top;\n",
       "    }\n",
       "\n",
       "    .dataframe thead th {\n",
       "        text-align: right;\n",
       "    }\n",
       "</style>\n",
       "<table border=\"1\" class=\"dataframe\">\n",
       "  <thead>\n",
       "    <tr style=\"text-align: right;\">\n",
       "      <th></th>\n",
       "      <th>ASIN</th>\n",
       "      <th>Title</th>\n",
       "      <th>Category</th>\n",
       "      <th>Brand</th>\n",
       "      <th>Price</th>\n",
       "      <th>Monthly Sales</th>\n",
       "      <th>Monthly Revenue</th>\n",
       "      <th>Review Count</th>\n",
       "      <th>Reviews Rating</th>\n",
       "      <th>Last Year Sales</th>\n",
       "      <th>Sales Year Over Year</th>\n",
       "      <th>Sales Trend (90 days)</th>\n",
       "      <th>Price Trend (90 days)</th>\n",
       "      <th>Best Sales Period</th>\n",
       "    </tr>\n",
       "  </thead>\n",
       "  <tbody>\n",
       "    <tr>\n",
       "      <th>0</th>\n",
       "      <td>B078SJ9F5S</td>\n",
       "      <td>Genius Mushroom - Lions Mane, Cordyceps and Re...</td>\n",
       "      <td>Health &amp; Household</td>\n",
       "      <td>The Genius Brand</td>\n",
       "      <td>21.95</td>\n",
       "      <td>35547</td>\n",
       "      <td>780256.65</td>\n",
       "      <td>37532</td>\n",
       "      <td>4.3</td>\n",
       "      <td>NaN</td>\n",
       "      <td>NaN</td>\n",
       "      <td>-3.0</td>\n",
       "      <td>1.0</td>\n",
       "      <td>Nov, 2023</td>\n",
       "    </tr>\n",
       "    <tr>\n",
       "      <th>1</th>\n",
       "      <td>B078SZX3ML</td>\n",
       "      <td>Lions Mane Mushroom Cognition Capsules (120 Ca...</td>\n",
       "      <td>Health &amp; Household</td>\n",
       "      <td>Real Mushrooms</td>\n",
       "      <td>29.95</td>\n",
       "      <td>22935</td>\n",
       "      <td>686903.25</td>\n",
       "      <td>14571</td>\n",
       "      <td>4.5</td>\n",
       "      <td>286634.0</td>\n",
       "      <td>150.0</td>\n",
       "      <td>-35.0</td>\n",
       "      <td>8.0</td>\n",
       "      <td>Sep, 2023</td>\n",
       "    </tr>\n",
       "    <tr>\n",
       "      <th>2</th>\n",
       "      <td>B0BG6TGKZS</td>\n",
       "      <td>Lions Mane 3000mg 20in1 Mushroom Supplement wi...</td>\n",
       "      <td>Health &amp; Household</td>\n",
       "      <td>Clean Nutraceuticals</td>\n",
       "      <td>29.95</td>\n",
       "      <td>19741</td>\n",
       "      <td>591242.95</td>\n",
       "      <td>3192</td>\n",
       "      <td>4.4</td>\n",
       "      <td>139163.0</td>\n",
       "      <td>NaN</td>\n",
       "      <td>52.0</td>\n",
       "      <td>-5.0</td>\n",
       "      <td>Jan, 2024</td>\n",
       "    </tr>\n",
       "    <tr>\n",
       "      <th>3</th>\n",
       "      <td>B0C4166SSW</td>\n",
       "      <td>Auri Super Mushroom Gummies - All-in-One Daily...</td>\n",
       "      <td>Health &amp; Household</td>\n",
       "      <td>Auri</td>\n",
       "      <td>49.99</td>\n",
       "      <td>7532</td>\n",
       "      <td>376524.68</td>\n",
       "      <td>823</td>\n",
       "      <td>4.1</td>\n",
       "      <td>NaN</td>\n",
       "      <td>NaN</td>\n",
       "      <td>-35.0</td>\n",
       "      <td>21.0</td>\n",
       "      <td>Nov, 2023</td>\n",
       "    </tr>\n",
       "    <tr>\n",
       "      <th>4</th>\n",
       "      <td>B07RG8MMXW</td>\n",
       "      <td>Sustainably US Grown, Organic Mega Mushroom 10...</td>\n",
       "      <td>Health &amp; Household</td>\n",
       "      <td>Micro Ingredients</td>\n",
       "      <td>29.95</td>\n",
       "      <td>8656</td>\n",
       "      <td>259247.2</td>\n",
       "      <td>7903</td>\n",
       "      <td>4.6</td>\n",
       "      <td>NaN</td>\n",
       "      <td>NaN</td>\n",
       "      <td>800.0</td>\n",
       "      <td>4.0</td>\n",
       "      <td>Jan, 2024</td>\n",
       "    </tr>\n",
       "  </tbody>\n",
       "</table>\n",
       "</div>"
      ],
      "text/plain": [
       "         ASIN                                              Title  \\\n",
       "0  B078SJ9F5S  Genius Mushroom - Lions Mane, Cordyceps and Re...   \n",
       "1  B078SZX3ML  Lions Mane Mushroom Cognition Capsules (120 Ca...   \n",
       "2  B0BG6TGKZS  Lions Mane 3000mg 20in1 Mushroom Supplement wi...   \n",
       "3  B0C4166SSW  Auri Super Mushroom Gummies - All-in-One Daily...   \n",
       "4  B07RG8MMXW  Sustainably US Grown, Organic Mega Mushroom 10...   \n",
       "\n",
       "             Category                 Brand  Price  Monthly Sales  \\\n",
       "0  Health & Household      The Genius Brand  21.95          35547   \n",
       "1  Health & Household        Real Mushrooms  29.95          22935   \n",
       "2  Health & Household  Clean Nutraceuticals  29.95          19741   \n",
       "3  Health & Household                  Auri  49.99           7532   \n",
       "4  Health & Household     Micro Ingredients  29.95           8656   \n",
       "\n",
       "  Monthly Revenue  Review Count  Reviews Rating  Last Year Sales  \\\n",
       "0       780256.65         37532             4.3              NaN   \n",
       "1       686903.25         14571             4.5         286634.0   \n",
       "2       591242.95          3192             4.4         139163.0   \n",
       "3       376524.68           823             4.1              NaN   \n",
       "4        259247.2          7903             4.6              NaN   \n",
       "\n",
       "   Sales Year Over Year  Sales Trend (90 days)  Price Trend (90 days)  \\\n",
       "0                   NaN                   -3.0                    1.0   \n",
       "1                 150.0                  -35.0                    8.0   \n",
       "2                   NaN                   52.0                   -5.0   \n",
       "3                   NaN                  -35.0                   21.0   \n",
       "4                   NaN                  800.0                    4.0   \n",
       "\n",
       "  Best Sales Period  \n",
       "0         Nov, 2023  \n",
       "1         Sep, 2023  \n",
       "2         Jan, 2024  \n",
       "3         Nov, 2023  \n",
       "4         Jan, 2024  "
      ]
     },
     "execution_count": 57,
     "metadata": {},
     "output_type": "execute_result"
    }
   ],
   "source": [
    "# возьем прибыль за месяц хотя бы больше 1000 долларов\n",
    "\n",
    "df2 = df1.loc[(pd.to_numeric(df1['Monthly Revenue'],errors='coerce')) > 1000]\n",
    "df2.head()"
   ]
  },
  {
   "cell_type": "code",
   "execution_count": 58,
   "id": "b21e7eac",
   "metadata": {},
   "outputs": [
    {
     "name": "stdout",
     "output_type": "stream",
     "text": [
      "<class 'pandas.core.frame.DataFrame'>\n",
      "Int64Index: 96 entries, 0 to 95\n",
      "Data columns (total 14 columns):\n",
      " #   Column                 Non-Null Count  Dtype  \n",
      "---  ------                 --------------  -----  \n",
      " 0   ASIN                   96 non-null     object \n",
      " 1   Title                  96 non-null     object \n",
      " 2   Category               96 non-null     object \n",
      " 3   Brand                  96 non-null     object \n",
      " 4   Price                  96 non-null     float64\n",
      " 5   Monthly Sales          96 non-null     int64  \n",
      " 6   Monthly Revenue        96 non-null     object \n",
      " 7   Review Count           96 non-null     int64  \n",
      " 8   Reviews Rating         96 non-null     float64\n",
      " 9   Last Year Sales        45 non-null     float64\n",
      " 10  Sales Year Over Year   29 non-null     float64\n",
      " 11  Sales Trend (90 days)  79 non-null     float64\n",
      " 12  Price Trend (90 days)  57 non-null     float64\n",
      " 13  Best Sales Period      96 non-null     object \n",
      "dtypes: float64(6), int64(2), object(6)\n",
      "memory usage: 11.2+ KB\n"
     ]
    }
   ],
   "source": [
    "df2.info()"
   ]
  },
  {
   "cell_type": "markdown",
   "id": "10efaf91",
   "metadata": {},
   "source": [
    "## Мы отобрали бренды, у которых продажи хотя бы больше 1000 долларов в месяц \n",
    "## Осталось 96 компаний"
   ]
  },
  {
   "cell_type": "code",
   "execution_count": 56,
   "id": "6229fd46",
   "metadata": {},
   "outputs": [
    {
     "data": {
      "application/vnd.plotly.v1+json": {
       "config": {
        "plotlyServerURL": "https://plot.ly"
       },
       "data": [
        {
         "alignmentgroup": "True",
         "bingroup": "x",
         "histfunc": "sum",
         "hovertemplate": "Brand=%{x}<br>sum of Monthly Sales=%{y}<extra></extra>",
         "legendgroup": "",
         "marker": {
          "color": "#636efa",
          "pattern": {
           "shape": ""
          }
         },
         "name": "",
         "offsetgroup": "",
         "orientation": "v",
         "showlegend": false,
         "type": "histogram",
         "x": [
          "The Genius Brand",
          "Real Mushrooms",
          "Clean Nutraceuticals",
          "Auri",
          "Micro Ingredients",
          "DR EMIL NUTRITION",
          "Horbäach",
          "Stonehenge Health",
          "Drops Of Nature",
          "Host Defense",
          "KIKI Green",
          "Real Mushrooms",
          "Gaia Herbs",
          "Real Mushrooms",
          "TERRA ELMNT",
          "Laird Superfood",
          "Purify Life",
          "WIXAR NATURALS",
          "Fungies",
          "Double Wood Supplements",
          "SZCZEKIN",
          "DEAL SUPPLEMENT",
          "Host Defense",
          "NutriFlair",
          "NATURELO",
          "Force Factor",
          "VEGATOT",
          "EFFECTIVE NUTRA",
          "ACEWORKZ",
          "VitaRaw",
          "1 Body",
          "MaryRuth Organics",
          "Nutrivein",
          "Four Sigmatic",
          "UPHORIC URTH",
          "Double Wood Supplements",
          "nutriyum",
          "Purify Life",
          "Stamiron",
          "Etta Vita",
          "Carlyle",
          "Satoomi",
          "S RAW SCIENCE",
          "Swanson",
          "Mutsweet",
          "DailyNutra",
          "Yasumako",
          "Life Cykel",
          "SZCZEKIN",
          "Double Wood Supplements",
          "SAGA",
          "Vitamax",
          "SAGA",
          "Satoomi",
          "Double Wood Supplements",
          "Garden of Life",
          "Nutricost",
          "Om Mushroom Superfood",
          "Gaia Herbs",
          "NatureBell",
          "SOLARAY",
          "Wild & Organic",
          "Doctor Danielle",
          "Shizam",
          "Herbal Roots",
          "Mother Nutrient",
          "Toniiq",
          "Nootrilabs Naturals",
          "Bronson",
          "BEIMIC",
          "Fuel Nutrition Pro",
          "DEDICAD",
          "ECO-TASTE",
          "IQ BIOLOGY",
          "HAPPY FOX",
          "Nature's Fusions",
          "Organic Cadane",
          "VitaUp",
          "HELLO HEALTH",
          "Nature Restore",
          "iVitamins",
          "NutraCreek",
          "NUQIIT",
          "Organic Cadane",
          "SMNutrition",
          "GANOHERB",
          "Inner Elevate",
          "GANOHERB",
          "BULKSUPPLEMENTS.COM",
          "Malama Mushrooms",
          "Kaya Naturals",
          "Nature's Truth",
          "UR Treasure Nutrition",
          "VELOTO",
          "Primaforce",
          "Esentai"
         ],
         "xaxis": "x",
         "y": [
          35547,
          22935,
          19741,
          7532,
          8656,
          6793,
          10917,
          3437,
          5231,
          3888,
          3720,
          2151,
          2658,
          2074,
          3104,
          3402,
          2730,
          2904,
          3648,
          3136,
          1552,
          1878,
          2274,
          2692,
          1982,
          3543,
          3038,
          2511,
          2234,
          2063,
          778,
          1939,
          1446,
          795,
          539,
          1249,
          1187,
          911,
          904,
          899,
          1724,
          1179,
          891,
          2121,
          730,
          623,
          415,
          237,
          779,
          1024,
          846,
          606,
          667,
          510,
          741,
          307,
          774,
          596,
          383,
          885,
          380,
          454,
          308,
          305,
          259,
          309,
          643,
          348,
          404,
          291,
          177,
          224,
          257,
          225,
          234,
          194,
          277,
          274,
          219,
          186,
          301,
          399,
          177,
          183,
          168,
          175,
          144,
          87,
          93,
          48,
          235,
          150,
          82,
          46,
          51,
          46
         ],
         "yaxis": "y"
        }
       ],
       "layout": {
        "barmode": "relative",
        "legend": {
         "tracegroupgap": 0
        },
        "margin": {
         "t": 60
        },
        "template": {
         "data": {
          "bar": [
           {
            "error_x": {
             "color": "#2a3f5f"
            },
            "error_y": {
             "color": "#2a3f5f"
            },
            "marker": {
             "line": {
              "color": "#E5ECF6",
              "width": 0.5
             },
             "pattern": {
              "fillmode": "overlay",
              "size": 10,
              "solidity": 0.2
             }
            },
            "type": "bar"
           }
          ],
          "barpolar": [
           {
            "marker": {
             "line": {
              "color": "#E5ECF6",
              "width": 0.5
             },
             "pattern": {
              "fillmode": "overlay",
              "size": 10,
              "solidity": 0.2
             }
            },
            "type": "barpolar"
           }
          ],
          "carpet": [
           {
            "aaxis": {
             "endlinecolor": "#2a3f5f",
             "gridcolor": "white",
             "linecolor": "white",
             "minorgridcolor": "white",
             "startlinecolor": "#2a3f5f"
            },
            "baxis": {
             "endlinecolor": "#2a3f5f",
             "gridcolor": "white",
             "linecolor": "white",
             "minorgridcolor": "white",
             "startlinecolor": "#2a3f5f"
            },
            "type": "carpet"
           }
          ],
          "choropleth": [
           {
            "colorbar": {
             "outlinewidth": 0,
             "ticks": ""
            },
            "type": "choropleth"
           }
          ],
          "contour": [
           {
            "colorbar": {
             "outlinewidth": 0,
             "ticks": ""
            },
            "colorscale": [
             [
              0,
              "#0d0887"
             ],
             [
              0.1111111111111111,
              "#46039f"
             ],
             [
              0.2222222222222222,
              "#7201a8"
             ],
             [
              0.3333333333333333,
              "#9c179e"
             ],
             [
              0.4444444444444444,
              "#bd3786"
             ],
             [
              0.5555555555555556,
              "#d8576b"
             ],
             [
              0.6666666666666666,
              "#ed7953"
             ],
             [
              0.7777777777777778,
              "#fb9f3a"
             ],
             [
              0.8888888888888888,
              "#fdca26"
             ],
             [
              1,
              "#f0f921"
             ]
            ],
            "type": "contour"
           }
          ],
          "contourcarpet": [
           {
            "colorbar": {
             "outlinewidth": 0,
             "ticks": ""
            },
            "type": "contourcarpet"
           }
          ],
          "heatmap": [
           {
            "colorbar": {
             "outlinewidth": 0,
             "ticks": ""
            },
            "colorscale": [
             [
              0,
              "#0d0887"
             ],
             [
              0.1111111111111111,
              "#46039f"
             ],
             [
              0.2222222222222222,
              "#7201a8"
             ],
             [
              0.3333333333333333,
              "#9c179e"
             ],
             [
              0.4444444444444444,
              "#bd3786"
             ],
             [
              0.5555555555555556,
              "#d8576b"
             ],
             [
              0.6666666666666666,
              "#ed7953"
             ],
             [
              0.7777777777777778,
              "#fb9f3a"
             ],
             [
              0.8888888888888888,
              "#fdca26"
             ],
             [
              1,
              "#f0f921"
             ]
            ],
            "type": "heatmap"
           }
          ],
          "heatmapgl": [
           {
            "colorbar": {
             "outlinewidth": 0,
             "ticks": ""
            },
            "colorscale": [
             [
              0,
              "#0d0887"
             ],
             [
              0.1111111111111111,
              "#46039f"
             ],
             [
              0.2222222222222222,
              "#7201a8"
             ],
             [
              0.3333333333333333,
              "#9c179e"
             ],
             [
              0.4444444444444444,
              "#bd3786"
             ],
             [
              0.5555555555555556,
              "#d8576b"
             ],
             [
              0.6666666666666666,
              "#ed7953"
             ],
             [
              0.7777777777777778,
              "#fb9f3a"
             ],
             [
              0.8888888888888888,
              "#fdca26"
             ],
             [
              1,
              "#f0f921"
             ]
            ],
            "type": "heatmapgl"
           }
          ],
          "histogram": [
           {
            "marker": {
             "pattern": {
              "fillmode": "overlay",
              "size": 10,
              "solidity": 0.2
             }
            },
            "type": "histogram"
           }
          ],
          "histogram2d": [
           {
            "colorbar": {
             "outlinewidth": 0,
             "ticks": ""
            },
            "colorscale": [
             [
              0,
              "#0d0887"
             ],
             [
              0.1111111111111111,
              "#46039f"
             ],
             [
              0.2222222222222222,
              "#7201a8"
             ],
             [
              0.3333333333333333,
              "#9c179e"
             ],
             [
              0.4444444444444444,
              "#bd3786"
             ],
             [
              0.5555555555555556,
              "#d8576b"
             ],
             [
              0.6666666666666666,
              "#ed7953"
             ],
             [
              0.7777777777777778,
              "#fb9f3a"
             ],
             [
              0.8888888888888888,
              "#fdca26"
             ],
             [
              1,
              "#f0f921"
             ]
            ],
            "type": "histogram2d"
           }
          ],
          "histogram2dcontour": [
           {
            "colorbar": {
             "outlinewidth": 0,
             "ticks": ""
            },
            "colorscale": [
             [
              0,
              "#0d0887"
             ],
             [
              0.1111111111111111,
              "#46039f"
             ],
             [
              0.2222222222222222,
              "#7201a8"
             ],
             [
              0.3333333333333333,
              "#9c179e"
             ],
             [
              0.4444444444444444,
              "#bd3786"
             ],
             [
              0.5555555555555556,
              "#d8576b"
             ],
             [
              0.6666666666666666,
              "#ed7953"
             ],
             [
              0.7777777777777778,
              "#fb9f3a"
             ],
             [
              0.8888888888888888,
              "#fdca26"
             ],
             [
              1,
              "#f0f921"
             ]
            ],
            "type": "histogram2dcontour"
           }
          ],
          "mesh3d": [
           {
            "colorbar": {
             "outlinewidth": 0,
             "ticks": ""
            },
            "type": "mesh3d"
           }
          ],
          "parcoords": [
           {
            "line": {
             "colorbar": {
              "outlinewidth": 0,
              "ticks": ""
             }
            },
            "type": "parcoords"
           }
          ],
          "pie": [
           {
            "automargin": true,
            "type": "pie"
           }
          ],
          "scatter": [
           {
            "marker": {
             "colorbar": {
              "outlinewidth": 0,
              "ticks": ""
             }
            },
            "type": "scatter"
           }
          ],
          "scatter3d": [
           {
            "line": {
             "colorbar": {
              "outlinewidth": 0,
              "ticks": ""
             }
            },
            "marker": {
             "colorbar": {
              "outlinewidth": 0,
              "ticks": ""
             }
            },
            "type": "scatter3d"
           }
          ],
          "scattercarpet": [
           {
            "marker": {
             "colorbar": {
              "outlinewidth": 0,
              "ticks": ""
             }
            },
            "type": "scattercarpet"
           }
          ],
          "scattergeo": [
           {
            "marker": {
             "colorbar": {
              "outlinewidth": 0,
              "ticks": ""
             }
            },
            "type": "scattergeo"
           }
          ],
          "scattergl": [
           {
            "marker": {
             "colorbar": {
              "outlinewidth": 0,
              "ticks": ""
             }
            },
            "type": "scattergl"
           }
          ],
          "scattermapbox": [
           {
            "marker": {
             "colorbar": {
              "outlinewidth": 0,
              "ticks": ""
             }
            },
            "type": "scattermapbox"
           }
          ],
          "scatterpolar": [
           {
            "marker": {
             "colorbar": {
              "outlinewidth": 0,
              "ticks": ""
             }
            },
            "type": "scatterpolar"
           }
          ],
          "scatterpolargl": [
           {
            "marker": {
             "colorbar": {
              "outlinewidth": 0,
              "ticks": ""
             }
            },
            "type": "scatterpolargl"
           }
          ],
          "scatterternary": [
           {
            "marker": {
             "colorbar": {
              "outlinewidth": 0,
              "ticks": ""
             }
            },
            "type": "scatterternary"
           }
          ],
          "surface": [
           {
            "colorbar": {
             "outlinewidth": 0,
             "ticks": ""
            },
            "colorscale": [
             [
              0,
              "#0d0887"
             ],
             [
              0.1111111111111111,
              "#46039f"
             ],
             [
              0.2222222222222222,
              "#7201a8"
             ],
             [
              0.3333333333333333,
              "#9c179e"
             ],
             [
              0.4444444444444444,
              "#bd3786"
             ],
             [
              0.5555555555555556,
              "#d8576b"
             ],
             [
              0.6666666666666666,
              "#ed7953"
             ],
             [
              0.7777777777777778,
              "#fb9f3a"
             ],
             [
              0.8888888888888888,
              "#fdca26"
             ],
             [
              1,
              "#f0f921"
             ]
            ],
            "type": "surface"
           }
          ],
          "table": [
           {
            "cells": {
             "fill": {
              "color": "#EBF0F8"
             },
             "line": {
              "color": "white"
             }
            },
            "header": {
             "fill": {
              "color": "#C8D4E3"
             },
             "line": {
              "color": "white"
             }
            },
            "type": "table"
           }
          ]
         },
         "layout": {
          "annotationdefaults": {
           "arrowcolor": "#2a3f5f",
           "arrowhead": 0,
           "arrowwidth": 1
          },
          "autotypenumbers": "strict",
          "coloraxis": {
           "colorbar": {
            "outlinewidth": 0,
            "ticks": ""
           }
          },
          "colorscale": {
           "diverging": [
            [
             0,
             "#8e0152"
            ],
            [
             0.1,
             "#c51b7d"
            ],
            [
             0.2,
             "#de77ae"
            ],
            [
             0.3,
             "#f1b6da"
            ],
            [
             0.4,
             "#fde0ef"
            ],
            [
             0.5,
             "#f7f7f7"
            ],
            [
             0.6,
             "#e6f5d0"
            ],
            [
             0.7,
             "#b8e186"
            ],
            [
             0.8,
             "#7fbc41"
            ],
            [
             0.9,
             "#4d9221"
            ],
            [
             1,
             "#276419"
            ]
           ],
           "sequential": [
            [
             0,
             "#0d0887"
            ],
            [
             0.1111111111111111,
             "#46039f"
            ],
            [
             0.2222222222222222,
             "#7201a8"
            ],
            [
             0.3333333333333333,
             "#9c179e"
            ],
            [
             0.4444444444444444,
             "#bd3786"
            ],
            [
             0.5555555555555556,
             "#d8576b"
            ],
            [
             0.6666666666666666,
             "#ed7953"
            ],
            [
             0.7777777777777778,
             "#fb9f3a"
            ],
            [
             0.8888888888888888,
             "#fdca26"
            ],
            [
             1,
             "#f0f921"
            ]
           ],
           "sequentialminus": [
            [
             0,
             "#0d0887"
            ],
            [
             0.1111111111111111,
             "#46039f"
            ],
            [
             0.2222222222222222,
             "#7201a8"
            ],
            [
             0.3333333333333333,
             "#9c179e"
            ],
            [
             0.4444444444444444,
             "#bd3786"
            ],
            [
             0.5555555555555556,
             "#d8576b"
            ],
            [
             0.6666666666666666,
             "#ed7953"
            ],
            [
             0.7777777777777778,
             "#fb9f3a"
            ],
            [
             0.8888888888888888,
             "#fdca26"
            ],
            [
             1,
             "#f0f921"
            ]
           ]
          },
          "colorway": [
           "#636efa",
           "#EF553B",
           "#00cc96",
           "#ab63fa",
           "#FFA15A",
           "#19d3f3",
           "#FF6692",
           "#B6E880",
           "#FF97FF",
           "#FECB52"
          ],
          "font": {
           "color": "#2a3f5f"
          },
          "geo": {
           "bgcolor": "white",
           "lakecolor": "white",
           "landcolor": "#E5ECF6",
           "showlakes": true,
           "showland": true,
           "subunitcolor": "white"
          },
          "hoverlabel": {
           "align": "left"
          },
          "hovermode": "closest",
          "mapbox": {
           "style": "light"
          },
          "paper_bgcolor": "white",
          "plot_bgcolor": "#E5ECF6",
          "polar": {
           "angularaxis": {
            "gridcolor": "white",
            "linecolor": "white",
            "ticks": ""
           },
           "bgcolor": "#E5ECF6",
           "radialaxis": {
            "gridcolor": "white",
            "linecolor": "white",
            "ticks": ""
           }
          },
          "scene": {
           "xaxis": {
            "backgroundcolor": "#E5ECF6",
            "gridcolor": "white",
            "gridwidth": 2,
            "linecolor": "white",
            "showbackground": true,
            "ticks": "",
            "zerolinecolor": "white"
           },
           "yaxis": {
            "backgroundcolor": "#E5ECF6",
            "gridcolor": "white",
            "gridwidth": 2,
            "linecolor": "white",
            "showbackground": true,
            "ticks": "",
            "zerolinecolor": "white"
           },
           "zaxis": {
            "backgroundcolor": "#E5ECF6",
            "gridcolor": "white",
            "gridwidth": 2,
            "linecolor": "white",
            "showbackground": true,
            "ticks": "",
            "zerolinecolor": "white"
           }
          },
          "shapedefaults": {
           "line": {
            "color": "#2a3f5f"
           }
          },
          "ternary": {
           "aaxis": {
            "gridcolor": "white",
            "linecolor": "white",
            "ticks": ""
           },
           "baxis": {
            "gridcolor": "white",
            "linecolor": "white",
            "ticks": ""
           },
           "bgcolor": "#E5ECF6",
           "caxis": {
            "gridcolor": "white",
            "linecolor": "white",
            "ticks": ""
           }
          },
          "title": {
           "x": 0.05
          },
          "xaxis": {
           "automargin": true,
           "gridcolor": "white",
           "linecolor": "white",
           "ticks": "",
           "title": {
            "standoff": 15
           },
           "zerolinecolor": "white",
           "zerolinewidth": 2
          },
          "yaxis": {
           "automargin": true,
           "gridcolor": "white",
           "linecolor": "white",
           "ticks": "",
           "title": {
            "standoff": 15
           },
           "zerolinecolor": "white",
           "zerolinewidth": 2
          }
         }
        },
        "xaxis": {
         "anchor": "y",
         "domain": [
          0,
          1
         ],
         "title": {
          "text": "Brand"
         }
        },
        "yaxis": {
         "anchor": "x",
         "domain": [
          0,
          1
         ],
         "title": {
          "text": "sum of Monthly Sales"
         }
        }
       }
      },
      "text/html": [
       "<div>                            <div id=\"bc6c06dc-4747-4790-9b8f-793959d3c508\" class=\"plotly-graph-div\" style=\"height:525px; width:100%;\"></div>            <script type=\"text/javascript\">                require([\"plotly\"], function(Plotly) {                    window.PLOTLYENV=window.PLOTLYENV || {};                                    if (document.getElementById(\"bc6c06dc-4747-4790-9b8f-793959d3c508\")) {                    Plotly.newPlot(                        \"bc6c06dc-4747-4790-9b8f-793959d3c508\",                        [{\"alignmentgroup\":\"True\",\"bingroup\":\"x\",\"histfunc\":\"sum\",\"hovertemplate\":\"Brand=%{x}<br>sum of Monthly Sales=%{y}<extra></extra>\",\"legendgroup\":\"\",\"marker\":{\"color\":\"#636efa\",\"pattern\":{\"shape\":\"\"}},\"name\":\"\",\"offsetgroup\":\"\",\"orientation\":\"v\",\"showlegend\":false,\"x\":[\"The Genius Brand\",\"Real Mushrooms\",\"Clean Nutraceuticals\",\"Auri\",\"Micro Ingredients\",\"DR EMIL NUTRITION\",\"Horb\\u00e4ach\",\"Stonehenge Health\",\"Drops Of Nature\",\"Host Defense\",\"KIKI Green\",\"Real Mushrooms\",\"Gaia Herbs\",\"Real Mushrooms\",\"TERRA ELMNT\",\"Laird Superfood\",\"Purify Life\",\"WIXAR NATURALS\",\"Fungies\",\"Double Wood Supplements\",\"SZCZEKIN\",\"DEAL SUPPLEMENT\",\"Host Defense\",\"NutriFlair\",\"NATURELO\",\"Force Factor\",\"VEGATOT\",\"EFFECTIVE NUTRA\",\"ACEWORKZ\",\"VitaRaw\",\"1 Body\",\"MaryRuth Organics\",\"Nutrivein\",\"Four Sigmatic\",\"UPHORIC URTH\",\"Double Wood Supplements\",\"nutriyum\",\"Purify Life\",\"Stamiron\",\"Etta Vita\",\"Carlyle\",\"Satoomi\",\"S RAW SCIENCE\",\"Swanson\",\"Mutsweet\",\"DailyNutra\",\"Yasumako\",\"Life Cykel\",\"SZCZEKIN\",\"Double Wood Supplements\",\"SAGA\",\"Vitamax\",\"SAGA\",\"Satoomi\",\"Double Wood Supplements\",\"Garden of Life\",\"Nutricost\",\"Om Mushroom Superfood\",\"Gaia Herbs\",\"NatureBell\",\"SOLARAY\",\"Wild & Organic\",\"Doctor Danielle\",\"Shizam\",\"Herbal Roots\",\"Mother Nutrient\",\"Toniiq\",\"Nootrilabs Naturals\",\"Bronson\",\"BEIMIC\",\"Fuel Nutrition Pro\",\"DEDICAD\",\"ECO-TASTE\",\"IQ BIOLOGY\",\"HAPPY FOX\",\"Nature's Fusions\",\"Organic Cadane\",\"VitaUp\",\"HELLO HEALTH\",\"Nature Restore\",\"iVitamins\",\"NutraCreek\",\"NUQIIT\",\"Organic Cadane\",\"SMNutrition\",\"GANOHERB\",\"Inner Elevate\",\"GANOHERB\",\"BULKSUPPLEMENTS.COM\",\"Malama Mushrooms\",\"Kaya Naturals\",\"Nature's Truth\",\"UR Treasure Nutrition\",\"VELOTO\",\"Primaforce\",\"Esentai\"],\"xaxis\":\"x\",\"y\":[35547,22935,19741,7532,8656,6793,10917,3437,5231,3888,3720,2151,2658,2074,3104,3402,2730,2904,3648,3136,1552,1878,2274,2692,1982,3543,3038,2511,2234,2063,778,1939,1446,795,539,1249,1187,911,904,899,1724,1179,891,2121,730,623,415,237,779,1024,846,606,667,510,741,307,774,596,383,885,380,454,308,305,259,309,643,348,404,291,177,224,257,225,234,194,277,274,219,186,301,399,177,183,168,175,144,87,93,48,235,150,82,46,51,46],\"yaxis\":\"y\",\"type\":\"histogram\"}],                        {\"template\":{\"data\":{\"bar\":[{\"error_x\":{\"color\":\"#2a3f5f\"},\"error_y\":{\"color\":\"#2a3f5f\"},\"marker\":{\"line\":{\"color\":\"#E5ECF6\",\"width\":0.5},\"pattern\":{\"fillmode\":\"overlay\",\"size\":10,\"solidity\":0.2}},\"type\":\"bar\"}],\"barpolar\":[{\"marker\":{\"line\":{\"color\":\"#E5ECF6\",\"width\":0.5},\"pattern\":{\"fillmode\":\"overlay\",\"size\":10,\"solidity\":0.2}},\"type\":\"barpolar\"}],\"carpet\":[{\"aaxis\":{\"endlinecolor\":\"#2a3f5f\",\"gridcolor\":\"white\",\"linecolor\":\"white\",\"minorgridcolor\":\"white\",\"startlinecolor\":\"#2a3f5f\"},\"baxis\":{\"endlinecolor\":\"#2a3f5f\",\"gridcolor\":\"white\",\"linecolor\":\"white\",\"minorgridcolor\":\"white\",\"startlinecolor\":\"#2a3f5f\"},\"type\":\"carpet\"}],\"choropleth\":[{\"colorbar\":{\"outlinewidth\":0,\"ticks\":\"\"},\"type\":\"choropleth\"}],\"contour\":[{\"colorbar\":{\"outlinewidth\":0,\"ticks\":\"\"},\"colorscale\":[[0.0,\"#0d0887\"],[0.1111111111111111,\"#46039f\"],[0.2222222222222222,\"#7201a8\"],[0.3333333333333333,\"#9c179e\"],[0.4444444444444444,\"#bd3786\"],[0.5555555555555556,\"#d8576b\"],[0.6666666666666666,\"#ed7953\"],[0.7777777777777778,\"#fb9f3a\"],[0.8888888888888888,\"#fdca26\"],[1.0,\"#f0f921\"]],\"type\":\"contour\"}],\"contourcarpet\":[{\"colorbar\":{\"outlinewidth\":0,\"ticks\":\"\"},\"type\":\"contourcarpet\"}],\"heatmap\":[{\"colorbar\":{\"outlinewidth\":0,\"ticks\":\"\"},\"colorscale\":[[0.0,\"#0d0887\"],[0.1111111111111111,\"#46039f\"],[0.2222222222222222,\"#7201a8\"],[0.3333333333333333,\"#9c179e\"],[0.4444444444444444,\"#bd3786\"],[0.5555555555555556,\"#d8576b\"],[0.6666666666666666,\"#ed7953\"],[0.7777777777777778,\"#fb9f3a\"],[0.8888888888888888,\"#fdca26\"],[1.0,\"#f0f921\"]],\"type\":\"heatmap\"}],\"heatmapgl\":[{\"colorbar\":{\"outlinewidth\":0,\"ticks\":\"\"},\"colorscale\":[[0.0,\"#0d0887\"],[0.1111111111111111,\"#46039f\"],[0.2222222222222222,\"#7201a8\"],[0.3333333333333333,\"#9c179e\"],[0.4444444444444444,\"#bd3786\"],[0.5555555555555556,\"#d8576b\"],[0.6666666666666666,\"#ed7953\"],[0.7777777777777778,\"#fb9f3a\"],[0.8888888888888888,\"#fdca26\"],[1.0,\"#f0f921\"]],\"type\":\"heatmapgl\"}],\"histogram\":[{\"marker\":{\"pattern\":{\"fillmode\":\"overlay\",\"size\":10,\"solidity\":0.2}},\"type\":\"histogram\"}],\"histogram2d\":[{\"colorbar\":{\"outlinewidth\":0,\"ticks\":\"\"},\"colorscale\":[[0.0,\"#0d0887\"],[0.1111111111111111,\"#46039f\"],[0.2222222222222222,\"#7201a8\"],[0.3333333333333333,\"#9c179e\"],[0.4444444444444444,\"#bd3786\"],[0.5555555555555556,\"#d8576b\"],[0.6666666666666666,\"#ed7953\"],[0.7777777777777778,\"#fb9f3a\"],[0.8888888888888888,\"#fdca26\"],[1.0,\"#f0f921\"]],\"type\":\"histogram2d\"}],\"histogram2dcontour\":[{\"colorbar\":{\"outlinewidth\":0,\"ticks\":\"\"},\"colorscale\":[[0.0,\"#0d0887\"],[0.1111111111111111,\"#46039f\"],[0.2222222222222222,\"#7201a8\"],[0.3333333333333333,\"#9c179e\"],[0.4444444444444444,\"#bd3786\"],[0.5555555555555556,\"#d8576b\"],[0.6666666666666666,\"#ed7953\"],[0.7777777777777778,\"#fb9f3a\"],[0.8888888888888888,\"#fdca26\"],[1.0,\"#f0f921\"]],\"type\":\"histogram2dcontour\"}],\"mesh3d\":[{\"colorbar\":{\"outlinewidth\":0,\"ticks\":\"\"},\"type\":\"mesh3d\"}],\"parcoords\":[{\"line\":{\"colorbar\":{\"outlinewidth\":0,\"ticks\":\"\"}},\"type\":\"parcoords\"}],\"pie\":[{\"automargin\":true,\"type\":\"pie\"}],\"scatter\":[{\"marker\":{\"colorbar\":{\"outlinewidth\":0,\"ticks\":\"\"}},\"type\":\"scatter\"}],\"scatter3d\":[{\"line\":{\"colorbar\":{\"outlinewidth\":0,\"ticks\":\"\"}},\"marker\":{\"colorbar\":{\"outlinewidth\":0,\"ticks\":\"\"}},\"type\":\"scatter3d\"}],\"scattercarpet\":[{\"marker\":{\"colorbar\":{\"outlinewidth\":0,\"ticks\":\"\"}},\"type\":\"scattercarpet\"}],\"scattergeo\":[{\"marker\":{\"colorbar\":{\"outlinewidth\":0,\"ticks\":\"\"}},\"type\":\"scattergeo\"}],\"scattergl\":[{\"marker\":{\"colorbar\":{\"outlinewidth\":0,\"ticks\":\"\"}},\"type\":\"scattergl\"}],\"scattermapbox\":[{\"marker\":{\"colorbar\":{\"outlinewidth\":0,\"ticks\":\"\"}},\"type\":\"scattermapbox\"}],\"scatterpolar\":[{\"marker\":{\"colorbar\":{\"outlinewidth\":0,\"ticks\":\"\"}},\"type\":\"scatterpolar\"}],\"scatterpolargl\":[{\"marker\":{\"colorbar\":{\"outlinewidth\":0,\"ticks\":\"\"}},\"type\":\"scatterpolargl\"}],\"scatterternary\":[{\"marker\":{\"colorbar\":{\"outlinewidth\":0,\"ticks\":\"\"}},\"type\":\"scatterternary\"}],\"surface\":[{\"colorbar\":{\"outlinewidth\":0,\"ticks\":\"\"},\"colorscale\":[[0.0,\"#0d0887\"],[0.1111111111111111,\"#46039f\"],[0.2222222222222222,\"#7201a8\"],[0.3333333333333333,\"#9c179e\"],[0.4444444444444444,\"#bd3786\"],[0.5555555555555556,\"#d8576b\"],[0.6666666666666666,\"#ed7953\"],[0.7777777777777778,\"#fb9f3a\"],[0.8888888888888888,\"#fdca26\"],[1.0,\"#f0f921\"]],\"type\":\"surface\"}],\"table\":[{\"cells\":{\"fill\":{\"color\":\"#EBF0F8\"},\"line\":{\"color\":\"white\"}},\"header\":{\"fill\":{\"color\":\"#C8D4E3\"},\"line\":{\"color\":\"white\"}},\"type\":\"table\"}]},\"layout\":{\"annotationdefaults\":{\"arrowcolor\":\"#2a3f5f\",\"arrowhead\":0,\"arrowwidth\":1},\"autotypenumbers\":\"strict\",\"coloraxis\":{\"colorbar\":{\"outlinewidth\":0,\"ticks\":\"\"}},\"colorscale\":{\"diverging\":[[0,\"#8e0152\"],[0.1,\"#c51b7d\"],[0.2,\"#de77ae\"],[0.3,\"#f1b6da\"],[0.4,\"#fde0ef\"],[0.5,\"#f7f7f7\"],[0.6,\"#e6f5d0\"],[0.7,\"#b8e186\"],[0.8,\"#7fbc41\"],[0.9,\"#4d9221\"],[1,\"#276419\"]],\"sequential\":[[0.0,\"#0d0887\"],[0.1111111111111111,\"#46039f\"],[0.2222222222222222,\"#7201a8\"],[0.3333333333333333,\"#9c179e\"],[0.4444444444444444,\"#bd3786\"],[0.5555555555555556,\"#d8576b\"],[0.6666666666666666,\"#ed7953\"],[0.7777777777777778,\"#fb9f3a\"],[0.8888888888888888,\"#fdca26\"],[1.0,\"#f0f921\"]],\"sequentialminus\":[[0.0,\"#0d0887\"],[0.1111111111111111,\"#46039f\"],[0.2222222222222222,\"#7201a8\"],[0.3333333333333333,\"#9c179e\"],[0.4444444444444444,\"#bd3786\"],[0.5555555555555556,\"#d8576b\"],[0.6666666666666666,\"#ed7953\"],[0.7777777777777778,\"#fb9f3a\"],[0.8888888888888888,\"#fdca26\"],[1.0,\"#f0f921\"]]},\"colorway\":[\"#636efa\",\"#EF553B\",\"#00cc96\",\"#ab63fa\",\"#FFA15A\",\"#19d3f3\",\"#FF6692\",\"#B6E880\",\"#FF97FF\",\"#FECB52\"],\"font\":{\"color\":\"#2a3f5f\"},\"geo\":{\"bgcolor\":\"white\",\"lakecolor\":\"white\",\"landcolor\":\"#E5ECF6\",\"showlakes\":true,\"showland\":true,\"subunitcolor\":\"white\"},\"hoverlabel\":{\"align\":\"left\"},\"hovermode\":\"closest\",\"mapbox\":{\"style\":\"light\"},\"paper_bgcolor\":\"white\",\"plot_bgcolor\":\"#E5ECF6\",\"polar\":{\"angularaxis\":{\"gridcolor\":\"white\",\"linecolor\":\"white\",\"ticks\":\"\"},\"bgcolor\":\"#E5ECF6\",\"radialaxis\":{\"gridcolor\":\"white\",\"linecolor\":\"white\",\"ticks\":\"\"}},\"scene\":{\"xaxis\":{\"backgroundcolor\":\"#E5ECF6\",\"gridcolor\":\"white\",\"gridwidth\":2,\"linecolor\":\"white\",\"showbackground\":true,\"ticks\":\"\",\"zerolinecolor\":\"white\"},\"yaxis\":{\"backgroundcolor\":\"#E5ECF6\",\"gridcolor\":\"white\",\"gridwidth\":2,\"linecolor\":\"white\",\"showbackground\":true,\"ticks\":\"\",\"zerolinecolor\":\"white\"},\"zaxis\":{\"backgroundcolor\":\"#E5ECF6\",\"gridcolor\":\"white\",\"gridwidth\":2,\"linecolor\":\"white\",\"showbackground\":true,\"ticks\":\"\",\"zerolinecolor\":\"white\"}},\"shapedefaults\":{\"line\":{\"color\":\"#2a3f5f\"}},\"ternary\":{\"aaxis\":{\"gridcolor\":\"white\",\"linecolor\":\"white\",\"ticks\":\"\"},\"baxis\":{\"gridcolor\":\"white\",\"linecolor\":\"white\",\"ticks\":\"\"},\"bgcolor\":\"#E5ECF6\",\"caxis\":{\"gridcolor\":\"white\",\"linecolor\":\"white\",\"ticks\":\"\"}},\"title\":{\"x\":0.05},\"xaxis\":{\"automargin\":true,\"gridcolor\":\"white\",\"linecolor\":\"white\",\"ticks\":\"\",\"title\":{\"standoff\":15},\"zerolinecolor\":\"white\",\"zerolinewidth\":2},\"yaxis\":{\"automargin\":true,\"gridcolor\":\"white\",\"linecolor\":\"white\",\"ticks\":\"\",\"title\":{\"standoff\":15},\"zerolinecolor\":\"white\",\"zerolinewidth\":2}}},\"xaxis\":{\"anchor\":\"y\",\"domain\":[0.0,1.0],\"title\":{\"text\":\"Brand\"}},\"yaxis\":{\"anchor\":\"x\",\"domain\":[0.0,1.0],\"title\":{\"text\":\"sum of Monthly Sales\"}},\"legend\":{\"tracegroupgap\":0},\"margin\":{\"t\":60},\"barmode\":\"relative\"},                        {\"responsive\": true}                    ).then(function(){\n",
       "                            \n",
       "var gd = document.getElementById('bc6c06dc-4747-4790-9b8f-793959d3c508');\n",
       "var x = new MutationObserver(function (mutations, observer) {{\n",
       "        var display = window.getComputedStyle(gd).display;\n",
       "        if (!display || display === 'none') {{\n",
       "            console.log([gd, 'removed!']);\n",
       "            Plotly.purge(gd);\n",
       "            observer.disconnect();\n",
       "        }}\n",
       "}});\n",
       "\n",
       "// Listen for the removal of the full notebook cells\n",
       "var notebookContainer = gd.closest('#notebook-container');\n",
       "if (notebookContainer) {{\n",
       "    x.observe(notebookContainer, {childList: true});\n",
       "}}\n",
       "\n",
       "// Listen for the clearing of the current output cell\n",
       "var outputEl = gd.closest('.output');\n",
       "if (outputEl) {{\n",
       "    x.observe(outputEl, {childList: true});\n",
       "}}\n",
       "\n",
       "                        })                };                });            </script>        </div>"
      ]
     },
     "metadata": {},
     "output_type": "display_data"
    }
   ],
   "source": [
    "# посмотрим на продажи в месяц\n",
    "\n",
    "fig = px.histogram(df2, x='Brand', y='Monthly Sales')\n",
    "fig.show()"
   ]
  },
  {
   "cell_type": "markdown",
   "id": "a21ed372",
   "metadata": {},
   "source": [
    "## Отберем компании с продажами более 5к в месяц"
   ]
  },
  {
   "cell_type": "code",
   "execution_count": 64,
   "id": "64822eab",
   "metadata": {},
   "outputs": [
    {
     "data": {
      "text/html": [
       "<div>\n",
       "<style scoped>\n",
       "    .dataframe tbody tr th:only-of-type {\n",
       "        vertical-align: middle;\n",
       "    }\n",
       "\n",
       "    .dataframe tbody tr th {\n",
       "        vertical-align: top;\n",
       "    }\n",
       "\n",
       "    .dataframe thead th {\n",
       "        text-align: right;\n",
       "    }\n",
       "</style>\n",
       "<table border=\"1\" class=\"dataframe\">\n",
       "  <thead>\n",
       "    <tr style=\"text-align: right;\">\n",
       "      <th></th>\n",
       "      <th>ASIN</th>\n",
       "      <th>Title</th>\n",
       "      <th>Category</th>\n",
       "      <th>Brand</th>\n",
       "      <th>Price</th>\n",
       "      <th>Monthly Sales</th>\n",
       "      <th>Monthly Revenue</th>\n",
       "      <th>Review Count</th>\n",
       "      <th>Reviews Rating</th>\n",
       "      <th>Last Year Sales</th>\n",
       "      <th>Sales Year Over Year</th>\n",
       "      <th>Sales Trend (90 days)</th>\n",
       "      <th>Price Trend (90 days)</th>\n",
       "      <th>Best Sales Period</th>\n",
       "    </tr>\n",
       "  </thead>\n",
       "  <tbody>\n",
       "    <tr>\n",
       "      <th>0</th>\n",
       "      <td>B078SJ9F5S</td>\n",
       "      <td>Genius Mushroom - Lions Mane, Cordyceps and Re...</td>\n",
       "      <td>Health &amp; Household</td>\n",
       "      <td>The Genius Brand</td>\n",
       "      <td>21.95</td>\n",
       "      <td>35547</td>\n",
       "      <td>780256.65</td>\n",
       "      <td>37532</td>\n",
       "      <td>4.3</td>\n",
       "      <td>NaN</td>\n",
       "      <td>NaN</td>\n",
       "      <td>-3.0</td>\n",
       "      <td>1.0</td>\n",
       "      <td>Nov, 2023</td>\n",
       "    </tr>\n",
       "    <tr>\n",
       "      <th>1</th>\n",
       "      <td>B078SZX3ML</td>\n",
       "      <td>Lions Mane Mushroom Cognition Capsules (120 Ca...</td>\n",
       "      <td>Health &amp; Household</td>\n",
       "      <td>Real Mushrooms</td>\n",
       "      <td>29.95</td>\n",
       "      <td>22935</td>\n",
       "      <td>686903.25</td>\n",
       "      <td>14571</td>\n",
       "      <td>4.5</td>\n",
       "      <td>286634.0</td>\n",
       "      <td>150.0</td>\n",
       "      <td>-35.0</td>\n",
       "      <td>8.0</td>\n",
       "      <td>Sep, 2023</td>\n",
       "    </tr>\n",
       "    <tr>\n",
       "      <th>2</th>\n",
       "      <td>B0BG6TGKZS</td>\n",
       "      <td>Lions Mane 3000mg 20in1 Mushroom Supplement wi...</td>\n",
       "      <td>Health &amp; Household</td>\n",
       "      <td>Clean Nutraceuticals</td>\n",
       "      <td>29.95</td>\n",
       "      <td>19741</td>\n",
       "      <td>591242.95</td>\n",
       "      <td>3192</td>\n",
       "      <td>4.4</td>\n",
       "      <td>139163.0</td>\n",
       "      <td>NaN</td>\n",
       "      <td>52.0</td>\n",
       "      <td>-5.0</td>\n",
       "      <td>Jan, 2024</td>\n",
       "    </tr>\n",
       "    <tr>\n",
       "      <th>3</th>\n",
       "      <td>B0C4166SSW</td>\n",
       "      <td>Auri Super Mushroom Gummies - All-in-One Daily...</td>\n",
       "      <td>Health &amp; Household</td>\n",
       "      <td>Auri</td>\n",
       "      <td>49.99</td>\n",
       "      <td>7532</td>\n",
       "      <td>376524.68</td>\n",
       "      <td>823</td>\n",
       "      <td>4.1</td>\n",
       "      <td>NaN</td>\n",
       "      <td>NaN</td>\n",
       "      <td>-35.0</td>\n",
       "      <td>21.0</td>\n",
       "      <td>Nov, 2023</td>\n",
       "    </tr>\n",
       "    <tr>\n",
       "      <th>4</th>\n",
       "      <td>B07RG8MMXW</td>\n",
       "      <td>Sustainably US Grown, Organic Mega Mushroom 10...</td>\n",
       "      <td>Health &amp; Household</td>\n",
       "      <td>Micro Ingredients</td>\n",
       "      <td>29.95</td>\n",
       "      <td>8656</td>\n",
       "      <td>259247.2</td>\n",
       "      <td>7903</td>\n",
       "      <td>4.6</td>\n",
       "      <td>NaN</td>\n",
       "      <td>NaN</td>\n",
       "      <td>800.0</td>\n",
       "      <td>4.0</td>\n",
       "      <td>Jan, 2024</td>\n",
       "    </tr>\n",
       "    <tr>\n",
       "      <th>5</th>\n",
       "      <td>B0CGJCTXYY</td>\n",
       "      <td>DR EMIL NUTRITION 9000mg Organic Lions Mane Su...</td>\n",
       "      <td>Health &amp; Household</td>\n",
       "      <td>DR EMIL NUTRITION</td>\n",
       "      <td>36.95</td>\n",
       "      <td>6793</td>\n",
       "      <td>251001.35</td>\n",
       "      <td>18219</td>\n",
       "      <td>4.4</td>\n",
       "      <td>105320.0</td>\n",
       "      <td>174.0</td>\n",
       "      <td>-28.0</td>\n",
       "      <td>8.0</td>\n",
       "      <td>Sep, 2023</td>\n",
       "    </tr>\n",
       "    <tr>\n",
       "      <th>6</th>\n",
       "      <td>B08HLFVRB9</td>\n",
       "      <td>Lions Mane Mushroom Extract | 4200mg | 120 Cap...</td>\n",
       "      <td>Health &amp; Household</td>\n",
       "      <td>Horbäach</td>\n",
       "      <td>17.39</td>\n",
       "      <td>10917</td>\n",
       "      <td>189846.63</td>\n",
       "      <td>2709</td>\n",
       "      <td>4.5</td>\n",
       "      <td>84311.0</td>\n",
       "      <td>319.0</td>\n",
       "      <td>26.0</td>\n",
       "      <td>NaN</td>\n",
       "      <td>Jan, 2024</td>\n",
       "    </tr>\n",
       "    <tr>\n",
       "      <th>8</th>\n",
       "      <td>B09PSS2M5J</td>\n",
       "      <td>Ashwagandha &amp; Lion's Mane Supplement Gummies -...</td>\n",
       "      <td>Health &amp; Household</td>\n",
       "      <td>Drops Of Nature</td>\n",
       "      <td>24.95</td>\n",
       "      <td>5231</td>\n",
       "      <td>130513.45</td>\n",
       "      <td>2219</td>\n",
       "      <td>4.4</td>\n",
       "      <td>NaN</td>\n",
       "      <td>NaN</td>\n",
       "      <td>24.0</td>\n",
       "      <td>NaN</td>\n",
       "      <td>Jan, 2024</td>\n",
       "    </tr>\n",
       "  </tbody>\n",
       "</table>\n",
       "</div>"
      ],
      "text/plain": [
       "         ASIN                                              Title  \\\n",
       "0  B078SJ9F5S  Genius Mushroom - Lions Mane, Cordyceps and Re...   \n",
       "1  B078SZX3ML  Lions Mane Mushroom Cognition Capsules (120 Ca...   \n",
       "2  B0BG6TGKZS  Lions Mane 3000mg 20in1 Mushroom Supplement wi...   \n",
       "3  B0C4166SSW  Auri Super Mushroom Gummies - All-in-One Daily...   \n",
       "4  B07RG8MMXW  Sustainably US Grown, Organic Mega Mushroom 10...   \n",
       "5  B0CGJCTXYY  DR EMIL NUTRITION 9000mg Organic Lions Mane Su...   \n",
       "6  B08HLFVRB9  Lions Mane Mushroom Extract | 4200mg | 120 Cap...   \n",
       "8  B09PSS2M5J  Ashwagandha & Lion's Mane Supplement Gummies -...   \n",
       "\n",
       "             Category                 Brand  Price  Monthly Sales  \\\n",
       "0  Health & Household      The Genius Brand  21.95          35547   \n",
       "1  Health & Household        Real Mushrooms  29.95          22935   \n",
       "2  Health & Household  Clean Nutraceuticals  29.95          19741   \n",
       "3  Health & Household                  Auri  49.99           7532   \n",
       "4  Health & Household     Micro Ingredients  29.95           8656   \n",
       "5  Health & Household     DR EMIL NUTRITION  36.95           6793   \n",
       "6  Health & Household              Horbäach  17.39          10917   \n",
       "8  Health & Household       Drops Of Nature  24.95           5231   \n",
       "\n",
       "  Monthly Revenue  Review Count  Reviews Rating  Last Year Sales  \\\n",
       "0       780256.65         37532             4.3              NaN   \n",
       "1       686903.25         14571             4.5         286634.0   \n",
       "2       591242.95          3192             4.4         139163.0   \n",
       "3       376524.68           823             4.1              NaN   \n",
       "4        259247.2          7903             4.6              NaN   \n",
       "5       251001.35         18219             4.4         105320.0   \n",
       "6       189846.63          2709             4.5          84311.0   \n",
       "8       130513.45          2219             4.4              NaN   \n",
       "\n",
       "   Sales Year Over Year  Sales Trend (90 days)  Price Trend (90 days)  \\\n",
       "0                   NaN                   -3.0                    1.0   \n",
       "1                 150.0                  -35.0                    8.0   \n",
       "2                   NaN                   52.0                   -5.0   \n",
       "3                   NaN                  -35.0                   21.0   \n",
       "4                   NaN                  800.0                    4.0   \n",
       "5                 174.0                  -28.0                    8.0   \n",
       "6                 319.0                   26.0                    NaN   \n",
       "8                   NaN                   24.0                    NaN   \n",
       "\n",
       "  Best Sales Period  \n",
       "0         Nov, 2023  \n",
       "1         Sep, 2023  \n",
       "2         Jan, 2024  \n",
       "3         Nov, 2023  \n",
       "4         Jan, 2024  \n",
       "5         Sep, 2023  \n",
       "6         Jan, 2024  \n",
       "8         Jan, 2024  "
      ]
     },
     "execution_count": 64,
     "metadata": {},
     "output_type": "execute_result"
    }
   ],
   "source": [
    "df3 = df2.loc[df2['Monthly Sales'] > 5000]\n",
    "df3"
   ]
  },
  {
   "cell_type": "code",
   "execution_count": 62,
   "id": "ae137a86",
   "metadata": {},
   "outputs": [
    {
     "data": {
      "application/vnd.plotly.v1+json": {
       "config": {
        "plotlyServerURL": "https://plot.ly"
       },
       "data": [
        {
         "alignmentgroup": "True",
         "bingroup": "x",
         "histfunc": "sum",
         "hovertemplate": "Brand=%{x}<br>sum of Monthly Sales=%{y}<extra></extra>",
         "legendgroup": "",
         "marker": {
          "color": "#636efa",
          "pattern": {
           "shape": ""
          }
         },
         "name": "",
         "offsetgroup": "",
         "orientation": "v",
         "showlegend": false,
         "type": "histogram",
         "x": [
          "The Genius Brand",
          "Real Mushrooms",
          "Clean Nutraceuticals",
          "Auri",
          "Micro Ingredients",
          "DR EMIL NUTRITION",
          "Horbäach",
          "Drops Of Nature"
         ],
         "xaxis": "x",
         "y": [
          35547,
          22935,
          19741,
          7532,
          8656,
          6793,
          10917,
          5231
         ],
         "yaxis": "y"
        }
       ],
       "layout": {
        "barmode": "relative",
        "legend": {
         "tracegroupgap": 0
        },
        "margin": {
         "t": 60
        },
        "template": {
         "data": {
          "bar": [
           {
            "error_x": {
             "color": "#2a3f5f"
            },
            "error_y": {
             "color": "#2a3f5f"
            },
            "marker": {
             "line": {
              "color": "#E5ECF6",
              "width": 0.5
             },
             "pattern": {
              "fillmode": "overlay",
              "size": 10,
              "solidity": 0.2
             }
            },
            "type": "bar"
           }
          ],
          "barpolar": [
           {
            "marker": {
             "line": {
              "color": "#E5ECF6",
              "width": 0.5
             },
             "pattern": {
              "fillmode": "overlay",
              "size": 10,
              "solidity": 0.2
             }
            },
            "type": "barpolar"
           }
          ],
          "carpet": [
           {
            "aaxis": {
             "endlinecolor": "#2a3f5f",
             "gridcolor": "white",
             "linecolor": "white",
             "minorgridcolor": "white",
             "startlinecolor": "#2a3f5f"
            },
            "baxis": {
             "endlinecolor": "#2a3f5f",
             "gridcolor": "white",
             "linecolor": "white",
             "minorgridcolor": "white",
             "startlinecolor": "#2a3f5f"
            },
            "type": "carpet"
           }
          ],
          "choropleth": [
           {
            "colorbar": {
             "outlinewidth": 0,
             "ticks": ""
            },
            "type": "choropleth"
           }
          ],
          "contour": [
           {
            "colorbar": {
             "outlinewidth": 0,
             "ticks": ""
            },
            "colorscale": [
             [
              0,
              "#0d0887"
             ],
             [
              0.1111111111111111,
              "#46039f"
             ],
             [
              0.2222222222222222,
              "#7201a8"
             ],
             [
              0.3333333333333333,
              "#9c179e"
             ],
             [
              0.4444444444444444,
              "#bd3786"
             ],
             [
              0.5555555555555556,
              "#d8576b"
             ],
             [
              0.6666666666666666,
              "#ed7953"
             ],
             [
              0.7777777777777778,
              "#fb9f3a"
             ],
             [
              0.8888888888888888,
              "#fdca26"
             ],
             [
              1,
              "#f0f921"
             ]
            ],
            "type": "contour"
           }
          ],
          "contourcarpet": [
           {
            "colorbar": {
             "outlinewidth": 0,
             "ticks": ""
            },
            "type": "contourcarpet"
           }
          ],
          "heatmap": [
           {
            "colorbar": {
             "outlinewidth": 0,
             "ticks": ""
            },
            "colorscale": [
             [
              0,
              "#0d0887"
             ],
             [
              0.1111111111111111,
              "#46039f"
             ],
             [
              0.2222222222222222,
              "#7201a8"
             ],
             [
              0.3333333333333333,
              "#9c179e"
             ],
             [
              0.4444444444444444,
              "#bd3786"
             ],
             [
              0.5555555555555556,
              "#d8576b"
             ],
             [
              0.6666666666666666,
              "#ed7953"
             ],
             [
              0.7777777777777778,
              "#fb9f3a"
             ],
             [
              0.8888888888888888,
              "#fdca26"
             ],
             [
              1,
              "#f0f921"
             ]
            ],
            "type": "heatmap"
           }
          ],
          "heatmapgl": [
           {
            "colorbar": {
             "outlinewidth": 0,
             "ticks": ""
            },
            "colorscale": [
             [
              0,
              "#0d0887"
             ],
             [
              0.1111111111111111,
              "#46039f"
             ],
             [
              0.2222222222222222,
              "#7201a8"
             ],
             [
              0.3333333333333333,
              "#9c179e"
             ],
             [
              0.4444444444444444,
              "#bd3786"
             ],
             [
              0.5555555555555556,
              "#d8576b"
             ],
             [
              0.6666666666666666,
              "#ed7953"
             ],
             [
              0.7777777777777778,
              "#fb9f3a"
             ],
             [
              0.8888888888888888,
              "#fdca26"
             ],
             [
              1,
              "#f0f921"
             ]
            ],
            "type": "heatmapgl"
           }
          ],
          "histogram": [
           {
            "marker": {
             "pattern": {
              "fillmode": "overlay",
              "size": 10,
              "solidity": 0.2
             }
            },
            "type": "histogram"
           }
          ],
          "histogram2d": [
           {
            "colorbar": {
             "outlinewidth": 0,
             "ticks": ""
            },
            "colorscale": [
             [
              0,
              "#0d0887"
             ],
             [
              0.1111111111111111,
              "#46039f"
             ],
             [
              0.2222222222222222,
              "#7201a8"
             ],
             [
              0.3333333333333333,
              "#9c179e"
             ],
             [
              0.4444444444444444,
              "#bd3786"
             ],
             [
              0.5555555555555556,
              "#d8576b"
             ],
             [
              0.6666666666666666,
              "#ed7953"
             ],
             [
              0.7777777777777778,
              "#fb9f3a"
             ],
             [
              0.8888888888888888,
              "#fdca26"
             ],
             [
              1,
              "#f0f921"
             ]
            ],
            "type": "histogram2d"
           }
          ],
          "histogram2dcontour": [
           {
            "colorbar": {
             "outlinewidth": 0,
             "ticks": ""
            },
            "colorscale": [
             [
              0,
              "#0d0887"
             ],
             [
              0.1111111111111111,
              "#46039f"
             ],
             [
              0.2222222222222222,
              "#7201a8"
             ],
             [
              0.3333333333333333,
              "#9c179e"
             ],
             [
              0.4444444444444444,
              "#bd3786"
             ],
             [
              0.5555555555555556,
              "#d8576b"
             ],
             [
              0.6666666666666666,
              "#ed7953"
             ],
             [
              0.7777777777777778,
              "#fb9f3a"
             ],
             [
              0.8888888888888888,
              "#fdca26"
             ],
             [
              1,
              "#f0f921"
             ]
            ],
            "type": "histogram2dcontour"
           }
          ],
          "mesh3d": [
           {
            "colorbar": {
             "outlinewidth": 0,
             "ticks": ""
            },
            "type": "mesh3d"
           }
          ],
          "parcoords": [
           {
            "line": {
             "colorbar": {
              "outlinewidth": 0,
              "ticks": ""
             }
            },
            "type": "parcoords"
           }
          ],
          "pie": [
           {
            "automargin": true,
            "type": "pie"
           }
          ],
          "scatter": [
           {
            "marker": {
             "colorbar": {
              "outlinewidth": 0,
              "ticks": ""
             }
            },
            "type": "scatter"
           }
          ],
          "scatter3d": [
           {
            "line": {
             "colorbar": {
              "outlinewidth": 0,
              "ticks": ""
             }
            },
            "marker": {
             "colorbar": {
              "outlinewidth": 0,
              "ticks": ""
             }
            },
            "type": "scatter3d"
           }
          ],
          "scattercarpet": [
           {
            "marker": {
             "colorbar": {
              "outlinewidth": 0,
              "ticks": ""
             }
            },
            "type": "scattercarpet"
           }
          ],
          "scattergeo": [
           {
            "marker": {
             "colorbar": {
              "outlinewidth": 0,
              "ticks": ""
             }
            },
            "type": "scattergeo"
           }
          ],
          "scattergl": [
           {
            "marker": {
             "colorbar": {
              "outlinewidth": 0,
              "ticks": ""
             }
            },
            "type": "scattergl"
           }
          ],
          "scattermapbox": [
           {
            "marker": {
             "colorbar": {
              "outlinewidth": 0,
              "ticks": ""
             }
            },
            "type": "scattermapbox"
           }
          ],
          "scatterpolar": [
           {
            "marker": {
             "colorbar": {
              "outlinewidth": 0,
              "ticks": ""
             }
            },
            "type": "scatterpolar"
           }
          ],
          "scatterpolargl": [
           {
            "marker": {
             "colorbar": {
              "outlinewidth": 0,
              "ticks": ""
             }
            },
            "type": "scatterpolargl"
           }
          ],
          "scatterternary": [
           {
            "marker": {
             "colorbar": {
              "outlinewidth": 0,
              "ticks": ""
             }
            },
            "type": "scatterternary"
           }
          ],
          "surface": [
           {
            "colorbar": {
             "outlinewidth": 0,
             "ticks": ""
            },
            "colorscale": [
             [
              0,
              "#0d0887"
             ],
             [
              0.1111111111111111,
              "#46039f"
             ],
             [
              0.2222222222222222,
              "#7201a8"
             ],
             [
              0.3333333333333333,
              "#9c179e"
             ],
             [
              0.4444444444444444,
              "#bd3786"
             ],
             [
              0.5555555555555556,
              "#d8576b"
             ],
             [
              0.6666666666666666,
              "#ed7953"
             ],
             [
              0.7777777777777778,
              "#fb9f3a"
             ],
             [
              0.8888888888888888,
              "#fdca26"
             ],
             [
              1,
              "#f0f921"
             ]
            ],
            "type": "surface"
           }
          ],
          "table": [
           {
            "cells": {
             "fill": {
              "color": "#EBF0F8"
             },
             "line": {
              "color": "white"
             }
            },
            "header": {
             "fill": {
              "color": "#C8D4E3"
             },
             "line": {
              "color": "white"
             }
            },
            "type": "table"
           }
          ]
         },
         "layout": {
          "annotationdefaults": {
           "arrowcolor": "#2a3f5f",
           "arrowhead": 0,
           "arrowwidth": 1
          },
          "autotypenumbers": "strict",
          "coloraxis": {
           "colorbar": {
            "outlinewidth": 0,
            "ticks": ""
           }
          },
          "colorscale": {
           "diverging": [
            [
             0,
             "#8e0152"
            ],
            [
             0.1,
             "#c51b7d"
            ],
            [
             0.2,
             "#de77ae"
            ],
            [
             0.3,
             "#f1b6da"
            ],
            [
             0.4,
             "#fde0ef"
            ],
            [
             0.5,
             "#f7f7f7"
            ],
            [
             0.6,
             "#e6f5d0"
            ],
            [
             0.7,
             "#b8e186"
            ],
            [
             0.8,
             "#7fbc41"
            ],
            [
             0.9,
             "#4d9221"
            ],
            [
             1,
             "#276419"
            ]
           ],
           "sequential": [
            [
             0,
             "#0d0887"
            ],
            [
             0.1111111111111111,
             "#46039f"
            ],
            [
             0.2222222222222222,
             "#7201a8"
            ],
            [
             0.3333333333333333,
             "#9c179e"
            ],
            [
             0.4444444444444444,
             "#bd3786"
            ],
            [
             0.5555555555555556,
             "#d8576b"
            ],
            [
             0.6666666666666666,
             "#ed7953"
            ],
            [
             0.7777777777777778,
             "#fb9f3a"
            ],
            [
             0.8888888888888888,
             "#fdca26"
            ],
            [
             1,
             "#f0f921"
            ]
           ],
           "sequentialminus": [
            [
             0,
             "#0d0887"
            ],
            [
             0.1111111111111111,
             "#46039f"
            ],
            [
             0.2222222222222222,
             "#7201a8"
            ],
            [
             0.3333333333333333,
             "#9c179e"
            ],
            [
             0.4444444444444444,
             "#bd3786"
            ],
            [
             0.5555555555555556,
             "#d8576b"
            ],
            [
             0.6666666666666666,
             "#ed7953"
            ],
            [
             0.7777777777777778,
             "#fb9f3a"
            ],
            [
             0.8888888888888888,
             "#fdca26"
            ],
            [
             1,
             "#f0f921"
            ]
           ]
          },
          "colorway": [
           "#636efa",
           "#EF553B",
           "#00cc96",
           "#ab63fa",
           "#FFA15A",
           "#19d3f3",
           "#FF6692",
           "#B6E880",
           "#FF97FF",
           "#FECB52"
          ],
          "font": {
           "color": "#2a3f5f"
          },
          "geo": {
           "bgcolor": "white",
           "lakecolor": "white",
           "landcolor": "#E5ECF6",
           "showlakes": true,
           "showland": true,
           "subunitcolor": "white"
          },
          "hoverlabel": {
           "align": "left"
          },
          "hovermode": "closest",
          "mapbox": {
           "style": "light"
          },
          "paper_bgcolor": "white",
          "plot_bgcolor": "#E5ECF6",
          "polar": {
           "angularaxis": {
            "gridcolor": "white",
            "linecolor": "white",
            "ticks": ""
           },
           "bgcolor": "#E5ECF6",
           "radialaxis": {
            "gridcolor": "white",
            "linecolor": "white",
            "ticks": ""
           }
          },
          "scene": {
           "xaxis": {
            "backgroundcolor": "#E5ECF6",
            "gridcolor": "white",
            "gridwidth": 2,
            "linecolor": "white",
            "showbackground": true,
            "ticks": "",
            "zerolinecolor": "white"
           },
           "yaxis": {
            "backgroundcolor": "#E5ECF6",
            "gridcolor": "white",
            "gridwidth": 2,
            "linecolor": "white",
            "showbackground": true,
            "ticks": "",
            "zerolinecolor": "white"
           },
           "zaxis": {
            "backgroundcolor": "#E5ECF6",
            "gridcolor": "white",
            "gridwidth": 2,
            "linecolor": "white",
            "showbackground": true,
            "ticks": "",
            "zerolinecolor": "white"
           }
          },
          "shapedefaults": {
           "line": {
            "color": "#2a3f5f"
           }
          },
          "ternary": {
           "aaxis": {
            "gridcolor": "white",
            "linecolor": "white",
            "ticks": ""
           },
           "baxis": {
            "gridcolor": "white",
            "linecolor": "white",
            "ticks": ""
           },
           "bgcolor": "#E5ECF6",
           "caxis": {
            "gridcolor": "white",
            "linecolor": "white",
            "ticks": ""
           }
          },
          "title": {
           "x": 0.05
          },
          "xaxis": {
           "automargin": true,
           "gridcolor": "white",
           "linecolor": "white",
           "ticks": "",
           "title": {
            "standoff": 15
           },
           "zerolinecolor": "white",
           "zerolinewidth": 2
          },
          "yaxis": {
           "automargin": true,
           "gridcolor": "white",
           "linecolor": "white",
           "ticks": "",
           "title": {
            "standoff": 15
           },
           "zerolinecolor": "white",
           "zerolinewidth": 2
          }
         }
        },
        "xaxis": {
         "anchor": "y",
         "domain": [
          0,
          1
         ],
         "title": {
          "text": "Brand"
         }
        },
        "yaxis": {
         "anchor": "x",
         "domain": [
          0,
          1
         ],
         "title": {
          "text": "sum of Monthly Sales"
         }
        }
       }
      },
      "text/html": [
       "<div>                            <div id=\"0663f02a-ff84-4163-8c74-9fedeaf55527\" class=\"plotly-graph-div\" style=\"height:525px; width:100%;\"></div>            <script type=\"text/javascript\">                require([\"plotly\"], function(Plotly) {                    window.PLOTLYENV=window.PLOTLYENV || {};                                    if (document.getElementById(\"0663f02a-ff84-4163-8c74-9fedeaf55527\")) {                    Plotly.newPlot(                        \"0663f02a-ff84-4163-8c74-9fedeaf55527\",                        [{\"alignmentgroup\":\"True\",\"bingroup\":\"x\",\"histfunc\":\"sum\",\"hovertemplate\":\"Brand=%{x}<br>sum of Monthly Sales=%{y}<extra></extra>\",\"legendgroup\":\"\",\"marker\":{\"color\":\"#636efa\",\"pattern\":{\"shape\":\"\"}},\"name\":\"\",\"offsetgroup\":\"\",\"orientation\":\"v\",\"showlegend\":false,\"x\":[\"The Genius Brand\",\"Real Mushrooms\",\"Clean Nutraceuticals\",\"Auri\",\"Micro Ingredients\",\"DR EMIL NUTRITION\",\"Horb\\u00e4ach\",\"Drops Of Nature\"],\"xaxis\":\"x\",\"y\":[35547,22935,19741,7532,8656,6793,10917,5231],\"yaxis\":\"y\",\"type\":\"histogram\"}],                        {\"template\":{\"data\":{\"bar\":[{\"error_x\":{\"color\":\"#2a3f5f\"},\"error_y\":{\"color\":\"#2a3f5f\"},\"marker\":{\"line\":{\"color\":\"#E5ECF6\",\"width\":0.5},\"pattern\":{\"fillmode\":\"overlay\",\"size\":10,\"solidity\":0.2}},\"type\":\"bar\"}],\"barpolar\":[{\"marker\":{\"line\":{\"color\":\"#E5ECF6\",\"width\":0.5},\"pattern\":{\"fillmode\":\"overlay\",\"size\":10,\"solidity\":0.2}},\"type\":\"barpolar\"}],\"carpet\":[{\"aaxis\":{\"endlinecolor\":\"#2a3f5f\",\"gridcolor\":\"white\",\"linecolor\":\"white\",\"minorgridcolor\":\"white\",\"startlinecolor\":\"#2a3f5f\"},\"baxis\":{\"endlinecolor\":\"#2a3f5f\",\"gridcolor\":\"white\",\"linecolor\":\"white\",\"minorgridcolor\":\"white\",\"startlinecolor\":\"#2a3f5f\"},\"type\":\"carpet\"}],\"choropleth\":[{\"colorbar\":{\"outlinewidth\":0,\"ticks\":\"\"},\"type\":\"choropleth\"}],\"contour\":[{\"colorbar\":{\"outlinewidth\":0,\"ticks\":\"\"},\"colorscale\":[[0.0,\"#0d0887\"],[0.1111111111111111,\"#46039f\"],[0.2222222222222222,\"#7201a8\"],[0.3333333333333333,\"#9c179e\"],[0.4444444444444444,\"#bd3786\"],[0.5555555555555556,\"#d8576b\"],[0.6666666666666666,\"#ed7953\"],[0.7777777777777778,\"#fb9f3a\"],[0.8888888888888888,\"#fdca26\"],[1.0,\"#f0f921\"]],\"type\":\"contour\"}],\"contourcarpet\":[{\"colorbar\":{\"outlinewidth\":0,\"ticks\":\"\"},\"type\":\"contourcarpet\"}],\"heatmap\":[{\"colorbar\":{\"outlinewidth\":0,\"ticks\":\"\"},\"colorscale\":[[0.0,\"#0d0887\"],[0.1111111111111111,\"#46039f\"],[0.2222222222222222,\"#7201a8\"],[0.3333333333333333,\"#9c179e\"],[0.4444444444444444,\"#bd3786\"],[0.5555555555555556,\"#d8576b\"],[0.6666666666666666,\"#ed7953\"],[0.7777777777777778,\"#fb9f3a\"],[0.8888888888888888,\"#fdca26\"],[1.0,\"#f0f921\"]],\"type\":\"heatmap\"}],\"heatmapgl\":[{\"colorbar\":{\"outlinewidth\":0,\"ticks\":\"\"},\"colorscale\":[[0.0,\"#0d0887\"],[0.1111111111111111,\"#46039f\"],[0.2222222222222222,\"#7201a8\"],[0.3333333333333333,\"#9c179e\"],[0.4444444444444444,\"#bd3786\"],[0.5555555555555556,\"#d8576b\"],[0.6666666666666666,\"#ed7953\"],[0.7777777777777778,\"#fb9f3a\"],[0.8888888888888888,\"#fdca26\"],[1.0,\"#f0f921\"]],\"type\":\"heatmapgl\"}],\"histogram\":[{\"marker\":{\"pattern\":{\"fillmode\":\"overlay\",\"size\":10,\"solidity\":0.2}},\"type\":\"histogram\"}],\"histogram2d\":[{\"colorbar\":{\"outlinewidth\":0,\"ticks\":\"\"},\"colorscale\":[[0.0,\"#0d0887\"],[0.1111111111111111,\"#46039f\"],[0.2222222222222222,\"#7201a8\"],[0.3333333333333333,\"#9c179e\"],[0.4444444444444444,\"#bd3786\"],[0.5555555555555556,\"#d8576b\"],[0.6666666666666666,\"#ed7953\"],[0.7777777777777778,\"#fb9f3a\"],[0.8888888888888888,\"#fdca26\"],[1.0,\"#f0f921\"]],\"type\":\"histogram2d\"}],\"histogram2dcontour\":[{\"colorbar\":{\"outlinewidth\":0,\"ticks\":\"\"},\"colorscale\":[[0.0,\"#0d0887\"],[0.1111111111111111,\"#46039f\"],[0.2222222222222222,\"#7201a8\"],[0.3333333333333333,\"#9c179e\"],[0.4444444444444444,\"#bd3786\"],[0.5555555555555556,\"#d8576b\"],[0.6666666666666666,\"#ed7953\"],[0.7777777777777778,\"#fb9f3a\"],[0.8888888888888888,\"#fdca26\"],[1.0,\"#f0f921\"]],\"type\":\"histogram2dcontour\"}],\"mesh3d\":[{\"colorbar\":{\"outlinewidth\":0,\"ticks\":\"\"},\"type\":\"mesh3d\"}],\"parcoords\":[{\"line\":{\"colorbar\":{\"outlinewidth\":0,\"ticks\":\"\"}},\"type\":\"parcoords\"}],\"pie\":[{\"automargin\":true,\"type\":\"pie\"}],\"scatter\":[{\"marker\":{\"colorbar\":{\"outlinewidth\":0,\"ticks\":\"\"}},\"type\":\"scatter\"}],\"scatter3d\":[{\"line\":{\"colorbar\":{\"outlinewidth\":0,\"ticks\":\"\"}},\"marker\":{\"colorbar\":{\"outlinewidth\":0,\"ticks\":\"\"}},\"type\":\"scatter3d\"}],\"scattercarpet\":[{\"marker\":{\"colorbar\":{\"outlinewidth\":0,\"ticks\":\"\"}},\"type\":\"scattercarpet\"}],\"scattergeo\":[{\"marker\":{\"colorbar\":{\"outlinewidth\":0,\"ticks\":\"\"}},\"type\":\"scattergeo\"}],\"scattergl\":[{\"marker\":{\"colorbar\":{\"outlinewidth\":0,\"ticks\":\"\"}},\"type\":\"scattergl\"}],\"scattermapbox\":[{\"marker\":{\"colorbar\":{\"outlinewidth\":0,\"ticks\":\"\"}},\"type\":\"scattermapbox\"}],\"scatterpolar\":[{\"marker\":{\"colorbar\":{\"outlinewidth\":0,\"ticks\":\"\"}},\"type\":\"scatterpolar\"}],\"scatterpolargl\":[{\"marker\":{\"colorbar\":{\"outlinewidth\":0,\"ticks\":\"\"}},\"type\":\"scatterpolargl\"}],\"scatterternary\":[{\"marker\":{\"colorbar\":{\"outlinewidth\":0,\"ticks\":\"\"}},\"type\":\"scatterternary\"}],\"surface\":[{\"colorbar\":{\"outlinewidth\":0,\"ticks\":\"\"},\"colorscale\":[[0.0,\"#0d0887\"],[0.1111111111111111,\"#46039f\"],[0.2222222222222222,\"#7201a8\"],[0.3333333333333333,\"#9c179e\"],[0.4444444444444444,\"#bd3786\"],[0.5555555555555556,\"#d8576b\"],[0.6666666666666666,\"#ed7953\"],[0.7777777777777778,\"#fb9f3a\"],[0.8888888888888888,\"#fdca26\"],[1.0,\"#f0f921\"]],\"type\":\"surface\"}],\"table\":[{\"cells\":{\"fill\":{\"color\":\"#EBF0F8\"},\"line\":{\"color\":\"white\"}},\"header\":{\"fill\":{\"color\":\"#C8D4E3\"},\"line\":{\"color\":\"white\"}},\"type\":\"table\"}]},\"layout\":{\"annotationdefaults\":{\"arrowcolor\":\"#2a3f5f\",\"arrowhead\":0,\"arrowwidth\":1},\"autotypenumbers\":\"strict\",\"coloraxis\":{\"colorbar\":{\"outlinewidth\":0,\"ticks\":\"\"}},\"colorscale\":{\"diverging\":[[0,\"#8e0152\"],[0.1,\"#c51b7d\"],[0.2,\"#de77ae\"],[0.3,\"#f1b6da\"],[0.4,\"#fde0ef\"],[0.5,\"#f7f7f7\"],[0.6,\"#e6f5d0\"],[0.7,\"#b8e186\"],[0.8,\"#7fbc41\"],[0.9,\"#4d9221\"],[1,\"#276419\"]],\"sequential\":[[0.0,\"#0d0887\"],[0.1111111111111111,\"#46039f\"],[0.2222222222222222,\"#7201a8\"],[0.3333333333333333,\"#9c179e\"],[0.4444444444444444,\"#bd3786\"],[0.5555555555555556,\"#d8576b\"],[0.6666666666666666,\"#ed7953\"],[0.7777777777777778,\"#fb9f3a\"],[0.8888888888888888,\"#fdca26\"],[1.0,\"#f0f921\"]],\"sequentialminus\":[[0.0,\"#0d0887\"],[0.1111111111111111,\"#46039f\"],[0.2222222222222222,\"#7201a8\"],[0.3333333333333333,\"#9c179e\"],[0.4444444444444444,\"#bd3786\"],[0.5555555555555556,\"#d8576b\"],[0.6666666666666666,\"#ed7953\"],[0.7777777777777778,\"#fb9f3a\"],[0.8888888888888888,\"#fdca26\"],[1.0,\"#f0f921\"]]},\"colorway\":[\"#636efa\",\"#EF553B\",\"#00cc96\",\"#ab63fa\",\"#FFA15A\",\"#19d3f3\",\"#FF6692\",\"#B6E880\",\"#FF97FF\",\"#FECB52\"],\"font\":{\"color\":\"#2a3f5f\"},\"geo\":{\"bgcolor\":\"white\",\"lakecolor\":\"white\",\"landcolor\":\"#E5ECF6\",\"showlakes\":true,\"showland\":true,\"subunitcolor\":\"white\"},\"hoverlabel\":{\"align\":\"left\"},\"hovermode\":\"closest\",\"mapbox\":{\"style\":\"light\"},\"paper_bgcolor\":\"white\",\"plot_bgcolor\":\"#E5ECF6\",\"polar\":{\"angularaxis\":{\"gridcolor\":\"white\",\"linecolor\":\"white\",\"ticks\":\"\"},\"bgcolor\":\"#E5ECF6\",\"radialaxis\":{\"gridcolor\":\"white\",\"linecolor\":\"white\",\"ticks\":\"\"}},\"scene\":{\"xaxis\":{\"backgroundcolor\":\"#E5ECF6\",\"gridcolor\":\"white\",\"gridwidth\":2,\"linecolor\":\"white\",\"showbackground\":true,\"ticks\":\"\",\"zerolinecolor\":\"white\"},\"yaxis\":{\"backgroundcolor\":\"#E5ECF6\",\"gridcolor\":\"white\",\"gridwidth\":2,\"linecolor\":\"white\",\"showbackground\":true,\"ticks\":\"\",\"zerolinecolor\":\"white\"},\"zaxis\":{\"backgroundcolor\":\"#E5ECF6\",\"gridcolor\":\"white\",\"gridwidth\":2,\"linecolor\":\"white\",\"showbackground\":true,\"ticks\":\"\",\"zerolinecolor\":\"white\"}},\"shapedefaults\":{\"line\":{\"color\":\"#2a3f5f\"}},\"ternary\":{\"aaxis\":{\"gridcolor\":\"white\",\"linecolor\":\"white\",\"ticks\":\"\"},\"baxis\":{\"gridcolor\":\"white\",\"linecolor\":\"white\",\"ticks\":\"\"},\"bgcolor\":\"#E5ECF6\",\"caxis\":{\"gridcolor\":\"white\",\"linecolor\":\"white\",\"ticks\":\"\"}},\"title\":{\"x\":0.05},\"xaxis\":{\"automargin\":true,\"gridcolor\":\"white\",\"linecolor\":\"white\",\"ticks\":\"\",\"title\":{\"standoff\":15},\"zerolinecolor\":\"white\",\"zerolinewidth\":2},\"yaxis\":{\"automargin\":true,\"gridcolor\":\"white\",\"linecolor\":\"white\",\"ticks\":\"\",\"title\":{\"standoff\":15},\"zerolinecolor\":\"white\",\"zerolinewidth\":2}}},\"xaxis\":{\"anchor\":\"y\",\"domain\":[0.0,1.0],\"title\":{\"text\":\"Brand\"}},\"yaxis\":{\"anchor\":\"x\",\"domain\":[0.0,1.0],\"title\":{\"text\":\"sum of Monthly Sales\"}},\"legend\":{\"tracegroupgap\":0},\"margin\":{\"t\":60},\"barmode\":\"relative\"},                        {\"responsive\": true}                    ).then(function(){\n",
       "                            \n",
       "var gd = document.getElementById('0663f02a-ff84-4163-8c74-9fedeaf55527');\n",
       "var x = new MutationObserver(function (mutations, observer) {{\n",
       "        var display = window.getComputedStyle(gd).display;\n",
       "        if (!display || display === 'none') {{\n",
       "            console.log([gd, 'removed!']);\n",
       "            Plotly.purge(gd);\n",
       "            observer.disconnect();\n",
       "        }}\n",
       "}});\n",
       "\n",
       "// Listen for the removal of the full notebook cells\n",
       "var notebookContainer = gd.closest('#notebook-container');\n",
       "if (notebookContainer) {{\n",
       "    x.observe(notebookContainer, {childList: true});\n",
       "}}\n",
       "\n",
       "// Listen for the clearing of the current output cell\n",
       "var outputEl = gd.closest('.output');\n",
       "if (outputEl) {{\n",
       "    x.observe(outputEl, {childList: true});\n",
       "}}\n",
       "\n",
       "                        })                };                });            </script>        </div>"
      ]
     },
     "metadata": {},
     "output_type": "display_data"
    }
   ],
   "source": [
    "fig = px.histogram(df3, x='Brand', y='Monthly Sales')\n",
    "fig.show()"
   ]
  },
  {
   "cell_type": "code",
   "execution_count": 71,
   "id": "86ca86c6",
   "metadata": {},
   "outputs": [
    {
     "data": {
      "text/plain": [
       "['Genius Mushroom - Lions Mane, Cordyceps and Reishi - Immune System Booster & Nootropic Brain Supplement - for Natural Energy, Memory & Liver Support, 90 Veggie Pills',\n",
       " 'Lions Mane Mushroom Cognition Capsules (120 Capsules) Lions Mane Mushroom Powder Extract Capsules | Brain Supplement, Brain Vitamins, Focus Supplement',\n",
       " 'Lions Mane 3000mg 20in1 Mushroom Supplement with Turkey Tail 2000mg Reishi 1000mg Cordyceps Chaga 1000mg Maitake Meshima Poria Cocos Shiitake Oyster Porcini Enoki 60 Count Made In USA',\n",
       " 'Auri Super Mushroom Gummies - All-in-One Daily Supplement Gummy - 12 Mushroom Blend with Chaga, Lions Mane, Reishi, Cordyceps - Boost Your Immunity, Focus, Energy, Mood - 60 Gummies',\n",
       " 'Sustainably US Grown, Organic Mega Mushroom 10 in 1 Complex Formula Powder for Immune System Booster, 10 Ounce (284 Days Supply), Chaga, Lions Mane, Cordyceps, Reishi & More, Filler Free, Vegan',\n",
       " \"DR EMIL NUTRITION 9000mg Organic Lions Mane Supplement Capsules for Mental Clarity, Focus & Cognitive Support - Brain Boosting Nootropic Mushroom Supplement with Lion's Mane, Chaga, Reishi & Maitake\",\n",
       " 'Lions Mane Mushroom Extract | 4200mg | 120 Capsules | Vegetarian, Non-GMO, Gluten Free Supplement | by Horbaach',\n",
       " \"Ashwagandha & Lion's Mane Supplement Gummies - Comprehensive Mushroom Supplement for Cognitive & Immune Support, Vegan Blend with Reishi, Cordyceps - Low Carb, 80 Organic Mushroom Gummies\"]"
      ]
     },
     "execution_count": 71,
     "metadata": {},
     "output_type": "execute_result"
    }
   ],
   "source": [
    "title = df3['Title'].to_list()\n",
    "title"
   ]
  },
  {
   "cell_type": "markdown",
   "id": "1a7f76c0",
   "metadata": {},
   "source": [
    "### Самыми продаваемыми продуктами у компаний, у которых более 5к продаж в месяц, являются капсулы с грибами, жевательные конфеты, порошки"
   ]
  },
  {
   "cell_type": "markdown",
   "id": "10d8e045",
   "metadata": {},
   "source": [
    "## Посмотрим на тренд продаж в течение 90 дней, выберем компании с наибольшим ростом"
   ]
  },
  {
   "cell_type": "code",
   "execution_count": 72,
   "id": "c2ba8506",
   "metadata": {},
   "outputs": [
    {
     "data": {
      "application/vnd.plotly.v1+json": {
       "config": {
        "plotlyServerURL": "https://plot.ly"
       },
       "data": [
        {
         "alignmentgroup": "True",
         "bingroup": "x",
         "histfunc": "sum",
         "hovertemplate": "Brand=%{x}<br>sum of Sales Trend (90 days)=%{y}<extra></extra>",
         "legendgroup": "",
         "marker": {
          "color": "#636efa",
          "pattern": {
           "shape": ""
          }
         },
         "name": "",
         "offsetgroup": "",
         "orientation": "v",
         "showlegend": false,
         "type": "histogram",
         "x": [
          "The Genius Brand",
          "Real Mushrooms",
          "Clean Nutraceuticals",
          "Auri",
          "Micro Ingredients",
          "DR EMIL NUTRITION",
          "Horbäach",
          "Stonehenge Health",
          "Drops Of Nature",
          "Host Defense",
          "KIKI Green",
          "Real Mushrooms",
          "Gaia Herbs",
          "Real Mushrooms",
          "TERRA ELMNT",
          "Laird Superfood",
          "Purify Life",
          "WIXAR NATURALS",
          "Fungies",
          "Double Wood Supplements",
          "SZCZEKIN",
          "DEAL SUPPLEMENT",
          "Host Defense",
          "NutriFlair",
          "NATURELO",
          "Force Factor",
          "VEGATOT",
          "EFFECTIVE NUTRA",
          "ACEWORKZ",
          "VitaRaw",
          "1 Body",
          "MaryRuth Organics",
          "Nutrivein",
          "Four Sigmatic",
          "UPHORIC URTH",
          "Double Wood Supplements",
          "nutriyum",
          "Purify Life",
          "Stamiron",
          "Etta Vita",
          "Carlyle",
          "Satoomi",
          "S RAW SCIENCE",
          "Swanson",
          "Mutsweet",
          "DailyNutra",
          "Yasumako",
          "Life Cykel",
          "SZCZEKIN",
          "Double Wood Supplements",
          "SAGA",
          "Vitamax",
          "SAGA",
          "Satoomi",
          "Double Wood Supplements",
          "Garden of Life",
          "Nutricost",
          "Om Mushroom Superfood",
          "Gaia Herbs",
          "NatureBell",
          "SOLARAY",
          "Wild & Organic",
          "Doctor Danielle",
          "Shizam",
          "Herbal Roots",
          "Mother Nutrient",
          "Toniiq",
          "Nootrilabs Naturals",
          "Bronson",
          "BEIMIC",
          "Fuel Nutrition Pro",
          "DEDICAD",
          "ECO-TASTE",
          "IQ BIOLOGY",
          "HAPPY FOX",
          "Nature's Fusions",
          "Organic Cadane",
          "VitaUp",
          "HELLO HEALTH",
          "Nature Restore",
          "iVitamins",
          "NutraCreek",
          "NUQIIT",
          "Organic Cadane",
          "SMNutrition",
          "GANOHERB",
          "Inner Elevate",
          "GANOHERB",
          "BULKSUPPLEMENTS.COM",
          "Malama Mushrooms",
          "Kaya Naturals",
          "Nature's Truth",
          "UR Treasure Nutrition",
          "VELOTO",
          "Primaforce",
          "Esentai"
         ],
         "xaxis": "x",
         "y": [
          -3,
          -35,
          52,
          -35,
          800,
          -28,
          26,
          13,
          24,
          -20,
          19,
          -6,
          6,
          13,
          16,
          9,
          -10,
          -7,
          30,
          -9,
          44,
          113,
          20,
          37,
          29,
          184,
          -4,
          4,
          -30,
          -29,
          3,
          -3,
          383,
          41,
          14,
          19,
          null,
          -44,
          -2,
          null,
          10,
          -9,
          -29,
          42,
          null,
          15,
          -3,
          26,
          null,
          -52,
          6,
          null,
          3,
          -16,
          16,
          270,
          41,
          12,
          5,
          363,
          4,
          51,
          2,
          0,
          47,
          10,
          null,
          11,
          -2,
          null,
          null,
          94,
          49,
          null,
          null,
          null,
          -60,
          null,
          -13,
          78,
          -38,
          48,
          null,
          -37,
          91,
          45,
          null,
          null,
          null,
          0,
          -9,
          0,
          -59,
          null,
          0,
          364
         ],
         "yaxis": "y"
        }
       ],
       "layout": {
        "barmode": "relative",
        "legend": {
         "tracegroupgap": 0
        },
        "margin": {
         "t": 60
        },
        "template": {
         "data": {
          "bar": [
           {
            "error_x": {
             "color": "#2a3f5f"
            },
            "error_y": {
             "color": "#2a3f5f"
            },
            "marker": {
             "line": {
              "color": "#E5ECF6",
              "width": 0.5
             },
             "pattern": {
              "fillmode": "overlay",
              "size": 10,
              "solidity": 0.2
             }
            },
            "type": "bar"
           }
          ],
          "barpolar": [
           {
            "marker": {
             "line": {
              "color": "#E5ECF6",
              "width": 0.5
             },
             "pattern": {
              "fillmode": "overlay",
              "size": 10,
              "solidity": 0.2
             }
            },
            "type": "barpolar"
           }
          ],
          "carpet": [
           {
            "aaxis": {
             "endlinecolor": "#2a3f5f",
             "gridcolor": "white",
             "linecolor": "white",
             "minorgridcolor": "white",
             "startlinecolor": "#2a3f5f"
            },
            "baxis": {
             "endlinecolor": "#2a3f5f",
             "gridcolor": "white",
             "linecolor": "white",
             "minorgridcolor": "white",
             "startlinecolor": "#2a3f5f"
            },
            "type": "carpet"
           }
          ],
          "choropleth": [
           {
            "colorbar": {
             "outlinewidth": 0,
             "ticks": ""
            },
            "type": "choropleth"
           }
          ],
          "contour": [
           {
            "colorbar": {
             "outlinewidth": 0,
             "ticks": ""
            },
            "colorscale": [
             [
              0,
              "#0d0887"
             ],
             [
              0.1111111111111111,
              "#46039f"
             ],
             [
              0.2222222222222222,
              "#7201a8"
             ],
             [
              0.3333333333333333,
              "#9c179e"
             ],
             [
              0.4444444444444444,
              "#bd3786"
             ],
             [
              0.5555555555555556,
              "#d8576b"
             ],
             [
              0.6666666666666666,
              "#ed7953"
             ],
             [
              0.7777777777777778,
              "#fb9f3a"
             ],
             [
              0.8888888888888888,
              "#fdca26"
             ],
             [
              1,
              "#f0f921"
             ]
            ],
            "type": "contour"
           }
          ],
          "contourcarpet": [
           {
            "colorbar": {
             "outlinewidth": 0,
             "ticks": ""
            },
            "type": "contourcarpet"
           }
          ],
          "heatmap": [
           {
            "colorbar": {
             "outlinewidth": 0,
             "ticks": ""
            },
            "colorscale": [
             [
              0,
              "#0d0887"
             ],
             [
              0.1111111111111111,
              "#46039f"
             ],
             [
              0.2222222222222222,
              "#7201a8"
             ],
             [
              0.3333333333333333,
              "#9c179e"
             ],
             [
              0.4444444444444444,
              "#bd3786"
             ],
             [
              0.5555555555555556,
              "#d8576b"
             ],
             [
              0.6666666666666666,
              "#ed7953"
             ],
             [
              0.7777777777777778,
              "#fb9f3a"
             ],
             [
              0.8888888888888888,
              "#fdca26"
             ],
             [
              1,
              "#f0f921"
             ]
            ],
            "type": "heatmap"
           }
          ],
          "heatmapgl": [
           {
            "colorbar": {
             "outlinewidth": 0,
             "ticks": ""
            },
            "colorscale": [
             [
              0,
              "#0d0887"
             ],
             [
              0.1111111111111111,
              "#46039f"
             ],
             [
              0.2222222222222222,
              "#7201a8"
             ],
             [
              0.3333333333333333,
              "#9c179e"
             ],
             [
              0.4444444444444444,
              "#bd3786"
             ],
             [
              0.5555555555555556,
              "#d8576b"
             ],
             [
              0.6666666666666666,
              "#ed7953"
             ],
             [
              0.7777777777777778,
              "#fb9f3a"
             ],
             [
              0.8888888888888888,
              "#fdca26"
             ],
             [
              1,
              "#f0f921"
             ]
            ],
            "type": "heatmapgl"
           }
          ],
          "histogram": [
           {
            "marker": {
             "pattern": {
              "fillmode": "overlay",
              "size": 10,
              "solidity": 0.2
             }
            },
            "type": "histogram"
           }
          ],
          "histogram2d": [
           {
            "colorbar": {
             "outlinewidth": 0,
             "ticks": ""
            },
            "colorscale": [
             [
              0,
              "#0d0887"
             ],
             [
              0.1111111111111111,
              "#46039f"
             ],
             [
              0.2222222222222222,
              "#7201a8"
             ],
             [
              0.3333333333333333,
              "#9c179e"
             ],
             [
              0.4444444444444444,
              "#bd3786"
             ],
             [
              0.5555555555555556,
              "#d8576b"
             ],
             [
              0.6666666666666666,
              "#ed7953"
             ],
             [
              0.7777777777777778,
              "#fb9f3a"
             ],
             [
              0.8888888888888888,
              "#fdca26"
             ],
             [
              1,
              "#f0f921"
             ]
            ],
            "type": "histogram2d"
           }
          ],
          "histogram2dcontour": [
           {
            "colorbar": {
             "outlinewidth": 0,
             "ticks": ""
            },
            "colorscale": [
             [
              0,
              "#0d0887"
             ],
             [
              0.1111111111111111,
              "#46039f"
             ],
             [
              0.2222222222222222,
              "#7201a8"
             ],
             [
              0.3333333333333333,
              "#9c179e"
             ],
             [
              0.4444444444444444,
              "#bd3786"
             ],
             [
              0.5555555555555556,
              "#d8576b"
             ],
             [
              0.6666666666666666,
              "#ed7953"
             ],
             [
              0.7777777777777778,
              "#fb9f3a"
             ],
             [
              0.8888888888888888,
              "#fdca26"
             ],
             [
              1,
              "#f0f921"
             ]
            ],
            "type": "histogram2dcontour"
           }
          ],
          "mesh3d": [
           {
            "colorbar": {
             "outlinewidth": 0,
             "ticks": ""
            },
            "type": "mesh3d"
           }
          ],
          "parcoords": [
           {
            "line": {
             "colorbar": {
              "outlinewidth": 0,
              "ticks": ""
             }
            },
            "type": "parcoords"
           }
          ],
          "pie": [
           {
            "automargin": true,
            "type": "pie"
           }
          ],
          "scatter": [
           {
            "marker": {
             "colorbar": {
              "outlinewidth": 0,
              "ticks": ""
             }
            },
            "type": "scatter"
           }
          ],
          "scatter3d": [
           {
            "line": {
             "colorbar": {
              "outlinewidth": 0,
              "ticks": ""
             }
            },
            "marker": {
             "colorbar": {
              "outlinewidth": 0,
              "ticks": ""
             }
            },
            "type": "scatter3d"
           }
          ],
          "scattercarpet": [
           {
            "marker": {
             "colorbar": {
              "outlinewidth": 0,
              "ticks": ""
             }
            },
            "type": "scattercarpet"
           }
          ],
          "scattergeo": [
           {
            "marker": {
             "colorbar": {
              "outlinewidth": 0,
              "ticks": ""
             }
            },
            "type": "scattergeo"
           }
          ],
          "scattergl": [
           {
            "marker": {
             "colorbar": {
              "outlinewidth": 0,
              "ticks": ""
             }
            },
            "type": "scattergl"
           }
          ],
          "scattermapbox": [
           {
            "marker": {
             "colorbar": {
              "outlinewidth": 0,
              "ticks": ""
             }
            },
            "type": "scattermapbox"
           }
          ],
          "scatterpolar": [
           {
            "marker": {
             "colorbar": {
              "outlinewidth": 0,
              "ticks": ""
             }
            },
            "type": "scatterpolar"
           }
          ],
          "scatterpolargl": [
           {
            "marker": {
             "colorbar": {
              "outlinewidth": 0,
              "ticks": ""
             }
            },
            "type": "scatterpolargl"
           }
          ],
          "scatterternary": [
           {
            "marker": {
             "colorbar": {
              "outlinewidth": 0,
              "ticks": ""
             }
            },
            "type": "scatterternary"
           }
          ],
          "surface": [
           {
            "colorbar": {
             "outlinewidth": 0,
             "ticks": ""
            },
            "colorscale": [
             [
              0,
              "#0d0887"
             ],
             [
              0.1111111111111111,
              "#46039f"
             ],
             [
              0.2222222222222222,
              "#7201a8"
             ],
             [
              0.3333333333333333,
              "#9c179e"
             ],
             [
              0.4444444444444444,
              "#bd3786"
             ],
             [
              0.5555555555555556,
              "#d8576b"
             ],
             [
              0.6666666666666666,
              "#ed7953"
             ],
             [
              0.7777777777777778,
              "#fb9f3a"
             ],
             [
              0.8888888888888888,
              "#fdca26"
             ],
             [
              1,
              "#f0f921"
             ]
            ],
            "type": "surface"
           }
          ],
          "table": [
           {
            "cells": {
             "fill": {
              "color": "#EBF0F8"
             },
             "line": {
              "color": "white"
             }
            },
            "header": {
             "fill": {
              "color": "#C8D4E3"
             },
             "line": {
              "color": "white"
             }
            },
            "type": "table"
           }
          ]
         },
         "layout": {
          "annotationdefaults": {
           "arrowcolor": "#2a3f5f",
           "arrowhead": 0,
           "arrowwidth": 1
          },
          "autotypenumbers": "strict",
          "coloraxis": {
           "colorbar": {
            "outlinewidth": 0,
            "ticks": ""
           }
          },
          "colorscale": {
           "diverging": [
            [
             0,
             "#8e0152"
            ],
            [
             0.1,
             "#c51b7d"
            ],
            [
             0.2,
             "#de77ae"
            ],
            [
             0.3,
             "#f1b6da"
            ],
            [
             0.4,
             "#fde0ef"
            ],
            [
             0.5,
             "#f7f7f7"
            ],
            [
             0.6,
             "#e6f5d0"
            ],
            [
             0.7,
             "#b8e186"
            ],
            [
             0.8,
             "#7fbc41"
            ],
            [
             0.9,
             "#4d9221"
            ],
            [
             1,
             "#276419"
            ]
           ],
           "sequential": [
            [
             0,
             "#0d0887"
            ],
            [
             0.1111111111111111,
             "#46039f"
            ],
            [
             0.2222222222222222,
             "#7201a8"
            ],
            [
             0.3333333333333333,
             "#9c179e"
            ],
            [
             0.4444444444444444,
             "#bd3786"
            ],
            [
             0.5555555555555556,
             "#d8576b"
            ],
            [
             0.6666666666666666,
             "#ed7953"
            ],
            [
             0.7777777777777778,
             "#fb9f3a"
            ],
            [
             0.8888888888888888,
             "#fdca26"
            ],
            [
             1,
             "#f0f921"
            ]
           ],
           "sequentialminus": [
            [
             0,
             "#0d0887"
            ],
            [
             0.1111111111111111,
             "#46039f"
            ],
            [
             0.2222222222222222,
             "#7201a8"
            ],
            [
             0.3333333333333333,
             "#9c179e"
            ],
            [
             0.4444444444444444,
             "#bd3786"
            ],
            [
             0.5555555555555556,
             "#d8576b"
            ],
            [
             0.6666666666666666,
             "#ed7953"
            ],
            [
             0.7777777777777778,
             "#fb9f3a"
            ],
            [
             0.8888888888888888,
             "#fdca26"
            ],
            [
             1,
             "#f0f921"
            ]
           ]
          },
          "colorway": [
           "#636efa",
           "#EF553B",
           "#00cc96",
           "#ab63fa",
           "#FFA15A",
           "#19d3f3",
           "#FF6692",
           "#B6E880",
           "#FF97FF",
           "#FECB52"
          ],
          "font": {
           "color": "#2a3f5f"
          },
          "geo": {
           "bgcolor": "white",
           "lakecolor": "white",
           "landcolor": "#E5ECF6",
           "showlakes": true,
           "showland": true,
           "subunitcolor": "white"
          },
          "hoverlabel": {
           "align": "left"
          },
          "hovermode": "closest",
          "mapbox": {
           "style": "light"
          },
          "paper_bgcolor": "white",
          "plot_bgcolor": "#E5ECF6",
          "polar": {
           "angularaxis": {
            "gridcolor": "white",
            "linecolor": "white",
            "ticks": ""
           },
           "bgcolor": "#E5ECF6",
           "radialaxis": {
            "gridcolor": "white",
            "linecolor": "white",
            "ticks": ""
           }
          },
          "scene": {
           "xaxis": {
            "backgroundcolor": "#E5ECF6",
            "gridcolor": "white",
            "gridwidth": 2,
            "linecolor": "white",
            "showbackground": true,
            "ticks": "",
            "zerolinecolor": "white"
           },
           "yaxis": {
            "backgroundcolor": "#E5ECF6",
            "gridcolor": "white",
            "gridwidth": 2,
            "linecolor": "white",
            "showbackground": true,
            "ticks": "",
            "zerolinecolor": "white"
           },
           "zaxis": {
            "backgroundcolor": "#E5ECF6",
            "gridcolor": "white",
            "gridwidth": 2,
            "linecolor": "white",
            "showbackground": true,
            "ticks": "",
            "zerolinecolor": "white"
           }
          },
          "shapedefaults": {
           "line": {
            "color": "#2a3f5f"
           }
          },
          "ternary": {
           "aaxis": {
            "gridcolor": "white",
            "linecolor": "white",
            "ticks": ""
           },
           "baxis": {
            "gridcolor": "white",
            "linecolor": "white",
            "ticks": ""
           },
           "bgcolor": "#E5ECF6",
           "caxis": {
            "gridcolor": "white",
            "linecolor": "white",
            "ticks": ""
           }
          },
          "title": {
           "x": 0.05
          },
          "xaxis": {
           "automargin": true,
           "gridcolor": "white",
           "linecolor": "white",
           "ticks": "",
           "title": {
            "standoff": 15
           },
           "zerolinecolor": "white",
           "zerolinewidth": 2
          },
          "yaxis": {
           "automargin": true,
           "gridcolor": "white",
           "linecolor": "white",
           "ticks": "",
           "title": {
            "standoff": 15
           },
           "zerolinecolor": "white",
           "zerolinewidth": 2
          }
         }
        },
        "xaxis": {
         "anchor": "y",
         "domain": [
          0,
          1
         ],
         "title": {
          "text": "Brand"
         }
        },
        "yaxis": {
         "anchor": "x",
         "domain": [
          0,
          1
         ],
         "title": {
          "text": "sum of Sales Trend (90 days)"
         }
        }
       }
      },
      "text/html": [
       "<div>                            <div id=\"de4edb5e-0236-480d-8e5c-8e3edc4a469b\" class=\"plotly-graph-div\" style=\"height:525px; width:100%;\"></div>            <script type=\"text/javascript\">                require([\"plotly\"], function(Plotly) {                    window.PLOTLYENV=window.PLOTLYENV || {};                                    if (document.getElementById(\"de4edb5e-0236-480d-8e5c-8e3edc4a469b\")) {                    Plotly.newPlot(                        \"de4edb5e-0236-480d-8e5c-8e3edc4a469b\",                        [{\"alignmentgroup\":\"True\",\"bingroup\":\"x\",\"histfunc\":\"sum\",\"hovertemplate\":\"Brand=%{x}<br>sum of Sales Trend (90 days)=%{y}<extra></extra>\",\"legendgroup\":\"\",\"marker\":{\"color\":\"#636efa\",\"pattern\":{\"shape\":\"\"}},\"name\":\"\",\"offsetgroup\":\"\",\"orientation\":\"v\",\"showlegend\":false,\"x\":[\"The Genius Brand\",\"Real Mushrooms\",\"Clean Nutraceuticals\",\"Auri\",\"Micro Ingredients\",\"DR EMIL NUTRITION\",\"Horb\\u00e4ach\",\"Stonehenge Health\",\"Drops Of Nature\",\"Host Defense\",\"KIKI Green\",\"Real Mushrooms\",\"Gaia Herbs\",\"Real Mushrooms\",\"TERRA ELMNT\",\"Laird Superfood\",\"Purify Life\",\"WIXAR NATURALS\",\"Fungies\",\"Double Wood Supplements\",\"SZCZEKIN\",\"DEAL SUPPLEMENT\",\"Host Defense\",\"NutriFlair\",\"NATURELO\",\"Force Factor\",\"VEGATOT\",\"EFFECTIVE NUTRA\",\"ACEWORKZ\",\"VitaRaw\",\"1 Body\",\"MaryRuth Organics\",\"Nutrivein\",\"Four Sigmatic\",\"UPHORIC URTH\",\"Double Wood Supplements\",\"nutriyum\",\"Purify Life\",\"Stamiron\",\"Etta Vita\",\"Carlyle\",\"Satoomi\",\"S RAW SCIENCE\",\"Swanson\",\"Mutsweet\",\"DailyNutra\",\"Yasumako\",\"Life Cykel\",\"SZCZEKIN\",\"Double Wood Supplements\",\"SAGA\",\"Vitamax\",\"SAGA\",\"Satoomi\",\"Double Wood Supplements\",\"Garden of Life\",\"Nutricost\",\"Om Mushroom Superfood\",\"Gaia Herbs\",\"NatureBell\",\"SOLARAY\",\"Wild & Organic\",\"Doctor Danielle\",\"Shizam\",\"Herbal Roots\",\"Mother Nutrient\",\"Toniiq\",\"Nootrilabs Naturals\",\"Bronson\",\"BEIMIC\",\"Fuel Nutrition Pro\",\"DEDICAD\",\"ECO-TASTE\",\"IQ BIOLOGY\",\"HAPPY FOX\",\"Nature's Fusions\",\"Organic Cadane\",\"VitaUp\",\"HELLO HEALTH\",\"Nature Restore\",\"iVitamins\",\"NutraCreek\",\"NUQIIT\",\"Organic Cadane\",\"SMNutrition\",\"GANOHERB\",\"Inner Elevate\",\"GANOHERB\",\"BULKSUPPLEMENTS.COM\",\"Malama Mushrooms\",\"Kaya Naturals\",\"Nature's Truth\",\"UR Treasure Nutrition\",\"VELOTO\",\"Primaforce\",\"Esentai\"],\"xaxis\":\"x\",\"y\":[-3.0,-35.0,52.0,-35.0,800.0,-28.0,26.0,13.0,24.0,-20.0,19.0,-6.0,6.0,13.0,16.0,9.0,-10.0,-7.0,30.0,-9.0,44.0,113.0,20.0,37.0,29.0,184.0,-4.0,4.0,-30.0,-29.0,3.0,-3.0,383.0,41.0,14.0,19.0,null,-44.0,-2.0,null,10.0,-9.0,-29.0,42.0,null,15.0,-3.0,26.0,null,-52.0,6.0,null,3.0,-16.0,16.0,270.0,41.0,12.0,5.0,363.0,4.0,51.0,2.0,0.0,47.0,10.0,null,11.0,-2.0,null,null,94.0,49.0,null,null,null,-60.0,null,-13.0,78.0,-38.0,48.0,null,-37.0,91.0,45.0,null,null,null,0.0,-9.0,0.0,-59.0,null,0.0,364.0],\"yaxis\":\"y\",\"type\":\"histogram\"}],                        {\"template\":{\"data\":{\"bar\":[{\"error_x\":{\"color\":\"#2a3f5f\"},\"error_y\":{\"color\":\"#2a3f5f\"},\"marker\":{\"line\":{\"color\":\"#E5ECF6\",\"width\":0.5},\"pattern\":{\"fillmode\":\"overlay\",\"size\":10,\"solidity\":0.2}},\"type\":\"bar\"}],\"barpolar\":[{\"marker\":{\"line\":{\"color\":\"#E5ECF6\",\"width\":0.5},\"pattern\":{\"fillmode\":\"overlay\",\"size\":10,\"solidity\":0.2}},\"type\":\"barpolar\"}],\"carpet\":[{\"aaxis\":{\"endlinecolor\":\"#2a3f5f\",\"gridcolor\":\"white\",\"linecolor\":\"white\",\"minorgridcolor\":\"white\",\"startlinecolor\":\"#2a3f5f\"},\"baxis\":{\"endlinecolor\":\"#2a3f5f\",\"gridcolor\":\"white\",\"linecolor\":\"white\",\"minorgridcolor\":\"white\",\"startlinecolor\":\"#2a3f5f\"},\"type\":\"carpet\"}],\"choropleth\":[{\"colorbar\":{\"outlinewidth\":0,\"ticks\":\"\"},\"type\":\"choropleth\"}],\"contour\":[{\"colorbar\":{\"outlinewidth\":0,\"ticks\":\"\"},\"colorscale\":[[0.0,\"#0d0887\"],[0.1111111111111111,\"#46039f\"],[0.2222222222222222,\"#7201a8\"],[0.3333333333333333,\"#9c179e\"],[0.4444444444444444,\"#bd3786\"],[0.5555555555555556,\"#d8576b\"],[0.6666666666666666,\"#ed7953\"],[0.7777777777777778,\"#fb9f3a\"],[0.8888888888888888,\"#fdca26\"],[1.0,\"#f0f921\"]],\"type\":\"contour\"}],\"contourcarpet\":[{\"colorbar\":{\"outlinewidth\":0,\"ticks\":\"\"},\"type\":\"contourcarpet\"}],\"heatmap\":[{\"colorbar\":{\"outlinewidth\":0,\"ticks\":\"\"},\"colorscale\":[[0.0,\"#0d0887\"],[0.1111111111111111,\"#46039f\"],[0.2222222222222222,\"#7201a8\"],[0.3333333333333333,\"#9c179e\"],[0.4444444444444444,\"#bd3786\"],[0.5555555555555556,\"#d8576b\"],[0.6666666666666666,\"#ed7953\"],[0.7777777777777778,\"#fb9f3a\"],[0.8888888888888888,\"#fdca26\"],[1.0,\"#f0f921\"]],\"type\":\"heatmap\"}],\"heatmapgl\":[{\"colorbar\":{\"outlinewidth\":0,\"ticks\":\"\"},\"colorscale\":[[0.0,\"#0d0887\"],[0.1111111111111111,\"#46039f\"],[0.2222222222222222,\"#7201a8\"],[0.3333333333333333,\"#9c179e\"],[0.4444444444444444,\"#bd3786\"],[0.5555555555555556,\"#d8576b\"],[0.6666666666666666,\"#ed7953\"],[0.7777777777777778,\"#fb9f3a\"],[0.8888888888888888,\"#fdca26\"],[1.0,\"#f0f921\"]],\"type\":\"heatmapgl\"}],\"histogram\":[{\"marker\":{\"pattern\":{\"fillmode\":\"overlay\",\"size\":10,\"solidity\":0.2}},\"type\":\"histogram\"}],\"histogram2d\":[{\"colorbar\":{\"outlinewidth\":0,\"ticks\":\"\"},\"colorscale\":[[0.0,\"#0d0887\"],[0.1111111111111111,\"#46039f\"],[0.2222222222222222,\"#7201a8\"],[0.3333333333333333,\"#9c179e\"],[0.4444444444444444,\"#bd3786\"],[0.5555555555555556,\"#d8576b\"],[0.6666666666666666,\"#ed7953\"],[0.7777777777777778,\"#fb9f3a\"],[0.8888888888888888,\"#fdca26\"],[1.0,\"#f0f921\"]],\"type\":\"histogram2d\"}],\"histogram2dcontour\":[{\"colorbar\":{\"outlinewidth\":0,\"ticks\":\"\"},\"colorscale\":[[0.0,\"#0d0887\"],[0.1111111111111111,\"#46039f\"],[0.2222222222222222,\"#7201a8\"],[0.3333333333333333,\"#9c179e\"],[0.4444444444444444,\"#bd3786\"],[0.5555555555555556,\"#d8576b\"],[0.6666666666666666,\"#ed7953\"],[0.7777777777777778,\"#fb9f3a\"],[0.8888888888888888,\"#fdca26\"],[1.0,\"#f0f921\"]],\"type\":\"histogram2dcontour\"}],\"mesh3d\":[{\"colorbar\":{\"outlinewidth\":0,\"ticks\":\"\"},\"type\":\"mesh3d\"}],\"parcoords\":[{\"line\":{\"colorbar\":{\"outlinewidth\":0,\"ticks\":\"\"}},\"type\":\"parcoords\"}],\"pie\":[{\"automargin\":true,\"type\":\"pie\"}],\"scatter\":[{\"marker\":{\"colorbar\":{\"outlinewidth\":0,\"ticks\":\"\"}},\"type\":\"scatter\"}],\"scatter3d\":[{\"line\":{\"colorbar\":{\"outlinewidth\":0,\"ticks\":\"\"}},\"marker\":{\"colorbar\":{\"outlinewidth\":0,\"ticks\":\"\"}},\"type\":\"scatter3d\"}],\"scattercarpet\":[{\"marker\":{\"colorbar\":{\"outlinewidth\":0,\"ticks\":\"\"}},\"type\":\"scattercarpet\"}],\"scattergeo\":[{\"marker\":{\"colorbar\":{\"outlinewidth\":0,\"ticks\":\"\"}},\"type\":\"scattergeo\"}],\"scattergl\":[{\"marker\":{\"colorbar\":{\"outlinewidth\":0,\"ticks\":\"\"}},\"type\":\"scattergl\"}],\"scattermapbox\":[{\"marker\":{\"colorbar\":{\"outlinewidth\":0,\"ticks\":\"\"}},\"type\":\"scattermapbox\"}],\"scatterpolar\":[{\"marker\":{\"colorbar\":{\"outlinewidth\":0,\"ticks\":\"\"}},\"type\":\"scatterpolar\"}],\"scatterpolargl\":[{\"marker\":{\"colorbar\":{\"outlinewidth\":0,\"ticks\":\"\"}},\"type\":\"scatterpolargl\"}],\"scatterternary\":[{\"marker\":{\"colorbar\":{\"outlinewidth\":0,\"ticks\":\"\"}},\"type\":\"scatterternary\"}],\"surface\":[{\"colorbar\":{\"outlinewidth\":0,\"ticks\":\"\"},\"colorscale\":[[0.0,\"#0d0887\"],[0.1111111111111111,\"#46039f\"],[0.2222222222222222,\"#7201a8\"],[0.3333333333333333,\"#9c179e\"],[0.4444444444444444,\"#bd3786\"],[0.5555555555555556,\"#d8576b\"],[0.6666666666666666,\"#ed7953\"],[0.7777777777777778,\"#fb9f3a\"],[0.8888888888888888,\"#fdca26\"],[1.0,\"#f0f921\"]],\"type\":\"surface\"}],\"table\":[{\"cells\":{\"fill\":{\"color\":\"#EBF0F8\"},\"line\":{\"color\":\"white\"}},\"header\":{\"fill\":{\"color\":\"#C8D4E3\"},\"line\":{\"color\":\"white\"}},\"type\":\"table\"}]},\"layout\":{\"annotationdefaults\":{\"arrowcolor\":\"#2a3f5f\",\"arrowhead\":0,\"arrowwidth\":1},\"autotypenumbers\":\"strict\",\"coloraxis\":{\"colorbar\":{\"outlinewidth\":0,\"ticks\":\"\"}},\"colorscale\":{\"diverging\":[[0,\"#8e0152\"],[0.1,\"#c51b7d\"],[0.2,\"#de77ae\"],[0.3,\"#f1b6da\"],[0.4,\"#fde0ef\"],[0.5,\"#f7f7f7\"],[0.6,\"#e6f5d0\"],[0.7,\"#b8e186\"],[0.8,\"#7fbc41\"],[0.9,\"#4d9221\"],[1,\"#276419\"]],\"sequential\":[[0.0,\"#0d0887\"],[0.1111111111111111,\"#46039f\"],[0.2222222222222222,\"#7201a8\"],[0.3333333333333333,\"#9c179e\"],[0.4444444444444444,\"#bd3786\"],[0.5555555555555556,\"#d8576b\"],[0.6666666666666666,\"#ed7953\"],[0.7777777777777778,\"#fb9f3a\"],[0.8888888888888888,\"#fdca26\"],[1.0,\"#f0f921\"]],\"sequentialminus\":[[0.0,\"#0d0887\"],[0.1111111111111111,\"#46039f\"],[0.2222222222222222,\"#7201a8\"],[0.3333333333333333,\"#9c179e\"],[0.4444444444444444,\"#bd3786\"],[0.5555555555555556,\"#d8576b\"],[0.6666666666666666,\"#ed7953\"],[0.7777777777777778,\"#fb9f3a\"],[0.8888888888888888,\"#fdca26\"],[1.0,\"#f0f921\"]]},\"colorway\":[\"#636efa\",\"#EF553B\",\"#00cc96\",\"#ab63fa\",\"#FFA15A\",\"#19d3f3\",\"#FF6692\",\"#B6E880\",\"#FF97FF\",\"#FECB52\"],\"font\":{\"color\":\"#2a3f5f\"},\"geo\":{\"bgcolor\":\"white\",\"lakecolor\":\"white\",\"landcolor\":\"#E5ECF6\",\"showlakes\":true,\"showland\":true,\"subunitcolor\":\"white\"},\"hoverlabel\":{\"align\":\"left\"},\"hovermode\":\"closest\",\"mapbox\":{\"style\":\"light\"},\"paper_bgcolor\":\"white\",\"plot_bgcolor\":\"#E5ECF6\",\"polar\":{\"angularaxis\":{\"gridcolor\":\"white\",\"linecolor\":\"white\",\"ticks\":\"\"},\"bgcolor\":\"#E5ECF6\",\"radialaxis\":{\"gridcolor\":\"white\",\"linecolor\":\"white\",\"ticks\":\"\"}},\"scene\":{\"xaxis\":{\"backgroundcolor\":\"#E5ECF6\",\"gridcolor\":\"white\",\"gridwidth\":2,\"linecolor\":\"white\",\"showbackground\":true,\"ticks\":\"\",\"zerolinecolor\":\"white\"},\"yaxis\":{\"backgroundcolor\":\"#E5ECF6\",\"gridcolor\":\"white\",\"gridwidth\":2,\"linecolor\":\"white\",\"showbackground\":true,\"ticks\":\"\",\"zerolinecolor\":\"white\"},\"zaxis\":{\"backgroundcolor\":\"#E5ECF6\",\"gridcolor\":\"white\",\"gridwidth\":2,\"linecolor\":\"white\",\"showbackground\":true,\"ticks\":\"\",\"zerolinecolor\":\"white\"}},\"shapedefaults\":{\"line\":{\"color\":\"#2a3f5f\"}},\"ternary\":{\"aaxis\":{\"gridcolor\":\"white\",\"linecolor\":\"white\",\"ticks\":\"\"},\"baxis\":{\"gridcolor\":\"white\",\"linecolor\":\"white\",\"ticks\":\"\"},\"bgcolor\":\"#E5ECF6\",\"caxis\":{\"gridcolor\":\"white\",\"linecolor\":\"white\",\"ticks\":\"\"}},\"title\":{\"x\":0.05},\"xaxis\":{\"automargin\":true,\"gridcolor\":\"white\",\"linecolor\":\"white\",\"ticks\":\"\",\"title\":{\"standoff\":15},\"zerolinecolor\":\"white\",\"zerolinewidth\":2},\"yaxis\":{\"automargin\":true,\"gridcolor\":\"white\",\"linecolor\":\"white\",\"ticks\":\"\",\"title\":{\"standoff\":15},\"zerolinecolor\":\"white\",\"zerolinewidth\":2}}},\"xaxis\":{\"anchor\":\"y\",\"domain\":[0.0,1.0],\"title\":{\"text\":\"Brand\"}},\"yaxis\":{\"anchor\":\"x\",\"domain\":[0.0,1.0],\"title\":{\"text\":\"sum of Sales Trend (90 days)\"}},\"legend\":{\"tracegroupgap\":0},\"margin\":{\"t\":60},\"barmode\":\"relative\"},                        {\"responsive\": true}                    ).then(function(){\n",
       "                            \n",
       "var gd = document.getElementById('de4edb5e-0236-480d-8e5c-8e3edc4a469b');\n",
       "var x = new MutationObserver(function (mutations, observer) {{\n",
       "        var display = window.getComputedStyle(gd).display;\n",
       "        if (!display || display === 'none') {{\n",
       "            console.log([gd, 'removed!']);\n",
       "            Plotly.purge(gd);\n",
       "            observer.disconnect();\n",
       "        }}\n",
       "}});\n",
       "\n",
       "// Listen for the removal of the full notebook cells\n",
       "var notebookContainer = gd.closest('#notebook-container');\n",
       "if (notebookContainer) {{\n",
       "    x.observe(notebookContainer, {childList: true});\n",
       "}}\n",
       "\n",
       "// Listen for the clearing of the current output cell\n",
       "var outputEl = gd.closest('.output');\n",
       "if (outputEl) {{\n",
       "    x.observe(outputEl, {childList: true});\n",
       "}}\n",
       "\n",
       "                        })                };                });            </script>        </div>"
      ]
     },
     "metadata": {},
     "output_type": "display_data"
    }
   ],
   "source": [
    "fig = px.histogram(df2, x='Brand', y='Sales Trend (90 days)')\n",
    "fig.show()"
   ]
  },
  {
   "cell_type": "code",
   "execution_count": 73,
   "id": "e3096447",
   "metadata": {},
   "outputs": [
    {
     "data": {
      "text/plain": [
       "800.0"
      ]
     },
     "execution_count": 73,
     "metadata": {},
     "output_type": "execute_result"
    }
   ],
   "source": [
    "df2['Sales Trend (90 days)'].max()"
   ]
  },
  {
   "cell_type": "markdown",
   "id": "a7f0f98e",
   "metadata": {},
   "source": [
    "## Отберем компании, в которых рост был на 100% и более"
   ]
  },
  {
   "cell_type": "code",
   "execution_count": 74,
   "id": "44b1c42e",
   "metadata": {},
   "outputs": [
    {
     "data": {
      "text/html": [
       "<div>\n",
       "<style scoped>\n",
       "    .dataframe tbody tr th:only-of-type {\n",
       "        vertical-align: middle;\n",
       "    }\n",
       "\n",
       "    .dataframe tbody tr th {\n",
       "        vertical-align: top;\n",
       "    }\n",
       "\n",
       "    .dataframe thead th {\n",
       "        text-align: right;\n",
       "    }\n",
       "</style>\n",
       "<table border=\"1\" class=\"dataframe\">\n",
       "  <thead>\n",
       "    <tr style=\"text-align: right;\">\n",
       "      <th></th>\n",
       "      <th>ASIN</th>\n",
       "      <th>Title</th>\n",
       "      <th>Category</th>\n",
       "      <th>Brand</th>\n",
       "      <th>Price</th>\n",
       "      <th>Monthly Sales</th>\n",
       "      <th>Monthly Revenue</th>\n",
       "      <th>Review Count</th>\n",
       "      <th>Reviews Rating</th>\n",
       "      <th>Last Year Sales</th>\n",
       "      <th>Sales Year Over Year</th>\n",
       "      <th>Sales Trend (90 days)</th>\n",
       "      <th>Price Trend (90 days)</th>\n",
       "      <th>Best Sales Period</th>\n",
       "    </tr>\n",
       "  </thead>\n",
       "  <tbody>\n",
       "    <tr>\n",
       "      <th>4</th>\n",
       "      <td>B07RG8MMXW</td>\n",
       "      <td>Sustainably US Grown, Organic Mega Mushroom 10...</td>\n",
       "      <td>Health &amp; Household</td>\n",
       "      <td>Micro Ingredients</td>\n",
       "      <td>29.95</td>\n",
       "      <td>8656</td>\n",
       "      <td>259247.2</td>\n",
       "      <td>7903</td>\n",
       "      <td>4.6</td>\n",
       "      <td>NaN</td>\n",
       "      <td>NaN</td>\n",
       "      <td>800.0</td>\n",
       "      <td>4.0</td>\n",
       "      <td>Jan, 2024</td>\n",
       "    </tr>\n",
       "    <tr>\n",
       "      <th>21</th>\n",
       "      <td>B0C8LXX8JF</td>\n",
       "      <td>Organic Mushroom Powder Supplement, 12oz – 10 ...</td>\n",
       "      <td>Health &amp; Household</td>\n",
       "      <td>DEAL SUPPLEMENT</td>\n",
       "      <td>29.95</td>\n",
       "      <td>1878</td>\n",
       "      <td>56246.1</td>\n",
       "      <td>178</td>\n",
       "      <td>4.5</td>\n",
       "      <td>NaN</td>\n",
       "      <td>NaN</td>\n",
       "      <td>113.0</td>\n",
       "      <td>5.0</td>\n",
       "      <td>Jan, 2024</td>\n",
       "    </tr>\n",
       "    <tr>\n",
       "      <th>25</th>\n",
       "      <td>B0BRNYLH1P</td>\n",
       "      <td>FORCE FACTOR Modern Mushrooms Capsules, Mushro...</td>\n",
       "      <td>Health &amp; Household</td>\n",
       "      <td>Force Factor</td>\n",
       "      <td>14.98</td>\n",
       "      <td>3543</td>\n",
       "      <td>53074.14</td>\n",
       "      <td>498</td>\n",
       "      <td>4.4</td>\n",
       "      <td>NaN</td>\n",
       "      <td>NaN</td>\n",
       "      <td>184.0</td>\n",
       "      <td>13.0</td>\n",
       "      <td>Jan, 2024</td>\n",
       "    </tr>\n",
       "    <tr>\n",
       "      <th>32</th>\n",
       "      <td>B07MWHPLYR</td>\n",
       "      <td>Nutrivein Mushroom Supplement - 2600mg - 90 Ca...</td>\n",
       "      <td>Health &amp; Household</td>\n",
       "      <td>Nutrivein</td>\n",
       "      <td>19.99</td>\n",
       "      <td>1446</td>\n",
       "      <td>28905.54</td>\n",
       "      <td>4017</td>\n",
       "      <td>4.5</td>\n",
       "      <td>20390.0</td>\n",
       "      <td>-27.0</td>\n",
       "      <td>383.0</td>\n",
       "      <td>-50.0</td>\n",
       "      <td>Aug, 2023</td>\n",
       "    </tr>\n",
       "    <tr>\n",
       "      <th>55</th>\n",
       "      <td>B0CGRY922V</td>\n",
       "      <td>Garden of Life Brain Health Supplement with Or...</td>\n",
       "      <td>Health &amp; Household</td>\n",
       "      <td>Garden of Life</td>\n",
       "      <td>35.99</td>\n",
       "      <td>307</td>\n",
       "      <td>11048.93</td>\n",
       "      <td>22</td>\n",
       "      <td>4.5</td>\n",
       "      <td>NaN</td>\n",
       "      <td>NaN</td>\n",
       "      <td>270.0</td>\n",
       "      <td>-12.0</td>\n",
       "      <td>Jan, 2024</td>\n",
       "    </tr>\n",
       "    <tr>\n",
       "      <th>59</th>\n",
       "      <td>B07YF52935</td>\n",
       "      <td>NatureBell Turkey Tail Mushroom Capsules 15,00...</td>\n",
       "      <td>Health &amp; Household</td>\n",
       "      <td>NatureBell</td>\n",
       "      <td>9.99</td>\n",
       "      <td>885</td>\n",
       "      <td>8841.15</td>\n",
       "      <td>683</td>\n",
       "      <td>4.7</td>\n",
       "      <td>4627.0</td>\n",
       "      <td>29.0</td>\n",
       "      <td>363.0</td>\n",
       "      <td>NaN</td>\n",
       "      <td>Jan, 2024</td>\n",
       "    </tr>\n",
       "    <tr>\n",
       "      <th>95</th>\n",
       "      <td>B0CHHY5SK8</td>\n",
       "      <td>Esentai - Organic Mushroom Supplement Gummies ...</td>\n",
       "      <td>Health &amp; Household</td>\n",
       "      <td>Esentai</td>\n",
       "      <td>24.99</td>\n",
       "      <td>46</td>\n",
       "      <td>1149.54</td>\n",
       "      <td>35</td>\n",
       "      <td>4.6</td>\n",
       "      <td>NaN</td>\n",
       "      <td>NaN</td>\n",
       "      <td>364.0</td>\n",
       "      <td>NaN</td>\n",
       "      <td>Jan, 2024</td>\n",
       "    </tr>\n",
       "  </tbody>\n",
       "</table>\n",
       "</div>"
      ],
      "text/plain": [
       "          ASIN                                              Title  \\\n",
       "4   B07RG8MMXW  Sustainably US Grown, Organic Mega Mushroom 10...   \n",
       "21  B0C8LXX8JF  Organic Mushroom Powder Supplement, 12oz – 10 ...   \n",
       "25  B0BRNYLH1P  FORCE FACTOR Modern Mushrooms Capsules, Mushro...   \n",
       "32  B07MWHPLYR  Nutrivein Mushroom Supplement - 2600mg - 90 Ca...   \n",
       "55  B0CGRY922V  Garden of Life Brain Health Supplement with Or...   \n",
       "59  B07YF52935  NatureBell Turkey Tail Mushroom Capsules 15,00...   \n",
       "95  B0CHHY5SK8  Esentai - Organic Mushroom Supplement Gummies ...   \n",
       "\n",
       "              Category              Brand  Price  Monthly Sales  \\\n",
       "4   Health & Household  Micro Ingredients  29.95           8656   \n",
       "21  Health & Household    DEAL SUPPLEMENT  29.95           1878   \n",
       "25  Health & Household       Force Factor  14.98           3543   \n",
       "32  Health & Household          Nutrivein  19.99           1446   \n",
       "55  Health & Household     Garden of Life  35.99            307   \n",
       "59  Health & Household         NatureBell   9.99            885   \n",
       "95  Health & Household            Esentai  24.99             46   \n",
       "\n",
       "   Monthly Revenue  Review Count  Reviews Rating  Last Year Sales  \\\n",
       "4         259247.2          7903             4.6              NaN   \n",
       "21         56246.1           178             4.5              NaN   \n",
       "25        53074.14           498             4.4              NaN   \n",
       "32        28905.54          4017             4.5          20390.0   \n",
       "55        11048.93            22             4.5              NaN   \n",
       "59         8841.15           683             4.7           4627.0   \n",
       "95         1149.54            35             4.6              NaN   \n",
       "\n",
       "    Sales Year Over Year  Sales Trend (90 days)  Price Trend (90 days)  \\\n",
       "4                    NaN                  800.0                    4.0   \n",
       "21                   NaN                  113.0                    5.0   \n",
       "25                   NaN                  184.0                   13.0   \n",
       "32                 -27.0                  383.0                  -50.0   \n",
       "55                   NaN                  270.0                  -12.0   \n",
       "59                  29.0                  363.0                    NaN   \n",
       "95                   NaN                  364.0                    NaN   \n",
       "\n",
       "   Best Sales Period  \n",
       "4          Jan, 2024  \n",
       "21         Jan, 2024  \n",
       "25         Jan, 2024  \n",
       "32         Aug, 2023  \n",
       "55         Jan, 2024  \n",
       "59         Jan, 2024  \n",
       "95         Jan, 2024  "
      ]
     },
     "execution_count": 74,
     "metadata": {},
     "output_type": "execute_result"
    }
   ],
   "source": [
    "df4 = df2.loc[df2['Sales Trend (90 days)'] >= 100]\n",
    "df4"
   ]
  },
  {
   "cell_type": "code",
   "execution_count": 75,
   "id": "4a15f4f4",
   "metadata": {},
   "outputs": [
    {
     "data": {
      "application/vnd.plotly.v1+json": {
       "config": {
        "plotlyServerURL": "https://plot.ly"
       },
       "data": [
        {
         "alignmentgroup": "True",
         "bingroup": "x",
         "histfunc": "sum",
         "hovertemplate": "Brand=%{x}<br>sum of Sales Trend (90 days)=%{y}<extra></extra>",
         "legendgroup": "",
         "marker": {
          "color": "#636efa",
          "pattern": {
           "shape": ""
          }
         },
         "name": "",
         "offsetgroup": "",
         "orientation": "v",
         "showlegend": false,
         "type": "histogram",
         "x": [
          "Micro Ingredients",
          "DEAL SUPPLEMENT",
          "Force Factor",
          "Nutrivein",
          "Garden of Life",
          "NatureBell",
          "Esentai"
         ],
         "xaxis": "x",
         "y": [
          800,
          113,
          184,
          383,
          270,
          363,
          364
         ],
         "yaxis": "y"
        }
       ],
       "layout": {
        "barmode": "relative",
        "legend": {
         "tracegroupgap": 0
        },
        "margin": {
         "t": 60
        },
        "template": {
         "data": {
          "bar": [
           {
            "error_x": {
             "color": "#2a3f5f"
            },
            "error_y": {
             "color": "#2a3f5f"
            },
            "marker": {
             "line": {
              "color": "#E5ECF6",
              "width": 0.5
             },
             "pattern": {
              "fillmode": "overlay",
              "size": 10,
              "solidity": 0.2
             }
            },
            "type": "bar"
           }
          ],
          "barpolar": [
           {
            "marker": {
             "line": {
              "color": "#E5ECF6",
              "width": 0.5
             },
             "pattern": {
              "fillmode": "overlay",
              "size": 10,
              "solidity": 0.2
             }
            },
            "type": "barpolar"
           }
          ],
          "carpet": [
           {
            "aaxis": {
             "endlinecolor": "#2a3f5f",
             "gridcolor": "white",
             "linecolor": "white",
             "minorgridcolor": "white",
             "startlinecolor": "#2a3f5f"
            },
            "baxis": {
             "endlinecolor": "#2a3f5f",
             "gridcolor": "white",
             "linecolor": "white",
             "minorgridcolor": "white",
             "startlinecolor": "#2a3f5f"
            },
            "type": "carpet"
           }
          ],
          "choropleth": [
           {
            "colorbar": {
             "outlinewidth": 0,
             "ticks": ""
            },
            "type": "choropleth"
           }
          ],
          "contour": [
           {
            "colorbar": {
             "outlinewidth": 0,
             "ticks": ""
            },
            "colorscale": [
             [
              0,
              "#0d0887"
             ],
             [
              0.1111111111111111,
              "#46039f"
             ],
             [
              0.2222222222222222,
              "#7201a8"
             ],
             [
              0.3333333333333333,
              "#9c179e"
             ],
             [
              0.4444444444444444,
              "#bd3786"
             ],
             [
              0.5555555555555556,
              "#d8576b"
             ],
             [
              0.6666666666666666,
              "#ed7953"
             ],
             [
              0.7777777777777778,
              "#fb9f3a"
             ],
             [
              0.8888888888888888,
              "#fdca26"
             ],
             [
              1,
              "#f0f921"
             ]
            ],
            "type": "contour"
           }
          ],
          "contourcarpet": [
           {
            "colorbar": {
             "outlinewidth": 0,
             "ticks": ""
            },
            "type": "contourcarpet"
           }
          ],
          "heatmap": [
           {
            "colorbar": {
             "outlinewidth": 0,
             "ticks": ""
            },
            "colorscale": [
             [
              0,
              "#0d0887"
             ],
             [
              0.1111111111111111,
              "#46039f"
             ],
             [
              0.2222222222222222,
              "#7201a8"
             ],
             [
              0.3333333333333333,
              "#9c179e"
             ],
             [
              0.4444444444444444,
              "#bd3786"
             ],
             [
              0.5555555555555556,
              "#d8576b"
             ],
             [
              0.6666666666666666,
              "#ed7953"
             ],
             [
              0.7777777777777778,
              "#fb9f3a"
             ],
             [
              0.8888888888888888,
              "#fdca26"
             ],
             [
              1,
              "#f0f921"
             ]
            ],
            "type": "heatmap"
           }
          ],
          "heatmapgl": [
           {
            "colorbar": {
             "outlinewidth": 0,
             "ticks": ""
            },
            "colorscale": [
             [
              0,
              "#0d0887"
             ],
             [
              0.1111111111111111,
              "#46039f"
             ],
             [
              0.2222222222222222,
              "#7201a8"
             ],
             [
              0.3333333333333333,
              "#9c179e"
             ],
             [
              0.4444444444444444,
              "#bd3786"
             ],
             [
              0.5555555555555556,
              "#d8576b"
             ],
             [
              0.6666666666666666,
              "#ed7953"
             ],
             [
              0.7777777777777778,
              "#fb9f3a"
             ],
             [
              0.8888888888888888,
              "#fdca26"
             ],
             [
              1,
              "#f0f921"
             ]
            ],
            "type": "heatmapgl"
           }
          ],
          "histogram": [
           {
            "marker": {
             "pattern": {
              "fillmode": "overlay",
              "size": 10,
              "solidity": 0.2
             }
            },
            "type": "histogram"
           }
          ],
          "histogram2d": [
           {
            "colorbar": {
             "outlinewidth": 0,
             "ticks": ""
            },
            "colorscale": [
             [
              0,
              "#0d0887"
             ],
             [
              0.1111111111111111,
              "#46039f"
             ],
             [
              0.2222222222222222,
              "#7201a8"
             ],
             [
              0.3333333333333333,
              "#9c179e"
             ],
             [
              0.4444444444444444,
              "#bd3786"
             ],
             [
              0.5555555555555556,
              "#d8576b"
             ],
             [
              0.6666666666666666,
              "#ed7953"
             ],
             [
              0.7777777777777778,
              "#fb9f3a"
             ],
             [
              0.8888888888888888,
              "#fdca26"
             ],
             [
              1,
              "#f0f921"
             ]
            ],
            "type": "histogram2d"
           }
          ],
          "histogram2dcontour": [
           {
            "colorbar": {
             "outlinewidth": 0,
             "ticks": ""
            },
            "colorscale": [
             [
              0,
              "#0d0887"
             ],
             [
              0.1111111111111111,
              "#46039f"
             ],
             [
              0.2222222222222222,
              "#7201a8"
             ],
             [
              0.3333333333333333,
              "#9c179e"
             ],
             [
              0.4444444444444444,
              "#bd3786"
             ],
             [
              0.5555555555555556,
              "#d8576b"
             ],
             [
              0.6666666666666666,
              "#ed7953"
             ],
             [
              0.7777777777777778,
              "#fb9f3a"
             ],
             [
              0.8888888888888888,
              "#fdca26"
             ],
             [
              1,
              "#f0f921"
             ]
            ],
            "type": "histogram2dcontour"
           }
          ],
          "mesh3d": [
           {
            "colorbar": {
             "outlinewidth": 0,
             "ticks": ""
            },
            "type": "mesh3d"
           }
          ],
          "parcoords": [
           {
            "line": {
             "colorbar": {
              "outlinewidth": 0,
              "ticks": ""
             }
            },
            "type": "parcoords"
           }
          ],
          "pie": [
           {
            "automargin": true,
            "type": "pie"
           }
          ],
          "scatter": [
           {
            "marker": {
             "colorbar": {
              "outlinewidth": 0,
              "ticks": ""
             }
            },
            "type": "scatter"
           }
          ],
          "scatter3d": [
           {
            "line": {
             "colorbar": {
              "outlinewidth": 0,
              "ticks": ""
             }
            },
            "marker": {
             "colorbar": {
              "outlinewidth": 0,
              "ticks": ""
             }
            },
            "type": "scatter3d"
           }
          ],
          "scattercarpet": [
           {
            "marker": {
             "colorbar": {
              "outlinewidth": 0,
              "ticks": ""
             }
            },
            "type": "scattercarpet"
           }
          ],
          "scattergeo": [
           {
            "marker": {
             "colorbar": {
              "outlinewidth": 0,
              "ticks": ""
             }
            },
            "type": "scattergeo"
           }
          ],
          "scattergl": [
           {
            "marker": {
             "colorbar": {
              "outlinewidth": 0,
              "ticks": ""
             }
            },
            "type": "scattergl"
           }
          ],
          "scattermapbox": [
           {
            "marker": {
             "colorbar": {
              "outlinewidth": 0,
              "ticks": ""
             }
            },
            "type": "scattermapbox"
           }
          ],
          "scatterpolar": [
           {
            "marker": {
             "colorbar": {
              "outlinewidth": 0,
              "ticks": ""
             }
            },
            "type": "scatterpolar"
           }
          ],
          "scatterpolargl": [
           {
            "marker": {
             "colorbar": {
              "outlinewidth": 0,
              "ticks": ""
             }
            },
            "type": "scatterpolargl"
           }
          ],
          "scatterternary": [
           {
            "marker": {
             "colorbar": {
              "outlinewidth": 0,
              "ticks": ""
             }
            },
            "type": "scatterternary"
           }
          ],
          "surface": [
           {
            "colorbar": {
             "outlinewidth": 0,
             "ticks": ""
            },
            "colorscale": [
             [
              0,
              "#0d0887"
             ],
             [
              0.1111111111111111,
              "#46039f"
             ],
             [
              0.2222222222222222,
              "#7201a8"
             ],
             [
              0.3333333333333333,
              "#9c179e"
             ],
             [
              0.4444444444444444,
              "#bd3786"
             ],
             [
              0.5555555555555556,
              "#d8576b"
             ],
             [
              0.6666666666666666,
              "#ed7953"
             ],
             [
              0.7777777777777778,
              "#fb9f3a"
             ],
             [
              0.8888888888888888,
              "#fdca26"
             ],
             [
              1,
              "#f0f921"
             ]
            ],
            "type": "surface"
           }
          ],
          "table": [
           {
            "cells": {
             "fill": {
              "color": "#EBF0F8"
             },
             "line": {
              "color": "white"
             }
            },
            "header": {
             "fill": {
              "color": "#C8D4E3"
             },
             "line": {
              "color": "white"
             }
            },
            "type": "table"
           }
          ]
         },
         "layout": {
          "annotationdefaults": {
           "arrowcolor": "#2a3f5f",
           "arrowhead": 0,
           "arrowwidth": 1
          },
          "autotypenumbers": "strict",
          "coloraxis": {
           "colorbar": {
            "outlinewidth": 0,
            "ticks": ""
           }
          },
          "colorscale": {
           "diverging": [
            [
             0,
             "#8e0152"
            ],
            [
             0.1,
             "#c51b7d"
            ],
            [
             0.2,
             "#de77ae"
            ],
            [
             0.3,
             "#f1b6da"
            ],
            [
             0.4,
             "#fde0ef"
            ],
            [
             0.5,
             "#f7f7f7"
            ],
            [
             0.6,
             "#e6f5d0"
            ],
            [
             0.7,
             "#b8e186"
            ],
            [
             0.8,
             "#7fbc41"
            ],
            [
             0.9,
             "#4d9221"
            ],
            [
             1,
             "#276419"
            ]
           ],
           "sequential": [
            [
             0,
             "#0d0887"
            ],
            [
             0.1111111111111111,
             "#46039f"
            ],
            [
             0.2222222222222222,
             "#7201a8"
            ],
            [
             0.3333333333333333,
             "#9c179e"
            ],
            [
             0.4444444444444444,
             "#bd3786"
            ],
            [
             0.5555555555555556,
             "#d8576b"
            ],
            [
             0.6666666666666666,
             "#ed7953"
            ],
            [
             0.7777777777777778,
             "#fb9f3a"
            ],
            [
             0.8888888888888888,
             "#fdca26"
            ],
            [
             1,
             "#f0f921"
            ]
           ],
           "sequentialminus": [
            [
             0,
             "#0d0887"
            ],
            [
             0.1111111111111111,
             "#46039f"
            ],
            [
             0.2222222222222222,
             "#7201a8"
            ],
            [
             0.3333333333333333,
             "#9c179e"
            ],
            [
             0.4444444444444444,
             "#bd3786"
            ],
            [
             0.5555555555555556,
             "#d8576b"
            ],
            [
             0.6666666666666666,
             "#ed7953"
            ],
            [
             0.7777777777777778,
             "#fb9f3a"
            ],
            [
             0.8888888888888888,
             "#fdca26"
            ],
            [
             1,
             "#f0f921"
            ]
           ]
          },
          "colorway": [
           "#636efa",
           "#EF553B",
           "#00cc96",
           "#ab63fa",
           "#FFA15A",
           "#19d3f3",
           "#FF6692",
           "#B6E880",
           "#FF97FF",
           "#FECB52"
          ],
          "font": {
           "color": "#2a3f5f"
          },
          "geo": {
           "bgcolor": "white",
           "lakecolor": "white",
           "landcolor": "#E5ECF6",
           "showlakes": true,
           "showland": true,
           "subunitcolor": "white"
          },
          "hoverlabel": {
           "align": "left"
          },
          "hovermode": "closest",
          "mapbox": {
           "style": "light"
          },
          "paper_bgcolor": "white",
          "plot_bgcolor": "#E5ECF6",
          "polar": {
           "angularaxis": {
            "gridcolor": "white",
            "linecolor": "white",
            "ticks": ""
           },
           "bgcolor": "#E5ECF6",
           "radialaxis": {
            "gridcolor": "white",
            "linecolor": "white",
            "ticks": ""
           }
          },
          "scene": {
           "xaxis": {
            "backgroundcolor": "#E5ECF6",
            "gridcolor": "white",
            "gridwidth": 2,
            "linecolor": "white",
            "showbackground": true,
            "ticks": "",
            "zerolinecolor": "white"
           },
           "yaxis": {
            "backgroundcolor": "#E5ECF6",
            "gridcolor": "white",
            "gridwidth": 2,
            "linecolor": "white",
            "showbackground": true,
            "ticks": "",
            "zerolinecolor": "white"
           },
           "zaxis": {
            "backgroundcolor": "#E5ECF6",
            "gridcolor": "white",
            "gridwidth": 2,
            "linecolor": "white",
            "showbackground": true,
            "ticks": "",
            "zerolinecolor": "white"
           }
          },
          "shapedefaults": {
           "line": {
            "color": "#2a3f5f"
           }
          },
          "ternary": {
           "aaxis": {
            "gridcolor": "white",
            "linecolor": "white",
            "ticks": ""
           },
           "baxis": {
            "gridcolor": "white",
            "linecolor": "white",
            "ticks": ""
           },
           "bgcolor": "#E5ECF6",
           "caxis": {
            "gridcolor": "white",
            "linecolor": "white",
            "ticks": ""
           }
          },
          "title": {
           "x": 0.05
          },
          "xaxis": {
           "automargin": true,
           "gridcolor": "white",
           "linecolor": "white",
           "ticks": "",
           "title": {
            "standoff": 15
           },
           "zerolinecolor": "white",
           "zerolinewidth": 2
          },
          "yaxis": {
           "automargin": true,
           "gridcolor": "white",
           "linecolor": "white",
           "ticks": "",
           "title": {
            "standoff": 15
           },
           "zerolinecolor": "white",
           "zerolinewidth": 2
          }
         }
        },
        "xaxis": {
         "anchor": "y",
         "domain": [
          0,
          1
         ],
         "title": {
          "text": "Brand"
         }
        },
        "yaxis": {
         "anchor": "x",
         "domain": [
          0,
          1
         ],
         "title": {
          "text": "sum of Sales Trend (90 days)"
         }
        }
       }
      },
      "text/html": [
       "<div>                            <div id=\"381c7707-56ee-41d2-8f1f-607fb9bc0026\" class=\"plotly-graph-div\" style=\"height:525px; width:100%;\"></div>            <script type=\"text/javascript\">                require([\"plotly\"], function(Plotly) {                    window.PLOTLYENV=window.PLOTLYENV || {};                                    if (document.getElementById(\"381c7707-56ee-41d2-8f1f-607fb9bc0026\")) {                    Plotly.newPlot(                        \"381c7707-56ee-41d2-8f1f-607fb9bc0026\",                        [{\"alignmentgroup\":\"True\",\"bingroup\":\"x\",\"histfunc\":\"sum\",\"hovertemplate\":\"Brand=%{x}<br>sum of Sales Trend (90 days)=%{y}<extra></extra>\",\"legendgroup\":\"\",\"marker\":{\"color\":\"#636efa\",\"pattern\":{\"shape\":\"\"}},\"name\":\"\",\"offsetgroup\":\"\",\"orientation\":\"v\",\"showlegend\":false,\"x\":[\"Micro Ingredients\",\"DEAL SUPPLEMENT\",\"Force Factor\",\"Nutrivein\",\"Garden of Life\",\"NatureBell\",\"Esentai\"],\"xaxis\":\"x\",\"y\":[800.0,113.0,184.0,383.0,270.0,363.0,364.0],\"yaxis\":\"y\",\"type\":\"histogram\"}],                        {\"template\":{\"data\":{\"bar\":[{\"error_x\":{\"color\":\"#2a3f5f\"},\"error_y\":{\"color\":\"#2a3f5f\"},\"marker\":{\"line\":{\"color\":\"#E5ECF6\",\"width\":0.5},\"pattern\":{\"fillmode\":\"overlay\",\"size\":10,\"solidity\":0.2}},\"type\":\"bar\"}],\"barpolar\":[{\"marker\":{\"line\":{\"color\":\"#E5ECF6\",\"width\":0.5},\"pattern\":{\"fillmode\":\"overlay\",\"size\":10,\"solidity\":0.2}},\"type\":\"barpolar\"}],\"carpet\":[{\"aaxis\":{\"endlinecolor\":\"#2a3f5f\",\"gridcolor\":\"white\",\"linecolor\":\"white\",\"minorgridcolor\":\"white\",\"startlinecolor\":\"#2a3f5f\"},\"baxis\":{\"endlinecolor\":\"#2a3f5f\",\"gridcolor\":\"white\",\"linecolor\":\"white\",\"minorgridcolor\":\"white\",\"startlinecolor\":\"#2a3f5f\"},\"type\":\"carpet\"}],\"choropleth\":[{\"colorbar\":{\"outlinewidth\":0,\"ticks\":\"\"},\"type\":\"choropleth\"}],\"contour\":[{\"colorbar\":{\"outlinewidth\":0,\"ticks\":\"\"},\"colorscale\":[[0.0,\"#0d0887\"],[0.1111111111111111,\"#46039f\"],[0.2222222222222222,\"#7201a8\"],[0.3333333333333333,\"#9c179e\"],[0.4444444444444444,\"#bd3786\"],[0.5555555555555556,\"#d8576b\"],[0.6666666666666666,\"#ed7953\"],[0.7777777777777778,\"#fb9f3a\"],[0.8888888888888888,\"#fdca26\"],[1.0,\"#f0f921\"]],\"type\":\"contour\"}],\"contourcarpet\":[{\"colorbar\":{\"outlinewidth\":0,\"ticks\":\"\"},\"type\":\"contourcarpet\"}],\"heatmap\":[{\"colorbar\":{\"outlinewidth\":0,\"ticks\":\"\"},\"colorscale\":[[0.0,\"#0d0887\"],[0.1111111111111111,\"#46039f\"],[0.2222222222222222,\"#7201a8\"],[0.3333333333333333,\"#9c179e\"],[0.4444444444444444,\"#bd3786\"],[0.5555555555555556,\"#d8576b\"],[0.6666666666666666,\"#ed7953\"],[0.7777777777777778,\"#fb9f3a\"],[0.8888888888888888,\"#fdca26\"],[1.0,\"#f0f921\"]],\"type\":\"heatmap\"}],\"heatmapgl\":[{\"colorbar\":{\"outlinewidth\":0,\"ticks\":\"\"},\"colorscale\":[[0.0,\"#0d0887\"],[0.1111111111111111,\"#46039f\"],[0.2222222222222222,\"#7201a8\"],[0.3333333333333333,\"#9c179e\"],[0.4444444444444444,\"#bd3786\"],[0.5555555555555556,\"#d8576b\"],[0.6666666666666666,\"#ed7953\"],[0.7777777777777778,\"#fb9f3a\"],[0.8888888888888888,\"#fdca26\"],[1.0,\"#f0f921\"]],\"type\":\"heatmapgl\"}],\"histogram\":[{\"marker\":{\"pattern\":{\"fillmode\":\"overlay\",\"size\":10,\"solidity\":0.2}},\"type\":\"histogram\"}],\"histogram2d\":[{\"colorbar\":{\"outlinewidth\":0,\"ticks\":\"\"},\"colorscale\":[[0.0,\"#0d0887\"],[0.1111111111111111,\"#46039f\"],[0.2222222222222222,\"#7201a8\"],[0.3333333333333333,\"#9c179e\"],[0.4444444444444444,\"#bd3786\"],[0.5555555555555556,\"#d8576b\"],[0.6666666666666666,\"#ed7953\"],[0.7777777777777778,\"#fb9f3a\"],[0.8888888888888888,\"#fdca26\"],[1.0,\"#f0f921\"]],\"type\":\"histogram2d\"}],\"histogram2dcontour\":[{\"colorbar\":{\"outlinewidth\":0,\"ticks\":\"\"},\"colorscale\":[[0.0,\"#0d0887\"],[0.1111111111111111,\"#46039f\"],[0.2222222222222222,\"#7201a8\"],[0.3333333333333333,\"#9c179e\"],[0.4444444444444444,\"#bd3786\"],[0.5555555555555556,\"#d8576b\"],[0.6666666666666666,\"#ed7953\"],[0.7777777777777778,\"#fb9f3a\"],[0.8888888888888888,\"#fdca26\"],[1.0,\"#f0f921\"]],\"type\":\"histogram2dcontour\"}],\"mesh3d\":[{\"colorbar\":{\"outlinewidth\":0,\"ticks\":\"\"},\"type\":\"mesh3d\"}],\"parcoords\":[{\"line\":{\"colorbar\":{\"outlinewidth\":0,\"ticks\":\"\"}},\"type\":\"parcoords\"}],\"pie\":[{\"automargin\":true,\"type\":\"pie\"}],\"scatter\":[{\"marker\":{\"colorbar\":{\"outlinewidth\":0,\"ticks\":\"\"}},\"type\":\"scatter\"}],\"scatter3d\":[{\"line\":{\"colorbar\":{\"outlinewidth\":0,\"ticks\":\"\"}},\"marker\":{\"colorbar\":{\"outlinewidth\":0,\"ticks\":\"\"}},\"type\":\"scatter3d\"}],\"scattercarpet\":[{\"marker\":{\"colorbar\":{\"outlinewidth\":0,\"ticks\":\"\"}},\"type\":\"scattercarpet\"}],\"scattergeo\":[{\"marker\":{\"colorbar\":{\"outlinewidth\":0,\"ticks\":\"\"}},\"type\":\"scattergeo\"}],\"scattergl\":[{\"marker\":{\"colorbar\":{\"outlinewidth\":0,\"ticks\":\"\"}},\"type\":\"scattergl\"}],\"scattermapbox\":[{\"marker\":{\"colorbar\":{\"outlinewidth\":0,\"ticks\":\"\"}},\"type\":\"scattermapbox\"}],\"scatterpolar\":[{\"marker\":{\"colorbar\":{\"outlinewidth\":0,\"ticks\":\"\"}},\"type\":\"scatterpolar\"}],\"scatterpolargl\":[{\"marker\":{\"colorbar\":{\"outlinewidth\":0,\"ticks\":\"\"}},\"type\":\"scatterpolargl\"}],\"scatterternary\":[{\"marker\":{\"colorbar\":{\"outlinewidth\":0,\"ticks\":\"\"}},\"type\":\"scatterternary\"}],\"surface\":[{\"colorbar\":{\"outlinewidth\":0,\"ticks\":\"\"},\"colorscale\":[[0.0,\"#0d0887\"],[0.1111111111111111,\"#46039f\"],[0.2222222222222222,\"#7201a8\"],[0.3333333333333333,\"#9c179e\"],[0.4444444444444444,\"#bd3786\"],[0.5555555555555556,\"#d8576b\"],[0.6666666666666666,\"#ed7953\"],[0.7777777777777778,\"#fb9f3a\"],[0.8888888888888888,\"#fdca26\"],[1.0,\"#f0f921\"]],\"type\":\"surface\"}],\"table\":[{\"cells\":{\"fill\":{\"color\":\"#EBF0F8\"},\"line\":{\"color\":\"white\"}},\"header\":{\"fill\":{\"color\":\"#C8D4E3\"},\"line\":{\"color\":\"white\"}},\"type\":\"table\"}]},\"layout\":{\"annotationdefaults\":{\"arrowcolor\":\"#2a3f5f\",\"arrowhead\":0,\"arrowwidth\":1},\"autotypenumbers\":\"strict\",\"coloraxis\":{\"colorbar\":{\"outlinewidth\":0,\"ticks\":\"\"}},\"colorscale\":{\"diverging\":[[0,\"#8e0152\"],[0.1,\"#c51b7d\"],[0.2,\"#de77ae\"],[0.3,\"#f1b6da\"],[0.4,\"#fde0ef\"],[0.5,\"#f7f7f7\"],[0.6,\"#e6f5d0\"],[0.7,\"#b8e186\"],[0.8,\"#7fbc41\"],[0.9,\"#4d9221\"],[1,\"#276419\"]],\"sequential\":[[0.0,\"#0d0887\"],[0.1111111111111111,\"#46039f\"],[0.2222222222222222,\"#7201a8\"],[0.3333333333333333,\"#9c179e\"],[0.4444444444444444,\"#bd3786\"],[0.5555555555555556,\"#d8576b\"],[0.6666666666666666,\"#ed7953\"],[0.7777777777777778,\"#fb9f3a\"],[0.8888888888888888,\"#fdca26\"],[1.0,\"#f0f921\"]],\"sequentialminus\":[[0.0,\"#0d0887\"],[0.1111111111111111,\"#46039f\"],[0.2222222222222222,\"#7201a8\"],[0.3333333333333333,\"#9c179e\"],[0.4444444444444444,\"#bd3786\"],[0.5555555555555556,\"#d8576b\"],[0.6666666666666666,\"#ed7953\"],[0.7777777777777778,\"#fb9f3a\"],[0.8888888888888888,\"#fdca26\"],[1.0,\"#f0f921\"]]},\"colorway\":[\"#636efa\",\"#EF553B\",\"#00cc96\",\"#ab63fa\",\"#FFA15A\",\"#19d3f3\",\"#FF6692\",\"#B6E880\",\"#FF97FF\",\"#FECB52\"],\"font\":{\"color\":\"#2a3f5f\"},\"geo\":{\"bgcolor\":\"white\",\"lakecolor\":\"white\",\"landcolor\":\"#E5ECF6\",\"showlakes\":true,\"showland\":true,\"subunitcolor\":\"white\"},\"hoverlabel\":{\"align\":\"left\"},\"hovermode\":\"closest\",\"mapbox\":{\"style\":\"light\"},\"paper_bgcolor\":\"white\",\"plot_bgcolor\":\"#E5ECF6\",\"polar\":{\"angularaxis\":{\"gridcolor\":\"white\",\"linecolor\":\"white\",\"ticks\":\"\"},\"bgcolor\":\"#E5ECF6\",\"radialaxis\":{\"gridcolor\":\"white\",\"linecolor\":\"white\",\"ticks\":\"\"}},\"scene\":{\"xaxis\":{\"backgroundcolor\":\"#E5ECF6\",\"gridcolor\":\"white\",\"gridwidth\":2,\"linecolor\":\"white\",\"showbackground\":true,\"ticks\":\"\",\"zerolinecolor\":\"white\"},\"yaxis\":{\"backgroundcolor\":\"#E5ECF6\",\"gridcolor\":\"white\",\"gridwidth\":2,\"linecolor\":\"white\",\"showbackground\":true,\"ticks\":\"\",\"zerolinecolor\":\"white\"},\"zaxis\":{\"backgroundcolor\":\"#E5ECF6\",\"gridcolor\":\"white\",\"gridwidth\":2,\"linecolor\":\"white\",\"showbackground\":true,\"ticks\":\"\",\"zerolinecolor\":\"white\"}},\"shapedefaults\":{\"line\":{\"color\":\"#2a3f5f\"}},\"ternary\":{\"aaxis\":{\"gridcolor\":\"white\",\"linecolor\":\"white\",\"ticks\":\"\"},\"baxis\":{\"gridcolor\":\"white\",\"linecolor\":\"white\",\"ticks\":\"\"},\"bgcolor\":\"#E5ECF6\",\"caxis\":{\"gridcolor\":\"white\",\"linecolor\":\"white\",\"ticks\":\"\"}},\"title\":{\"x\":0.05},\"xaxis\":{\"automargin\":true,\"gridcolor\":\"white\",\"linecolor\":\"white\",\"ticks\":\"\",\"title\":{\"standoff\":15},\"zerolinecolor\":\"white\",\"zerolinewidth\":2},\"yaxis\":{\"automargin\":true,\"gridcolor\":\"white\",\"linecolor\":\"white\",\"ticks\":\"\",\"title\":{\"standoff\":15},\"zerolinecolor\":\"white\",\"zerolinewidth\":2}}},\"xaxis\":{\"anchor\":\"y\",\"domain\":[0.0,1.0],\"title\":{\"text\":\"Brand\"}},\"yaxis\":{\"anchor\":\"x\",\"domain\":[0.0,1.0],\"title\":{\"text\":\"sum of Sales Trend (90 days)\"}},\"legend\":{\"tracegroupgap\":0},\"margin\":{\"t\":60},\"barmode\":\"relative\"},                        {\"responsive\": true}                    ).then(function(){\n",
       "                            \n",
       "var gd = document.getElementById('381c7707-56ee-41d2-8f1f-607fb9bc0026');\n",
       "var x = new MutationObserver(function (mutations, observer) {{\n",
       "        var display = window.getComputedStyle(gd).display;\n",
       "        if (!display || display === 'none') {{\n",
       "            console.log([gd, 'removed!']);\n",
       "            Plotly.purge(gd);\n",
       "            observer.disconnect();\n",
       "        }}\n",
       "}});\n",
       "\n",
       "// Listen for the removal of the full notebook cells\n",
       "var notebookContainer = gd.closest('#notebook-container');\n",
       "if (notebookContainer) {{\n",
       "    x.observe(notebookContainer, {childList: true});\n",
       "}}\n",
       "\n",
       "// Listen for the clearing of the current output cell\n",
       "var outputEl = gd.closest('.output');\n",
       "if (outputEl) {{\n",
       "    x.observe(outputEl, {childList: true});\n",
       "}}\n",
       "\n",
       "                        })                };                });            </script>        </div>"
      ]
     },
     "metadata": {},
     "output_type": "display_data"
    }
   ],
   "source": [
    "fig = px.histogram(df4, x='Brand', y='Sales Trend (90 days)')\n",
    "fig.show()"
   ]
  },
  {
   "cell_type": "markdown",
   "id": "12df2031",
   "metadata": {},
   "source": [
    "## Только у 7 компаний рост был 100% и более "
   ]
  },
  {
   "cell_type": "code",
   "execution_count": null,
   "id": "cda07aed",
   "metadata": {},
   "outputs": [],
   "source": []
  }
 ],
 "metadata": {
  "kernelspec": {
   "display_name": "Python 3 (ipykernel)",
   "language": "python",
   "name": "python3"
  },
  "language_info": {
   "codemirror_mode": {
    "name": "ipython",
    "version": 3
   },
   "file_extension": ".py",
   "mimetype": "text/x-python",
   "name": "python",
   "nbconvert_exporter": "python",
   "pygments_lexer": "ipython3",
   "version": "3.9.12"
  }
 },
 "nbformat": 4,
 "nbformat_minor": 5
}
